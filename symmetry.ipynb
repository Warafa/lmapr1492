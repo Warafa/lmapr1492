{
 "cells": [
  {
   "cell_type": "markdown",
   "id": "71b169fc",
   "metadata": {},
   "source": [
    "# Eléments de symmétrie du cristal de $Sr_2NCl$ \n"
   ]
  },
  {
   "cell_type": "code",
   "execution_count": 262,
   "id": "bec439ca",
   "metadata": {},
   "outputs": [],
   "source": [
    "import numpy as np\n",
    "import plotly.graph_objects as go\n",
    "from plotly.subplots import make_subplots\n",
    "from mp_api.client import MPRester\n",
    "from jupyter_jsmol.pymatgen import quick_view\n",
    "from pymatgen.symmetry.analyzer import SpacegroupAnalyzer\n",
    "from jupyter_jsmol import JsmolView\n",
    "from ipywidgets import Layout, widgets, interact\n",
    "from IPython.display import display"
   ]
  },
  {
   "cell_type": "code",
   "execution_count": 263,
   "id": "05276238",
   "metadata": {},
   "outputs": [
    {
     "data": {
      "application/vnd.jupyter.widget-view+json": {
       "model_id": "f826ef43e986473a99770d1fca259ab0",
       "version_major": 2,
       "version_minor": 0
      },
      "text/plain": [
       "Retrieving MaterialsDoc documents:   0%|          | 0/1 [00:00<?, ?it/s]"
      ]
     },
     "metadata": {},
     "output_type": "display_data"
    }
   ],
   "source": [
    "mp_key =\"iX81lxwugQ7QfGznstwLyMrndo3WUZbE\"\n",
    "mp_id = \"mp-23033\"\n",
    "\n",
    "with MPRester(mp_key) as m:\n",
    "    prim_struc = m.get_structure_by_material_id(mp_id)\n",
    "    \n",
    "conv_struc = SpacegroupAnalyzer(prim_struc).get_conventional_standard_structure() # maille conventionnelle\n",
    "symmops = SpacegroupAnalyzer(conv_struc).get_space_group_operations() #ensemble des opérations de symétries"
   ]
  },
  {
   "cell_type": "markdown",
   "id": "2895b2a2",
   "metadata": {},
   "source": [
    "## 1. Introduction\n",
    "Ce notebook nous permettra d'analyser et de visualiser trois éléments de symétries du cristal de $Sr_2NCl$ formé par une maille trigonale rhomboédrique.  \n",
    "\n",
    "Ce cristal fait partie du groupe d’espace $R\\bar{3}m$ et contient 36 éléments de symétries.  \n",
    "\n",
    "Pour faciliter la visualisation, les transformations seront représentées dans la maille conventionnelle.\n",
    "\n",
    "Les atomes subbissant la transformation seront marqué d'un repère et les flèches de transformations seront appliquées dessus. Les transformations peuvent sortir de la maille mais l'atome équivalent dans celle-ci sera lui aussi marqué d'un repère.\n",
    "\n"
   ]
  },
  {
   "cell_type": "code",
   "execution_count": 264,
   "id": "461c8a43",
   "metadata": {
    "scrolled": true
   },
   "outputs": [
    {
     "name": "stdout",
     "output_type": "stream",
     "text": [
      "Groupe d'espace   :  R-3m (166) spacegroup \n",
      "\n",
      "Nombre de symmétrie :  36 \n",
      "\n"
     ]
    }
   ],
   "source": [
    "print( \"Groupe d'espace   : \" , symmops,\"\\n\")\n",
    "print(\"Nombre de symmétrie : \" , len(symmops),\"\\n\")\n"
   ]
  },
  {
   "cell_type": "markdown",
   "id": "919f7ffe",
   "metadata": {},
   "source": [
    "## 2.Rotation"
   ]
  },
  {
   "cell_type": "code",
   "execution_count": 266,
   "id": "974d999d",
   "metadata": {},
   "outputs": [
    {
     "name": "stdout",
     "output_type": "stream",
     "text": [
      "Rot:\n",
      "[[-1.  0.  0.]\n",
      " [-1.  1.  0.]\n",
      " [ 0.  0. -1.]]\n",
      "tau\n",
      "[0. 0. 0.]\n",
      "\n",
      "\n",
      "Position initiale de l'atome : [1.  1.  0.5]\n",
      "Position finale de l'atome : [-1.00000000e+00 -1.11022302e-16 -5.00000000e-01]\n"
     ]
    },
    {
     "data": {
      "application/vnd.jupyter.widget-view+json": {
       "model_id": "33b708ca1ec04ca4b7afe77f542ddf00",
       "version_major": 2,
       "version_minor": 0
      },
      "text/plain": [
       "JsmolView(layout=Layout(align_self='stretch', height='400px'))"
      ]
     },
     "metadata": {},
     "output_type": "display_data"
    }
   ],
   "source": [
    "\n",
    "i_atom = 27\n",
    "i_symmop = 10\n",
    "symmop = symmops[i_symmop]\n",
    "print(symmop)\n",
    "print(\"\\n\")\n",
    "\n",
    "\n",
    "\n",
    "pos_init = conv_struc.sites[7].frac_coords\n",
    "pos_final = symmop.operate(pos_init)\n",
    "print(\"Position initiale de l'atome : \" + str(pos_init))\n",
    "print(\"Position finale de l'atome : \" + str(pos_final))\n",
    "\n",
    "conv_view = quick_view(conv_struc, \"packed\", conventional = True)\n",
    "display(conv_view)\n",
    "\n",
    "\n",
    "conv_view.script('select strontium; color lightblue')\n",
    "conv_view.script('select nitrogen; color lightgreen')\n",
    "conv_view.script('select chlorine; color orange')\n",
    "\n",
    "conv_view.script('draw SYMOP ' + str(i_symmop + 1) + ' {atomno = ' + str(i_atom) + '}')\n"
   ]
  },
  {
   "cell_type": "markdown",
   "id": "2c67f9b0",
   "metadata": {},
   "source": [
    "### Commentaire : \n",
    "\n",
    "On observe une symétrie de rotation d'ordre 2 ($C_2$).  \n",
    "\n",
    "En effet, $\\tau$, la matrice de translation, est nulle, indiquant une symétrie ponctuelle.  \n",
    "\n",
    "Ensuite, posons $R$ comme la matrice de rotation. Son déterminant, qui vaut 1, nous indique que c'est une transformation de première espèce, n'inversant pas la chiralité. De plus, puisque $R^2 = I$, avec $I$ la matrice identité, appliquer deux fois la rotation revient à l'opération neutre. Nous avons donc un axe d'ordre 2.  \n",
    "\n",
    "Enfin, l'axe de rotation est $[0 \\ 1 \\ 0]$."
   ]
  },
  {
   "cell_type": "markdown",
   "id": "d20a193f",
   "metadata": {},
   "source": [
    "## 3. Rotoinversion"
   ]
  },
  {
   "cell_type": "code",
   "execution_count": 288,
   "id": "8178eedf",
   "metadata": {
    "scrolled": true
   },
   "outputs": [
    {
     "name": "stdout",
     "output_type": "stream",
     "text": [
      "Rot:\n",
      "[[ 0.  1.  0.]\n",
      " [-1.  1.  0.]\n",
      " [ 0.  0. -1.]]\n",
      "tau\n",
      "[0. 0. 0.]\n",
      "\n",
      "\n",
      "Position initiale de l'atome : [0.33333333 0.66666667 0.89706801]\n",
      "Position finale de l'atome : [ 0.66666667  0.33333333 -0.89706801]\n"
     ]
    },
    {
     "data": {
      "application/vnd.jupyter.widget-view+json": {
       "model_id": "577a789e18bd4e43b63933ee27a3e838",
       "version_major": 2,
       "version_minor": 0
      },
      "text/plain": [
       "JsmolView(layout=Layout(align_self='stretch', height='400px'))"
      ]
     },
     "metadata": {},
     "output_type": "display_data"
    }
   ],
   "source": [
    "i_atom= 10\n",
    "i_symmop = 3\n",
    "symmop = symmops[i_symmop]\n",
    "print(symmop)\n",
    "print(\"\\n\")\n",
    "\n",
    "\n",
    "pos_init = conv_struc.sites[5].frac_coords\n",
    "pos_final = symmop.operate(pos_init)\n",
    "print(\"Position initiale de l'atome : \" + str(pos_init))\n",
    "print(\"Position finale de l'atome : \" + str(pos_final))\n",
    "\n",
    "conv_view = quick_view(conv_struc, \"packed\", conventional = True)\n",
    "display(conv_view)\n",
    "\n",
    "\n",
    "conv_view.script('select strontium; color lightblue')\n",
    "conv_view.script('select nitrogen; color lightgreen')\n",
    "conv_view.script('select chlorine; color orange')\n",
    "\n",
    "conv_view.script('draw SYMOP ' + str(i_symmop + 1) + ' {atomno = ' + str(i_atom) + '}')"
   ]
  },
  {
   "cell_type": "markdown",
   "id": "8232616e",
   "metadata": {},
   "source": [
    "### Commentaire : \n",
    "\n",
    "On observe une symétrie de roto-inversion d'ordre 3 ($\\bar{C_3}$).  \n",
    "\n",
    "Tout d'abord, la matrice de translation nulle indique une symétrie ponctuelle.  \n",
    "\n",
    "Ensuite, le déterminant, qui vaut $-1$, témoigne de la symétrie d'inversion. C'est une opération de seconde espèce qui inverse la chiralité.  \n",
    "\n",
    "De plus, si nous décomposons la matrice de roto-inversion comme suit :  \n",
    "$$\\mathbf{A} = -\\mathbf{I} \\cdot \\mathbf{R}$$  \n",
    "avec $\\mathbf{I}$ la matrice identité et $\\mathbf{R}$ la matrice de rotation, on a :  \n",
    "$$\\mathbf{R}^3 = \\mathbf{I}.$$  \n",
    "On a donc un axe d'ordre 3.  \n",
    "\n",
    "Enfin, l'axe de rotation est : $[0 \\ 0 \\ 1].$ "
   ]
  },
  {
   "cell_type": "markdown",
   "id": "dc5454ae",
   "metadata": {},
   "source": [
    "## 4. Symmétrie spatiale"
   ]
  },
  {
   "cell_type": "code",
   "execution_count": 296,
   "id": "962b8f68",
   "metadata": {},
   "outputs": [
    {
     "name": "stdout",
     "output_type": "stream",
     "text": [
      "Rot:\n",
      "[[-1.  0.  0.]\n",
      " [-1.  1.  0.]\n",
      " [ 0.  0. -1.]]\n",
      "tau\n",
      "[0.66666667 0.33333333 0.33333333]\n",
      "\n",
      "\n",
      "Position initiale de l'atome : [0. 0. 0.]\n",
      "Position finale de l'atome : [0.66666667 0.33333333 0.33333333]\n"
     ]
    },
    {
     "data": {
      "application/vnd.jupyter.widget-view+json": {
       "model_id": "5a68f2da0a1a451182e332a24172d247",
       "version_major": 2,
       "version_minor": 0
      },
      "text/plain": [
       "JsmolView(layout=Layout(align_self='stretch', height='400px'))"
      ]
     },
     "metadata": {},
     "output_type": "display_data"
    }
   ],
   "source": [
    "i_atom= 3\n",
    "i_symmop = 22\n",
    "symmop = symmops[i_symmop]\n",
    "print(symmop)\n",
    "print(\"\\n\")\n",
    "\n",
    "pos_init = conv_struc.sites[9].frac_coords\n",
    "pos_final = symmop.operate(pos_init)\n",
    "print(\"Position initiale de l'atome : \" + str(pos_init))\n",
    "print(\"Position finale de l'atome : \" + str(pos_final))\n",
    "\n",
    "conv_view = quick_view(conv_struc, \"packed\", conventional = True)\n",
    "display(conv_view)\n",
    "\n",
    "\n",
    "conv_view.script('select strontium; color lightblue')\n",
    "conv_view.script('select nitrogen; color lightgreen')\n",
    "conv_view.script('select chlorine; color orange')\n",
    "\n",
    "conv_view.script('draw SYMOP ' + str(i_symmop+1 ) + ' {atomno = ' + str(i_atom) + '}')"
   ]
  },
  {
   "cell_type": "markdown",
   "id": "651b9b54",
   "metadata": {},
   "source": [
    "### Commentaire : \n",
    "\n",
    "On observe que la matrice de translation est non nulle. Nous avons donc une symétrie spatiale.\n",
    "\n",
    "De la même manière que précédemment, nous pouvons analyser la matrice de rotation. Nous en déduisons qu'elle décrit une rotation d'ordre 2 autour de l'axe $[010]$.\n",
    "\n",
    "Nous remarquons que l'axe de rotation n'est pas parallèle à l'axe de translation $[\\frac{2}{3} \\ \\frac{1}{3} \\ \\frac{1}{3}]$. Nous n'avons donc pas de rotation hélicoïdale. Nous avons juste une combinaison de rotation et de translation.\n"
   ]
  }
 ],
 "metadata": {
  "kernelspec": {
   "display_name": "Python 3 (ipykernel)",
   "language": "python",
   "name": "python3"
  },
  "language_info": {
   "codemirror_mode": {
    "name": "ipython",
    "version": 3
   },
   "file_extension": ".py",
   "mimetype": "text/x-python",
   "name": "python",
   "nbconvert_exporter": "python",
   "pygments_lexer": "ipython3",
   "version": "3.9.13"
  }
 },
 "nbformat": 4,
 "nbformat_minor": 5
}
