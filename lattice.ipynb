{
 "cells": [
  {
   "cell_type": "markdown",
   "id": "c96f5a9c",
   "metadata": {},
   "source": [
    "# Etude du cristal de $Sr_2NCl$ "
   ]
  },
  {
   "cell_type": "code",
   "execution_count": 107,
   "id": "d1eefa80",
   "metadata": {},
   "outputs": [],
   "source": [
    "import numpy as np\n",
    "import plotly.graph_objects as go\n",
    "from plotly.subplots import make_subplots\n",
    "from mp_api.client import MPRester\n",
    "from jupyter_jsmol.pymatgen import quick_view\n",
    "from pymatgen.symmetry.analyzer import SpacegroupAnalyzer\n",
    "\n"
   ]
  },
  {
   "cell_type": "code",
   "execution_count": 108,
   "id": "bc9e0b81",
   "metadata": {},
   "outputs": [
    {
     "data": {
      "application/vnd.jupyter.widget-view+json": {
       "model_id": "35ea5829bab349ddabead3d280019805",
       "version_major": 2,
       "version_minor": 0
      },
      "text/plain": [
       "Retrieving MaterialsDoc documents:   0%|          | 0/1 [00:00<?, ?it/s]"
      ]
     },
     "metadata": {},
     "output_type": "display_data"
    }
   ],
   "source": [
    "mp_key =\"iX81lxwugQ7QfGznstwLyMrndo3WUZbE\"\n",
    "mp_id = \"mp-23033\"\n",
    "\n",
    "with MPRester(mp_key) as m:\n",
    "    prim_struc = m.get_structure_by_material_id(mp_id)\n",
    "    \n",
    "struc = SpacegroupAnalyzer(prim_struc)"
   ]
  },
  {
   "cell_type": "markdown",
   "id": "52d21b44",
   "metadata": {},
   "source": [
    "# 1. Réseau direct\n",
    "Le $Sr_2NCl$ fait partie du groupe spatial $R\\bar{3}m$. Le groupe ponctuel est donc $\\bar{3}m$. Ce groupe ponctuel est caractéristiques d'un système cristallin trigonal à résaux de bravais rhomboèdrique. Ces informations peuvent être retrouvé grâce à l'objet \"struc\"."
   ]
  },
  {
   "cell_type": "code",
   "execution_count": 109,
   "id": "f49b34c1",
   "metadata": {},
   "outputs": [
    {
     "name": "stdout",
     "output_type": "stream",
     "text": [
      "groupe ponctuel : -3m\n",
      " \n",
      "système cristallin : trigonal\n",
      " \n",
      "Réseau de Bravais : rhombohedral\n",
      " \n"
     ]
    }
   ],
   "source": [
    "print( \"groupe ponctuel : \" + struc.get_point_group_symbol() + \"\\n \" )\n",
    "print( \"système cristallin : \" + struc.get_crystal_system() + \"\\n \" )\n",
    "print(\"Réseau de Bravais : \" + struc.get_lattice_type() + \"\\n \" )"
   ]
  },
  {
   "cell_type": "markdown",
   "id": "e7f49d7a",
   "metadata": {},
   "source": [
    "\n",
    "## 1.1 Maille rhomboèdrique\n",
    "Les vecteurs de base de la maille rhomboèdrique sont tels que $||a|| = ||b|| = ||c|| $ avec les angles entre chaque vecteur tel que $\\alpha = \\beta = \\gamma \\neq 90°$. Ces informations sont comprises dans l'objet \"prim_struc\". On peut remarquer que cette maille n'est pas primitive. En effet, elle contient plusieurs noeuds dans son volume. \n"
   ]
  },
  {
   "cell_type": "code",
   "execution_count": 110,
   "id": "b3de1ef0",
   "metadata": {},
   "outputs": [
    {
     "name": "stdout",
     "output_type": "stream",
     "text": [
      "||a|| = 7.388981160575238 [Å]  ||b|| = 7.3889806676529775 [Å]  ||c|| = 7.388980805449994 [Å]  \n",
      "\n",
      " α =  30.548449005156705 [°]   β =  30.54845618233297 [°]  γ =  30.54845464709229 [°] \n"
     ]
    },
    {
     "data": {
      "application/vnd.jupyter.widget-view+json": {
       "model_id": "edfad3d42651493ca31eff5270518d90",
       "version_major": 2,
       "version_minor": 0
      },
      "text/plain": [
       "JsmolView(layout=Layout(align_self='stretch', height='400px'))"
      ]
     },
     "metadata": {},
     "output_type": "display_data"
    }
   ],
   "source": [
    "prim_lattice = prim_struc.lattice\n",
    "a = prim_lattice.a ; b = prim_lattice.b ; c = prim_lattice.c\n",
    "alpha = prim_lattice.alpha ; beta = prim_lattice.beta ; gamma = prim_lattice.gamma\n",
    "\n",
    "print( \"||a|| =\", a, \"[Å] \", \"||b|| =\", b, \"[Å] \", \"||c|| =\", c,\"[Å] \", \"\\n\" )\n",
    "print(\" α = \", alpha,\"[°] \", \" β = \", beta,\"[°] \" \" γ = \", gamma, \"[°] \")\n",
    "\n",
    "view = quick_view(prim_struc,\"packed\", conventional = False)\n",
    "display(view)"
   ]
  },
  {
   "cell_type": "code",
   "execution_count": 111,
   "id": "14b9e3b6",
   "metadata": {},
   "outputs": [],
   "source": [
    "view.script('select strontium; color lightyellow')\n",
    "view.script('select nitrogen; color lightgreen')\n",
    "view.script('select chlorine; color lightblue')"
   ]
  },
  {
   "cell_type": "markdown",
   "id": "c6f64bd7",
   "metadata": {},
   "source": [
    "## 1.2. Maille Conventionnelle\n",
    "\n",
    "On peut aussi représenter la maille trigonal sous une forme se rapprochant plus de structures hexagonales. Cela peut faciliter la visualisation et la comparaison avec des systèmes cristallins hexagonaux ou trigonaux P. La maille prend alors la forme d'un parallélépipède à base losanges et faces latérales rectangles. On peut redéfinir les vecteurs de base et les angles entre ceux-ci. On a alors, $$ ||a|| = ||b|| \\neq ||c|| $$\n",
    "\n",
    "Les angles sont définis comme suit, $$ α = \\angle(a,c) ,~~  β = \\angle(b,c) ,~~   γ = \\angle(a,b) ~~tq~~  α = β = 90 [°] \\neq γ = 120[°]$$\n",
    "\n",
    "\n"
   ]
  },
  {
   "cell_type": "code",
   "execution_count": 112,
   "id": "c204008d",
   "metadata": {},
   "outputs": [
    {
     "name": "stdout",
     "output_type": "stream",
     "text": [
      "||a|| = 3.8930932745441136 [Å]  ||b|| = 3.8930932745441136 [Å]  ||c|| = 21.11645839446954 [Å]  \n",
      "\n",
      " α =  90.0 [°]   β =  90.0 [°]  γ =  119.99999999999999 [°] \n"
     ]
    },
    {
     "data": {
      "application/vnd.jupyter.widget-view+json": {
       "model_id": "08ea6ff202e544e3ae97e1b6ece04821",
       "version_major": 2,
       "version_minor": 0
      },
      "text/plain": [
       "JsmolView(layout=Layout(align_self='stretch', height='400px'))"
      ]
     },
     "metadata": {},
     "output_type": "display_data"
    }
   ],
   "source": [
    "conv_struc = SpacegroupAnalyzer(prim_struc).get_conventional_standard_structure()\n",
    "conv_lattice = conv_struc.lattice\n",
    "\n",
    "a = conv_lattice.a ; b = conv_lattice.b ; c = conv_lattice.c\n",
    "alpha = conv_lattice.alpha ; beta = conv_lattice.beta ; gamma = conv_lattice.gamma\n",
    "\n",
    "\n",
    "print( \"||a|| =\", a, \"[Å] \", \"||b|| =\", b, \"[Å] \", \"||c|| =\", c,\"[Å] \", \"\\n\" )\n",
    "print(\" α = \", alpha,\"[°] \", \" β = \", beta,\"[°] \" \" γ = \", gamma, \"[°] \")\n",
    "\n",
    "view = quick_view(prim_struc,\"packed\", conventional = True)\n",
    "display(view)\n"
   ]
  },
  {
   "cell_type": "code",
   "execution_count": 115,
   "id": "daabce3a",
   "metadata": {},
   "outputs": [],
   "source": [
    "\n",
    "view.script('select strontium; color lightyellow')\n",
    "view.script('select nitrogen; color lightgreen')\n",
    "view.script('select chlorine; color lightblue')\n"
   ]
  },
  {
   "cell_type": "markdown",
   "id": "aa07b804",
   "metadata": {},
   "source": [
    "# 2. Réseau réciproque\n",
    "\n",
    "les vecteurs du réséau réciproque peuvent être obtenus de façon similaire. La représentation de sa maille réciproque est plus complexe. Il est plus intéressant de visualiser la cellule de Wigner-Seitz primitive du réseau réciproque aussi appellée première zone de Brillouin. Cela sera étudier dans un prochain notebook."
   ]
  },
  {
   "cell_type": "code",
   "execution_count": 116,
   "id": "29cee42f",
   "metadata": {},
   "outputs": [
    {
     "name": "stdout",
     "output_type": "stream",
     "text": [
      "||a*|| = 1.8872113141454676 [rad/m]  ||b*|| = 1.887211840598586 [rad/m]  ||c*|| = 1.887211719722603 [rad/m]  \n",
      "\n",
      " α =  117.56226882422018 [°]   β =  117.56224552519653 [°]  γ =  117.56225050899765 [°] \n"
     ]
    }
   ],
   "source": [
    "reciprocal_lattice = prim_struc.lattice.reciprocal_lattice\n",
    "\n",
    "a = reciprocal_lattice.a ; b = reciprocal_lattice.b ; c = reciprocal_lattice.c\n",
    "alpha = reciprocal_lattice.alpha ; beta = reciprocal_lattice.beta ; gamma = reciprocal_lattice.gamma\n",
    "print( \"||a*|| =\", a, \"[rad/m] \", \"||b*|| =\", b, \"[rad/m] \", \"||c*|| =\", c,\"[rad/m] \", \"\\n\" )\n",
    "print(\" α = \", alpha,\"[°] \", \" β = \", beta,\"[°] \" \" γ = \", gamma, \"[°] \")"
   ]
  },
  {
   "cell_type": "markdown",
   "id": "de971c4d",
   "metadata": {},
   "source": [
    "On observe qu'on a  un système réciproque aussi trigonal."
   ]
  }
 ],
 "metadata": {
  "kernelspec": {
   "display_name": "Python 3 (ipykernel)",
   "language": "python",
   "name": "python3"
  },
  "language_info": {
   "codemirror_mode": {
    "name": "ipython",
    "version": 3
   },
   "file_extension": ".py",
   "mimetype": "text/x-python",
   "name": "python",
   "nbconvert_exporter": "python",
   "pygments_lexer": "ipython3",
   "version": "3.9.13"
  }
 },
 "nbformat": 4,
 "nbformat_minor": 5
}
