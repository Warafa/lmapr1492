{
 "cells": [
  {
   "cell_type": "markdown",
   "metadata": {},
   "source": [
    "# Etude des bandes de phonons accoustiques du cristal de $Sr_2NCl$\n",
    "\n",
    "#### Raphaël Roekens 70732200\n",
    "\n",
    "Ce notebook sert à visualiser la structure de bandes de phonons. Plus particulièrement, on s'intéressera aux bandes accoustiques."
   ]
  },
  {
   "cell_type": "markdown",
   "metadata": {},
   "source": [
    "## 1. Import"
   ]
  },
  {
   "cell_type": "code",
   "execution_count": null,
   "metadata": {},
   "outputs": [],
   "source": [
    "import numpy as np\n",
    "import matplotlib.pyplot as plt\n",
    "from mp_api.client import MPRester\n",
    "from pymatgen.phonon.plotter import PhononBSPlotter\n",
    "from lmapr1492 import plot_brillouin_zone, get_plot_bs, get_plot_dos, get_plot_bs_and_dos, get_branch_wavevectors\n",
    "from plotly.graph_objects import Scatter"
   ]
  },
  {
   "cell_type": "code",
   "execution_count": 124,
   "metadata": {},
   "outputs": [
    {
     "data": {
      "application/vnd.jupyter.widget-view+json": {
       "model_id": "f5b80221a2d342089ebf4216741e5c8e",
       "version_major": 2,
       "version_minor": 0
      },
      "text/plain": [
       "Retrieving MaterialsDoc documents:   0%|          | 0/1 [00:00<?, ?it/s]"
      ]
     },
     "metadata": {},
     "output_type": "display_data"
    },
    {
     "data": {
      "application/vnd.jupyter.widget-view+json": {
       "model_id": "b8d210facd204bf285c56289592a849f",
       "version_major": 2,
       "version_minor": 0
      },
      "text/plain": [
       "Retrieving PhononBSDOSDoc documents:   0%|          | 0/1 [00:00<?, ?it/s]"
      ]
     },
     "metadata": {},
     "output_type": "display_data"
    },
    {
     "data": {
      "application/vnd.jupyter.widget-view+json": {
       "model_id": "ba3b07d79905452792b6edf651838ba6",
       "version_major": 2,
       "version_minor": 0
      },
      "text/plain": [
       "Retrieving PhononBSDOSDoc documents:   0%|          | 0/1 [00:00<?, ?it/s]"
      ]
     },
     "metadata": {},
     "output_type": "display_data"
    }
   ],
   "source": [
    "mp_key =\"iX81lxwugQ7QfGznstwLyMrndo3WUZbE\"\n",
    "mp_id = \"mp-23033\"\n",
    "\n",
    "with MPRester(mp_key) as m:\n",
    "    prim_struc = m.get_structure_by_material_id(mp_id)\n",
    "    ph_bs = m.get_phonon_bandstructure_by_material_id(mp_id)\n",
    "    ph_dos = m.get_phonon_dos_by_material_id(mp_id)\n"
   ]
  },
  {
   "cell_type": "markdown",
   "metadata": {},
   "source": [
    "## 2. Zone de brillouin\n",
    "\n",
    "La zone de brillouin n'est pas lié au type de particule. Elle ne change donc pas pour des électrons ou des phonons"
   ]
  },
  {
   "cell_type": "code",
   "execution_count": 125,
   "metadata": {},
   "outputs": [
    {
     "name": "stderr",
     "output_type": "stream",
     "text": [
      "c:\\Users\\roeke\\AppData\\Local\\Programs\\Python\\Python312\\Lib\\site-packages\\pymatgen\\symmetry\\bandstructure.py:181: UserWarning:\n",
      "\n",
      "The input structure does not match the expected standard primitive! The path may be incorrect. Use at your own risk.\n",
      "\n"
     ]
    },
    {
     "data": {
      "application/vnd.plotly.v1+json": {
       "config": {
        "plotlyServerURL": "https://plot.ly"
       },
       "data": [
        {
         "line": {
          "color": "green"
         },
         "mode": "lines+text",
         "showlegend": false,
         "text": [
          "",
          "a"
         ],
         "type": "scatter3d",
         "x": [
          0,
          0.44496760335537067
         ],
         "y": [
          0,
          -1.6337197738355151
         ],
         "z": [
          0,
          -0.8842586602680749
         ]
        },
        {
         "line": {
          "color": "green"
         },
         "mode": "lines+text",
         "showlegend": false,
         "text": [
          "",
          "b"
         ],
         "type": "scatter3d",
         "x": [
          0,
          0.44496760335537067
         ],
         "y": [
          0,
          1.6337197738355151
         ],
         "z": [
          0,
          -0.8842586602680749
         ]
        },
        {
         "line": {
          "color": "green"
         },
         "mode": "lines+text",
         "showlegend": false,
         "text": [
          "",
          "c"
         ],
         "type": "scatter3d",
         "x": [
          0,
          0
         ],
         "y": [
          0,
          0
         ],
         "z": [
          0,
          1.9102224597354223
         ]
        },
        {
         "line": {
          "color": "black"
         },
         "mode": "lines",
         "showlegend": false,
         "text": "",
         "type": "scatter3d",
         "x": [
          -0.14080125788548292,
          -0.44496760335537083
         ],
         "y": [
          -1.116761241479428,
          -1.033917064691785
         ],
         "z": [
          -0.07085256959963615,
          -0.07085256959963615
         ]
        },
        {
         "line": {
          "color": "black"
         },
         "mode": "lines",
         "showlegend": false,
         "text": "",
         "type": "scatter3d",
         "x": [
          -0.14080125788548292,
          0.14080125788548314
         ],
         "y": [
          -1.116761241479428,
          -1.116761241479428
         ],
         "z": [
          -0.07085256959963615,
          0.07085256959963637
         ]
        },
        {
         "line": {
          "color": "black"
         },
         "mode": "lines",
         "showlegend": false,
         "text": "",
         "type": "scatter3d",
         "x": [
          -0.44496760335537083,
          -0.5857688612408537
         ],
         "y": [
          -1.033917064691785,
          -0.5169585323560874
         ],
         "z": [
          -0.07085256959963615,
          0.8134060906684387
         ]
        },
        {
         "line": {
          "color": "black"
         },
         "mode": "lines",
         "showlegend": false,
         "text": "",
         "type": "scatter3d",
         "x": [
          -0.5857688612408537,
          -0.3041663454698875
         ],
         "y": [
          -0.5169585323560874,
          -0.5169585323560871
         ],
         "z": [
          0.8134060906684387,
          0.955111229867711
         ]
        },
        {
         "line": {
          "color": "black"
         },
         "mode": "lines",
         "showlegend": false,
         "text": "",
         "type": "scatter3d",
         "x": [
          -0.3041663454698875,
          0
         ],
         "y": [
          -0.5169585323560871,
          -0.5998027091437306
         ],
         "z": [
          0.955111229867711,
          0.9551112298677114
         ]
        },
        {
         "line": {
          "color": "black"
         },
         "mode": "lines",
         "showlegend": false,
         "text": "",
         "type": "scatter3d",
         "x": [
          0,
          0.14080125788548314
         ],
         "y": [
          -0.5998027091437306,
          -1.116761241479428
         ],
         "z": [
          0.9551112298677114,
          0.07085256959963637
         ]
        },
        {
         "line": {
          "color": "black"
         },
         "mode": "lines",
         "showlegend": false,
         "text": "",
         "type": "scatter3d",
         "x": [
          -0.14080125788548292,
          5.551115123125783e-17
         ],
         "y": [
          -1.116761241479428,
          -0.5998027091437304
         ],
         "z": [
          -0.07085256959963615,
          -0.9551112298677111
         ]
        },
        {
         "line": {
          "color": "black"
         },
         "mode": "lines",
         "showlegend": false,
         "text": "",
         "type": "scatter3d",
         "x": [
          5.551115123125783e-17,
          -0.3041663454698876
         ],
         "y": [
          -0.5998027091437304,
          -0.5169585323560872
         ],
         "z": [
          -0.9551112298677111,
          -0.9551112298677111
         ]
        },
        {
         "line": {
          "color": "black"
         },
         "mode": "lines",
         "showlegend": false,
         "text": "",
         "type": "scatter3d",
         "x": [
          -0.3041663454698876,
          -0.44496760335537083
         ],
         "y": [
          -0.5169585323560872,
          -1.033917064691785
         ],
         "z": [
          -0.9551112298677111,
          -0.07085256959963615
         ]
        },
        {
         "line": {
          "color": "black"
         },
         "mode": "lines",
         "showlegend": false,
         "text": "",
         "type": "scatter3d",
         "x": [
          5.551115123125783e-17,
          0.3041663454698875
         ],
         "y": [
          -0.5998027091437304,
          -0.5169585323560872
         ],
         "z": [
          -0.9551112298677111,
          -0.955111229867711
         ]
        },
        {
         "line": {
          "color": "black"
         },
         "mode": "lines",
         "showlegend": false,
         "text": "",
         "type": "scatter3d",
         "x": [
          -0.3041663454698876,
          -0.3041663454698876
         ],
         "y": [
          -0.5169585323560872,
          0.5169585323560872
         ],
         "z": [
          -0.9551112298677111,
          -0.9551112298677111
         ]
        },
        {
         "line": {
          "color": "black"
         },
         "mode": "lines",
         "showlegend": false,
         "text": "",
         "type": "scatter3d",
         "x": [
          -0.3041663454698876,
          5.551115123125783e-17
         ],
         "y": [
          0.5169585323560872,
          0.5998027091437304
         ],
         "z": [
          -0.9551112298677111,
          -0.9551112298677111
         ]
        },
        {
         "line": {
          "color": "black"
         },
         "mode": "lines",
         "showlegend": false,
         "text": "",
         "type": "scatter3d",
         "x": [
          5.551115123125783e-17,
          0.3041663454698875
         ],
         "y": [
          0.5998027091437304,
          0.5169585323560875
         ],
         "z": [
          -0.9551112298677111,
          -0.9551112298677111
         ]
        },
        {
         "line": {
          "color": "black"
         },
         "mode": "lines",
         "showlegend": false,
         "text": "",
         "type": "scatter3d",
         "x": [
          0.3041663454698875,
          0.3041663454698875
         ],
         "y": [
          0.5169585323560875,
          -0.5169585323560872
         ],
         "z": [
          -0.9551112298677111,
          -0.955111229867711
         ]
        },
        {
         "line": {
          "color": "black"
         },
         "mode": "lines",
         "showlegend": false,
         "text": "",
         "type": "scatter3d",
         "x": [
          -0.3041663454698876,
          -0.4449676033553705
         ],
         "y": [
          0.5169585323560872,
          1.033917064691785
         ],
         "z": [
          -0.9551112298677111,
          -0.07085256959963637
         ]
        },
        {
         "line": {
          "color": "black"
         },
         "mode": "lines",
         "showlegend": false,
         "text": "",
         "type": "scatter3d",
         "x": [
          -0.4449676033553705,
          -0.14080125788548314
         ],
         "y": [
          1.033917064691785,
          1.116761241479428
         ],
         "z": [
          -0.07085256959963637,
          -0.07085256959963615
         ]
        },
        {
         "line": {
          "color": "black"
         },
         "mode": "lines",
         "showlegend": false,
         "text": "",
         "type": "scatter3d",
         "x": [
          -0.14080125788548314,
          5.551115123125783e-17
         ],
         "y": [
          1.116761241479428,
          0.5998027091437304
         ],
         "z": [
          -0.07085256959963615,
          -0.9551112298677111
         ]
        },
        {
         "line": {
          "color": "black"
         },
         "mode": "lines",
         "showlegend": false,
         "text": "",
         "type": "scatter3d",
         "x": [
          -0.5857688612408537,
          -0.5857688612408537
         ],
         "y": [
          0.5169585323560874,
          -0.5169585323560874
         ],
         "z": [
          0.8134060906684387,
          0.8134060906684387
         ]
        },
        {
         "line": {
          "color": "black"
         },
         "mode": "lines",
         "showlegend": false,
         "text": "",
         "type": "scatter3d",
         "x": [
          -0.5857688612408537,
          -0.3041663454698875
         ],
         "y": [
          0.5169585323560874,
          0.5169585323560871
         ],
         "z": [
          0.8134060906684387,
          0.955111229867711
         ]
        },
        {
         "line": {
          "color": "black"
         },
         "mode": "lines",
         "showlegend": false,
         "text": "",
         "type": "scatter3d",
         "x": [
          -0.3041663454698875,
          -0.3041663454698875
         ],
         "y": [
          -0.5169585323560871,
          0.5169585323560871
         ],
         "z": [
          0.955111229867711,
          0.955111229867711
         ]
        },
        {
         "line": {
          "color": "black"
         },
         "mode": "lines",
         "showlegend": false,
         "text": "",
         "type": "scatter3d",
         "x": [
          -0.5857688612408537,
          -0.4449676033553705
         ],
         "y": [
          0.5169585323560874,
          1.033917064691785
         ],
         "z": [
          0.8134060906684387,
          -0.07085256959963637
         ]
        },
        {
         "line": {
          "color": "black"
         },
         "mode": "lines",
         "showlegend": false,
         "text": "",
         "type": "scatter3d",
         "x": [
          -0.14080125788548314,
          0.14080125788548314
         ],
         "y": [
          1.116761241479428,
          1.116761241479428
         ],
         "z": [
          -0.07085256959963615,
          0.07085256959963637
         ]
        },
        {
         "line": {
          "color": "black"
         },
         "mode": "lines",
         "showlegend": false,
         "text": "",
         "type": "scatter3d",
         "x": [
          0.14080125788548314,
          0
         ],
         "y": [
          1.116761241479428,
          0.5998027091437306
         ],
         "z": [
          0.07085256959963637,
          0.9551112298677114
         ]
        },
        {
         "line": {
          "color": "black"
         },
         "mode": "lines",
         "showlegend": false,
         "text": "",
         "type": "scatter3d",
         "x": [
          0,
          -0.3041663454698875
         ],
         "y": [
          0.5998027091437306,
          0.5169585323560871
         ],
         "z": [
          0.9551112298677114,
          0.955111229867711
         ]
        },
        {
         "line": {
          "color": "black"
         },
         "mode": "lines",
         "showlegend": false,
         "text": "",
         "type": "scatter3d",
         "x": [
          0.5857688612408538,
          0.5857688612408538
         ],
         "y": [
          0.5169585323560874,
          -0.5169585323560872
         ],
         "z": [
          -0.8134060906684385,
          -0.8134060906684385
         ]
        },
        {
         "line": {
          "color": "black"
         },
         "mode": "lines",
         "showlegend": false,
         "text": "",
         "type": "scatter3d",
         "x": [
          0.5857688612408538,
          0.44496760335537067
         ],
         "y": [
          0.5169585323560874,
          1.0339170646917846
         ],
         "z": [
          -0.8134060906684385,
          0.07085256959963643
         ]
        },
        {
         "line": {
          "color": "black"
         },
         "mode": "lines",
         "showlegend": false,
         "text": "",
         "type": "scatter3d",
         "x": [
          0.5857688612408538,
          0.44496760335537067
         ],
         "y": [
          -0.5169585323560872,
          -1.0339170646917846
         ],
         "z": [
          -0.8134060906684385,
          0.07085256959963643
         ]
        },
        {
         "line": {
          "color": "black"
         },
         "mode": "lines",
         "showlegend": false,
         "text": "",
         "type": "scatter3d",
         "x": [
          0.44496760335537067,
          0.3041663454698875
         ],
         "y": [
          -1.0339170646917846,
          -0.5169585323560872
         ],
         "z": [
          0.07085256959963643,
          0.9551112298677112
         ]
        },
        {
         "line": {
          "color": "black"
         },
         "mode": "lines",
         "showlegend": false,
         "text": "",
         "type": "scatter3d",
         "x": [
          0.3041663454698875,
          0.3041663454698875
         ],
         "y": [
          -0.5169585323560872,
          0.5169585323560872
         ],
         "z": [
          0.9551112298677112,
          0.9551112298677112
         ]
        },
        {
         "line": {
          "color": "black"
         },
         "mode": "lines",
         "showlegend": false,
         "text": "",
         "type": "scatter3d",
         "x": [
          0.3041663454698875,
          0.44496760335537067
         ],
         "y": [
          0.5169585323560872,
          1.0339170646917846
         ],
         "z": [
          0.9551112298677112,
          0.07085256959963643
         ]
        },
        {
         "line": {
          "color": "black"
         },
         "mode": "lines",
         "showlegend": false,
         "text": "",
         "type": "scatter3d",
         "x": [
          0.14080125788548314,
          0.44496760335537067
         ],
         "y": [
          1.116761241479428,
          1.0339170646917846
         ],
         "z": [
          0.07085256959963637,
          0.07085256959963643
         ]
        },
        {
         "line": {
          "color": "black"
         },
         "mode": "lines",
         "showlegend": false,
         "text": "",
         "type": "scatter3d",
         "x": [
          0,
          0.3041663454698875
         ],
         "y": [
          0.5998027091437306,
          0.5169585323560872
         ],
         "z": [
          0.9551112298677114,
          0.9551112298677112
         ]
        },
        {
         "line": {
          "color": "black"
         },
         "mode": "lines",
         "showlegend": false,
         "text": "",
         "type": "scatter3d",
         "x": [
          0.3041663454698875,
          0.5857688612408538
         ],
         "y": [
          0.5169585323560875,
          0.5169585323560874
         ],
         "z": [
          -0.9551112298677111,
          -0.8134060906684385
         ]
        },
        {
         "line": {
          "color": "black"
         },
         "mode": "lines",
         "showlegend": false,
         "text": "",
         "type": "scatter3d",
         "x": [
          0.3041663454698875,
          0.5857688612408538
         ],
         "y": [
          -0.5169585323560872,
          -0.5169585323560872
         ],
         "z": [
          -0.955111229867711,
          -0.8134060906684385
         ]
        },
        {
         "line": {
          "color": "black"
         },
         "mode": "lines",
         "showlegend": false,
         "text": "",
         "type": "scatter3d",
         "x": [
          0.44496760335537067,
          0.14080125788548314
         ],
         "y": [
          -1.0339170646917846,
          -1.116761241479428
         ],
         "z": [
          0.07085256959963643,
          0.07085256959963637
         ]
        },
        {
         "line": {
          "color": "black"
         },
         "mode": "lines",
         "showlegend": false,
         "text": "",
         "type": "scatter3d",
         "x": [
          0.3041663454698875,
          0
         ],
         "y": [
          -0.5169585323560872,
          -0.5998027091437306
         ],
         "z": [
          0.9551112298677112,
          0.9551112298677114
         ]
        },
        {
         "line": {
          "color": "red"
         },
         "mode": "lines",
         "showlegend": false,
         "text": "",
         "type": "scatter3d",
         "x": [
          0,
          0.22248380167768533
         ],
         "y": [
          0,
          -0.8168598869177576
         ],
         "z": [
          0,
          -0.44212933013403743
         ]
        },
        {
         "line": {
          "color": "red"
         },
         "mode": "lines",
         "showlegend": false,
         "text": "",
         "type": "scatter3d",
         "x": [
          0.22248380167768533,
          0.3041663454793011
         ],
         "y": [
          -0.8168598869177576,
          -0.5169585323481101
         ],
         "z": [
          -0.44212933013403743,
          -0.9551112298638819
         ]
        },
        {
         "line": {
          "color": "red"
         },
         "mode": "lines",
         "showlegend": false,
         "text": "",
         "type": "scatter3d",
         "x": [
          0.5857688612314402,
          0.44496760335537067
         ],
         "y": [
          -0.5169585323481102,
          0
         ],
         "z": [
          -0.8134060906722678,
          0.07085256959963626
         ]
        },
        {
         "line": {
          "color": "red"
         },
         "mode": "lines",
         "showlegend": false,
         "text": "",
         "type": "scatter3d",
         "x": [
          0.44496760335537067,
          0
         ],
         "y": [
          0,
          0
         ],
         "z": [
          0.07085256959963626,
          0
         ]
        },
        {
         "line": {
          "color": "red"
         },
         "mode": "lines",
         "showlegend": false,
         "text": "",
         "type": "scatter3d",
         "x": [
          0,
          0.15208317273965055
         ],
         "y": [
          0,
          -0.5583806207437025
         ],
         "z": [
          0,
          -0.9551112298657964
         ]
        },
        {
         "line": {
          "color": "red"
         },
         "mode": "lines",
         "showlegend": false,
         "text": "",
         "type": "scatter3d",
         "x": [
          0.44496760335537067,
          0.44496760335537067
         ],
         "y": [
          -0.5169585323481101,
          0
         ],
         "z": [
          -0.8842586602680749,
          -0.8842586602680749
         ]
        },
        {
         "line": {
          "color": "red"
         },
         "mode": "lines",
         "showlegend": false,
         "text": "",
         "type": "scatter3d",
         "x": [
          0.44496760335537067,
          0.5857688612314402
         ],
         "y": [
          0,
          -3.4100080818961557e-17
         ],
         "z": [
          -0.8842586602680749,
          -0.8134060906722678
         ]
        },
        {
         "line": {
          "color": "red"
         },
         "mode": "lines",
         "showlegend": false,
         "text": "",
         "type": "scatter3d",
         "x": [
          0.5857688612314402,
          0.44496760335537067
         ],
         "y": [
          -3.4100080818961557e-17,
          0
         ],
         "z": [
          -0.8134060906722678,
          0.07085256959963626
         ]
        },
        {
         "line": {
          "color": "red"
         },
         "mode": "lines",
         "showlegend": false,
         "text": "",
         "type": "scatter3d",
         "x": [
          0.22248380167768533,
          0.5153682322934054
         ],
         "y": [
          -0.8168598869177576,
          -0.7754377985221652
         ],
         "z": [
          -0.44212933013403743,
          -0.37127676053631575
         ]
        },
        {
         "marker": {
          "color": "red",
          "size": 4
         },
         "mode": "markers+text",
         "showlegend": false,
         "text": [
          "Î“",
          "B",
          "B_1",
          "F",
          "L",
          "L_1",
          "P",
          "P_1",
          "P_2",
          "Q",
          "X",
          "Z"
         ],
         "textfont": {
          "color": "red"
         },
         "type": "scatter3d",
         "x": [
          0,
          0.5857688612314402,
          0.3041663454793011,
          0.44496760335537067,
          0.22248380167768533,
          0,
          0.5153682322934054,
          0.5857688612314402,
          0.3041663454793011,
          0.44496760335537067,
          0.15208317273965055,
          0.44496760335537067
         ],
         "y": [
          0,
          -0.5169585323481102,
          -0.5169585323481101,
          0,
          -0.8168598869177576,
          0,
          -0.7754377985221652,
          -3.4100080818961557e-17,
          3.4100080818961557e-17,
          -0.5169585323481101,
          -0.5583806207437025,
          0
         ],
         "z": [
          0,
          -0.8134060906722678,
          -0.9551112298638819,
          -0.8842586602680749,
          -0.44212933013403743,
          -0.9551112298677111,
          -0.37127676053631575,
          -0.8134060906722678,
          -0.9551112298638819,
          -0.8842586602680749,
          -0.9551112298657964,
          0.07085256959963626
         ]
        }
       ],
       "layout": {
        "scene": {
         "xaxis": {
          "range": [
           -1.15,
           1.15
          ],
          "visible": false
         },
         "yaxis": {
          "range": [
           -1.15,
           1.15
          ],
          "visible": false
         },
         "zaxis": {
          "range": [
           -1.15,
           1.15
          ],
          "visible": false
         }
        },
        "template": {
         "data": {
          "bar": [
           {
            "error_x": {
             "color": "#2a3f5f"
            },
            "error_y": {
             "color": "#2a3f5f"
            },
            "marker": {
             "line": {
              "color": "#E5ECF6",
              "width": 0.5
             },
             "pattern": {
              "fillmode": "overlay",
              "size": 10,
              "solidity": 0.2
             }
            },
            "type": "bar"
           }
          ],
          "barpolar": [
           {
            "marker": {
             "line": {
              "color": "#E5ECF6",
              "width": 0.5
             },
             "pattern": {
              "fillmode": "overlay",
              "size": 10,
              "solidity": 0.2
             }
            },
            "type": "barpolar"
           }
          ],
          "carpet": [
           {
            "aaxis": {
             "endlinecolor": "#2a3f5f",
             "gridcolor": "white",
             "linecolor": "white",
             "minorgridcolor": "white",
             "startlinecolor": "#2a3f5f"
            },
            "baxis": {
             "endlinecolor": "#2a3f5f",
             "gridcolor": "white",
             "linecolor": "white",
             "minorgridcolor": "white",
             "startlinecolor": "#2a3f5f"
            },
            "type": "carpet"
           }
          ],
          "choropleth": [
           {
            "colorbar": {
             "outlinewidth": 0,
             "ticks": ""
            },
            "type": "choropleth"
           }
          ],
          "contour": [
           {
            "colorbar": {
             "outlinewidth": 0,
             "ticks": ""
            },
            "colorscale": [
             [
              0,
              "#0d0887"
             ],
             [
              0.1111111111111111,
              "#46039f"
             ],
             [
              0.2222222222222222,
              "#7201a8"
             ],
             [
              0.3333333333333333,
              "#9c179e"
             ],
             [
              0.4444444444444444,
              "#bd3786"
             ],
             [
              0.5555555555555556,
              "#d8576b"
             ],
             [
              0.6666666666666666,
              "#ed7953"
             ],
             [
              0.7777777777777778,
              "#fb9f3a"
             ],
             [
              0.8888888888888888,
              "#fdca26"
             ],
             [
              1,
              "#f0f921"
             ]
            ],
            "type": "contour"
           }
          ],
          "contourcarpet": [
           {
            "colorbar": {
             "outlinewidth": 0,
             "ticks": ""
            },
            "type": "contourcarpet"
           }
          ],
          "heatmap": [
           {
            "colorbar": {
             "outlinewidth": 0,
             "ticks": ""
            },
            "colorscale": [
             [
              0,
              "#0d0887"
             ],
             [
              0.1111111111111111,
              "#46039f"
             ],
             [
              0.2222222222222222,
              "#7201a8"
             ],
             [
              0.3333333333333333,
              "#9c179e"
             ],
             [
              0.4444444444444444,
              "#bd3786"
             ],
             [
              0.5555555555555556,
              "#d8576b"
             ],
             [
              0.6666666666666666,
              "#ed7953"
             ],
             [
              0.7777777777777778,
              "#fb9f3a"
             ],
             [
              0.8888888888888888,
              "#fdca26"
             ],
             [
              1,
              "#f0f921"
             ]
            ],
            "type": "heatmap"
           }
          ],
          "heatmapgl": [
           {
            "colorbar": {
             "outlinewidth": 0,
             "ticks": ""
            },
            "colorscale": [
             [
              0,
              "#0d0887"
             ],
             [
              0.1111111111111111,
              "#46039f"
             ],
             [
              0.2222222222222222,
              "#7201a8"
             ],
             [
              0.3333333333333333,
              "#9c179e"
             ],
             [
              0.4444444444444444,
              "#bd3786"
             ],
             [
              0.5555555555555556,
              "#d8576b"
             ],
             [
              0.6666666666666666,
              "#ed7953"
             ],
             [
              0.7777777777777778,
              "#fb9f3a"
             ],
             [
              0.8888888888888888,
              "#fdca26"
             ],
             [
              1,
              "#f0f921"
             ]
            ],
            "type": "heatmapgl"
           }
          ],
          "histogram": [
           {
            "marker": {
             "pattern": {
              "fillmode": "overlay",
              "size": 10,
              "solidity": 0.2
             }
            },
            "type": "histogram"
           }
          ],
          "histogram2d": [
           {
            "colorbar": {
             "outlinewidth": 0,
             "ticks": ""
            },
            "colorscale": [
             [
              0,
              "#0d0887"
             ],
             [
              0.1111111111111111,
              "#46039f"
             ],
             [
              0.2222222222222222,
              "#7201a8"
             ],
             [
              0.3333333333333333,
              "#9c179e"
             ],
             [
              0.4444444444444444,
              "#bd3786"
             ],
             [
              0.5555555555555556,
              "#d8576b"
             ],
             [
              0.6666666666666666,
              "#ed7953"
             ],
             [
              0.7777777777777778,
              "#fb9f3a"
             ],
             [
              0.8888888888888888,
              "#fdca26"
             ],
             [
              1,
              "#f0f921"
             ]
            ],
            "type": "histogram2d"
           }
          ],
          "histogram2dcontour": [
           {
            "colorbar": {
             "outlinewidth": 0,
             "ticks": ""
            },
            "colorscale": [
             [
              0,
              "#0d0887"
             ],
             [
              0.1111111111111111,
              "#46039f"
             ],
             [
              0.2222222222222222,
              "#7201a8"
             ],
             [
              0.3333333333333333,
              "#9c179e"
             ],
             [
              0.4444444444444444,
              "#bd3786"
             ],
             [
              0.5555555555555556,
              "#d8576b"
             ],
             [
              0.6666666666666666,
              "#ed7953"
             ],
             [
              0.7777777777777778,
              "#fb9f3a"
             ],
             [
              0.8888888888888888,
              "#fdca26"
             ],
             [
              1,
              "#f0f921"
             ]
            ],
            "type": "histogram2dcontour"
           }
          ],
          "mesh3d": [
           {
            "colorbar": {
             "outlinewidth": 0,
             "ticks": ""
            },
            "type": "mesh3d"
           }
          ],
          "parcoords": [
           {
            "line": {
             "colorbar": {
              "outlinewidth": 0,
              "ticks": ""
             }
            },
            "type": "parcoords"
           }
          ],
          "pie": [
           {
            "automargin": true,
            "type": "pie"
           }
          ],
          "scatter": [
           {
            "fillpattern": {
             "fillmode": "overlay",
             "size": 10,
             "solidity": 0.2
            },
            "type": "scatter"
           }
          ],
          "scatter3d": [
           {
            "line": {
             "colorbar": {
              "outlinewidth": 0,
              "ticks": ""
             }
            },
            "marker": {
             "colorbar": {
              "outlinewidth": 0,
              "ticks": ""
             }
            },
            "type": "scatter3d"
           }
          ],
          "scattercarpet": [
           {
            "marker": {
             "colorbar": {
              "outlinewidth": 0,
              "ticks": ""
             }
            },
            "type": "scattercarpet"
           }
          ],
          "scattergeo": [
           {
            "marker": {
             "colorbar": {
              "outlinewidth": 0,
              "ticks": ""
             }
            },
            "type": "scattergeo"
           }
          ],
          "scattergl": [
           {
            "marker": {
             "colorbar": {
              "outlinewidth": 0,
              "ticks": ""
             }
            },
            "type": "scattergl"
           }
          ],
          "scattermapbox": [
           {
            "marker": {
             "colorbar": {
              "outlinewidth": 0,
              "ticks": ""
             }
            },
            "type": "scattermapbox"
           }
          ],
          "scatterpolar": [
           {
            "marker": {
             "colorbar": {
              "outlinewidth": 0,
              "ticks": ""
             }
            },
            "type": "scatterpolar"
           }
          ],
          "scatterpolargl": [
           {
            "marker": {
             "colorbar": {
              "outlinewidth": 0,
              "ticks": ""
             }
            },
            "type": "scatterpolargl"
           }
          ],
          "scatterternary": [
           {
            "marker": {
             "colorbar": {
              "outlinewidth": 0,
              "ticks": ""
             }
            },
            "type": "scatterternary"
           }
          ],
          "surface": [
           {
            "colorbar": {
             "outlinewidth": 0,
             "ticks": ""
            },
            "colorscale": [
             [
              0,
              "#0d0887"
             ],
             [
              0.1111111111111111,
              "#46039f"
             ],
             [
              0.2222222222222222,
              "#7201a8"
             ],
             [
              0.3333333333333333,
              "#9c179e"
             ],
             [
              0.4444444444444444,
              "#bd3786"
             ],
             [
              0.5555555555555556,
              "#d8576b"
             ],
             [
              0.6666666666666666,
              "#ed7953"
             ],
             [
              0.7777777777777778,
              "#fb9f3a"
             ],
             [
              0.8888888888888888,
              "#fdca26"
             ],
             [
              1,
              "#f0f921"
             ]
            ],
            "type": "surface"
           }
          ],
          "table": [
           {
            "cells": {
             "fill": {
              "color": "#EBF0F8"
             },
             "line": {
              "color": "white"
             }
            },
            "header": {
             "fill": {
              "color": "#C8D4E3"
             },
             "line": {
              "color": "white"
             }
            },
            "type": "table"
           }
          ]
         },
         "layout": {
          "annotationdefaults": {
           "arrowcolor": "#2a3f5f",
           "arrowhead": 0,
           "arrowwidth": 1
          },
          "autotypenumbers": "strict",
          "coloraxis": {
           "colorbar": {
            "outlinewidth": 0,
            "ticks": ""
           }
          },
          "colorscale": {
           "diverging": [
            [
             0,
             "#8e0152"
            ],
            [
             0.1,
             "#c51b7d"
            ],
            [
             0.2,
             "#de77ae"
            ],
            [
             0.3,
             "#f1b6da"
            ],
            [
             0.4,
             "#fde0ef"
            ],
            [
             0.5,
             "#f7f7f7"
            ],
            [
             0.6,
             "#e6f5d0"
            ],
            [
             0.7,
             "#b8e186"
            ],
            [
             0.8,
             "#7fbc41"
            ],
            [
             0.9,
             "#4d9221"
            ],
            [
             1,
             "#276419"
            ]
           ],
           "sequential": [
            [
             0,
             "#0d0887"
            ],
            [
             0.1111111111111111,
             "#46039f"
            ],
            [
             0.2222222222222222,
             "#7201a8"
            ],
            [
             0.3333333333333333,
             "#9c179e"
            ],
            [
             0.4444444444444444,
             "#bd3786"
            ],
            [
             0.5555555555555556,
             "#d8576b"
            ],
            [
             0.6666666666666666,
             "#ed7953"
            ],
            [
             0.7777777777777778,
             "#fb9f3a"
            ],
            [
             0.8888888888888888,
             "#fdca26"
            ],
            [
             1,
             "#f0f921"
            ]
           ],
           "sequentialminus": [
            [
             0,
             "#0d0887"
            ],
            [
             0.1111111111111111,
             "#46039f"
            ],
            [
             0.2222222222222222,
             "#7201a8"
            ],
            [
             0.3333333333333333,
             "#9c179e"
            ],
            [
             0.4444444444444444,
             "#bd3786"
            ],
            [
             0.5555555555555556,
             "#d8576b"
            ],
            [
             0.6666666666666666,
             "#ed7953"
            ],
            [
             0.7777777777777778,
             "#fb9f3a"
            ],
            [
             0.8888888888888888,
             "#fdca26"
            ],
            [
             1,
             "#f0f921"
            ]
           ]
          },
          "colorway": [
           "#636efa",
           "#EF553B",
           "#00cc96",
           "#ab63fa",
           "#FFA15A",
           "#19d3f3",
           "#FF6692",
           "#B6E880",
           "#FF97FF",
           "#FECB52"
          ],
          "font": {
           "color": "#2a3f5f"
          },
          "geo": {
           "bgcolor": "white",
           "lakecolor": "white",
           "landcolor": "#E5ECF6",
           "showlakes": true,
           "showland": true,
           "subunitcolor": "white"
          },
          "hoverlabel": {
           "align": "left"
          },
          "hovermode": "closest",
          "mapbox": {
           "style": "light"
          },
          "paper_bgcolor": "white",
          "plot_bgcolor": "#E5ECF6",
          "polar": {
           "angularaxis": {
            "gridcolor": "white",
            "linecolor": "white",
            "ticks": ""
           },
           "bgcolor": "#E5ECF6",
           "radialaxis": {
            "gridcolor": "white",
            "linecolor": "white",
            "ticks": ""
           }
          },
          "scene": {
           "xaxis": {
            "backgroundcolor": "#E5ECF6",
            "gridcolor": "white",
            "gridwidth": 2,
            "linecolor": "white",
            "showbackground": true,
            "ticks": "",
            "zerolinecolor": "white"
           },
           "yaxis": {
            "backgroundcolor": "#E5ECF6",
            "gridcolor": "white",
            "gridwidth": 2,
            "linecolor": "white",
            "showbackground": true,
            "ticks": "",
            "zerolinecolor": "white"
           },
           "zaxis": {
            "backgroundcolor": "#E5ECF6",
            "gridcolor": "white",
            "gridwidth": 2,
            "linecolor": "white",
            "showbackground": true,
            "ticks": "",
            "zerolinecolor": "white"
           }
          },
          "shapedefaults": {
           "line": {
            "color": "#2a3f5f"
           }
          },
          "ternary": {
           "aaxis": {
            "gridcolor": "white",
            "linecolor": "white",
            "ticks": ""
           },
           "baxis": {
            "gridcolor": "white",
            "linecolor": "white",
            "ticks": ""
           },
           "bgcolor": "#E5ECF6",
           "caxis": {
            "gridcolor": "white",
            "linecolor": "white",
            "ticks": ""
           }
          },
          "title": {
           "x": 0.05
          },
          "xaxis": {
           "automargin": true,
           "gridcolor": "white",
           "linecolor": "white",
           "ticks": "",
           "title": {
            "standoff": 15
           },
           "zerolinecolor": "white",
           "zerolinewidth": 2
          },
          "yaxis": {
           "automargin": true,
           "gridcolor": "white",
           "linecolor": "white",
           "ticks": "",
           "title": {
            "standoff": 15
           },
           "zerolinecolor": "white",
           "zerolinewidth": 2
          }
         }
        }
       }
      }
     },
     "metadata": {},
     "output_type": "display_data"
    }
   ],
   "source": [
    "plot_brillouin_zone(ph_bs.structure)"
   ]
  },
  {
   "cell_type": "markdown",
   "metadata": {},
   "source": [
    "## 3. Structure de bandes phoniques\n",
    "\n",
    "Les branches acoustiques sont les branches de faibles fréquences. Plus précisémment, ce sont les branches qui tendent linéairement la fréquence nulle lorsque le nombre d'onde se rapporche de $\\Gamma$."
   ]
  },
  {
   "cell_type": "code",
   "execution_count": null,
   "metadata": {},
   "outputs": [
    {
     "data": {
      "application/vnd.plotly.v1+json": {
       "config": {
        "plotlyServerURL": "https://plot.ly"
       },
       "data": [
        {
         "mode": "lines",
         "name": "band 1",
         "type": "scatter",
         "x": [
          0,
          0.05306173499335455,
          0.1061234699867091,
          0.15918520497815342,
          0.21224693996959776,
          0.2653086749667728,
          0.3183704099639478,
          0.3714321449420206,
          0.4244938799391956,
          0.4775556149363706,
          0.5306173499335456,
          0.5836790849307206,
          0.6367408199087934,
          0.6898025549059684,
          0.7428642899031433,
          0.7959260249003184,
          0.848987759878391,
          0.9020494948755662,
          0.9551112298727411,
          0.9551112298727411,
          1.009638748885631,
          1.064166267898521,
          1.1186937869081437,
          1.1732213059210337,
          1.2277488249339237,
          1.2822763439370113,
          1.3368038629695058,
          1.391331381969326,
          1.4458589009691463,
          1.5003864200016406,
          1.5549139390014608,
          1.5549139390014608,
          1.609330626615197,
          1.6637473142289334,
          1.7181640018426694,
          1.7725806894564053,
          1.8269973770701413,
          1.8814140646838775,
          1.9358307522976135,
          1.990247439944024,
          2.04466412755776,
          2.099080815171496,
          2.1534975027852323,
          2.2079141903989683,
          2.2623308780127043,
          2.3167475656264402,
          2.3711642532401767,
          2.4255809408539126,
          2.4799976284676486,
          2.5344143160813846,
          2.5888310036951205,
          2.5888310036951205,
          2.6388946982716948,
          2.6889583928392575,
          2.7390220874158318,
          2.7890857819833945,
          2.8391494765599687,
          2.8892131711275315,
          2.9392768657041057,
          2.989340560275273,
          3.0394042548482427,
          3.0394042548482427,
          3.0925833615859517,
          3.1457624683236607,
          3.198941575058102,
          3.252120681795811,
          3.30529978853352,
          3.358478895271229,
          3.411658001995868,
          3.464837108749914,
          3.518016215471286,
          3.571195322225332,
          3.624374428946704,
          3.67755353570075,
          3.730732642422122,
          3.783911749176168,
          3.83709085589754,
          3.890269962651586,
          3.943449069372958,
          3.996628176127004,
          4.049807282848375,
          4.102986389602421,
          4.156165496323792,
          4.156165496323792,
          4.207861349549089,
          4.259557202807059,
          4.311253056032355,
          4.362948909257652,
          4.414644762515622,
          4.4663406157409185,
          4.518036468966215,
          4.569732322191511,
          4.6214281754494815,
          4.673124028674778,
          4.673124028674778,
          4.72566510344083,
          4.778206178205166,
          4.83074725297036,
          4.83074725297036,
          4.883417749650396,
          4.9360882463115665,
          4.988758742991602,
          5.041429239652773,
          5.094099736332808,
          5.146770232993979,
          5.199440729692879,
          5.2521112263540495,
          5.304781723034084,
          5.357452219695255,
          5.41012271637529,
          5.462793213036461,
          5.515463709716497,
          5.5681342063776675,
          5.620804703057703,
          5.673475199718874,
          5.72614569639891,
          5.72614569639891,
          5.776840087312434,
          5.827534478222398,
          5.878228869143041,
          5.928923260054785,
          5.979617650966529,
          6.030312041878273
         ],
         "xaxis": "x",
         "y": [
          0,
          0.2179889510372744,
          0.4351126130411345,
          0.6505811199213776,
          0.8637217921068545,
          1.073990895701692,
          1.2810011552505596,
          1.4846145989065238,
          1.6850959563733654,
          1.883233150043755,
          2.0802743823622967,
          2.23268300135925,
          2.3671672937588,
          2.485371760514009,
          2.5857820938481715,
          2.6666962337501863,
          2.7263157392565502,
          2.762943019801927,
          2.7753110186683196,
          2.7753110186683196,
          2.792877340039772,
          2.8439346939952106,
          2.923936577018763,
          3.0263084644740053,
          3.1432391285626955,
          3.265819181525167,
          3.28607410259159,
          3.280304365104243,
          3.2805416289626397,
          3.2842944433756753,
          3.288653597436854,
          3.2886535974342457,
          3.254032296568878,
          3.1398207381715424,
          3.0095842932332286,
          2.8673188680957695,
          2.7186009078176077,
          2.5696747233670445,
          2.426892300482084,
          2.296514810585753,
          2.184466405298296,
          2.0954279423011757,
          2.0297646580262967,
          1.9703779821152714,
          1.8694308350959048,
          1.7395865134458268,
          1.615384799048026,
          1.5098360183684092,
          1.4297774883311092,
          1.3798460164368498,
          1.3628821927343626,
          1.3628821927343626,
          1.3356924795350182,
          1.258103653652552,
          1.1392979600516593,
          0.9890343941186222,
          0.8154296897178901,
          0.6248956601368549,
          0.4226459944405573,
          0.21307436906495864,
          0,
          0,
          0.2054125172791408,
          0.411522623705649,
          0.6188587760124858,
          0.8276240655724939,
          1.0375882302233648,
          1.248063035081273,
          1.4579613113745526,
          1.6659082272080465,
          1.8703716656488476,
          2.069788003995362,
          2.262647780762384,
          2.4474749020696325,
          2.622619908435082,
          2.7858113860182248,
          2.933473411722386,
          3.060157405921633,
          3.1595886153203128,
          3.2284482121191234,
          3.2683978683450188,
          3.2836570022909988,
          3.278835981166884,
          3.2787799038183216,
          3.2591414122401012,
          3.2288429920531723,
          3.1916714239907735,
          3.1510459789288823,
          3.1099951304733913,
          3.0712421830026613,
          3.0373288903237694,
          3.010681198489256,
          2.993529834881652,
          2.9875893605245896,
          2.9875893605245896,
          2.961239915508566,
          2.9143740340567716,
          2.8663152988333906,
          2.8663152988333906,
          2.82340544083249,
          2.764970097266603,
          2.6596154355067076,
          2.515096839715098,
          2.3837938282994884,
          2.2702298180592253,
          2.178195252772971,
          2.110911533990976,
          2.057956595260378,
          1.9340404110720661,
          1.8119375475803254,
          1.695315204966821,
          1.5884533780983259,
          1.496355081637518,
          1.424605686551972,
          1.3787121736533319,
          1.3628821927343626,
          2.7753110186683196,
          2.777635062740611,
          2.7847262918805864,
          2.796875174219782,
          2.8144015682834347,
          2.83752862737193,
          2.8662483227502125
         ],
         "yaxis": "y"
        },
        {
         "mode": "lines",
         "name": "band 2",
         "type": "scatter",
         "x": [
          0,
          0.05306173499335455,
          0.1061234699867091,
          0.15918520497815342,
          0.21224693996959776,
          0.2653086749667728,
          0.3183704099639478,
          0.3714321449420206,
          0.4244938799391956,
          0.4775556149363706,
          0.5306173499335456,
          0.5836790849307206,
          0.6367408199087934,
          0.6898025549059684,
          0.7428642899031433,
          0.7959260249003184,
          0.848987759878391,
          0.9020494948755662,
          0.9551112298727411,
          0.9551112298727411,
          1.009638748885631,
          1.064166267898521,
          1.1186937869081437,
          1.1732213059210337,
          1.2277488249339237,
          1.2822763439370113,
          1.3368038629695058,
          1.391331381969326,
          1.4458589009691463,
          1.5003864200016406,
          1.5549139390014608,
          1.5549139390014608,
          1.609330626615197,
          1.6637473142289334,
          1.7181640018426694,
          1.7725806894564053,
          1.8269973770701413,
          1.8814140646838775,
          1.9358307522976135,
          1.990247439944024,
          2.04466412755776,
          2.099080815171496,
          2.1534975027852323,
          2.2079141903989683,
          2.2623308780127043,
          2.3167475656264402,
          2.3711642532401767,
          2.4255809408539126,
          2.4799976284676486,
          2.5344143160813846,
          2.5888310036951205,
          2.5888310036951205,
          2.6388946982716948,
          2.6889583928392575,
          2.7390220874158318,
          2.7890857819833945,
          2.8391494765599687,
          2.8892131711275315,
          2.9392768657041057,
          2.989340560275273,
          3.0394042548482427,
          3.0394042548482427,
          3.0925833615859517,
          3.1457624683236607,
          3.198941575058102,
          3.252120681795811,
          3.30529978853352,
          3.358478895271229,
          3.411658001995868,
          3.464837108749914,
          3.518016215471286,
          3.571195322225332,
          3.624374428946704,
          3.67755353570075,
          3.730732642422122,
          3.783911749176168,
          3.83709085589754,
          3.890269962651586,
          3.943449069372958,
          3.996628176127004,
          4.049807282848375,
          4.102986389602421,
          4.156165496323792,
          4.156165496323792,
          4.207861349549089,
          4.259557202807059,
          4.311253056032355,
          4.362948909257652,
          4.414644762515622,
          4.4663406157409185,
          4.518036468966215,
          4.569732322191511,
          4.6214281754494815,
          4.673124028674778,
          4.673124028674778,
          4.72566510344083,
          4.778206178205166,
          4.83074725297036,
          4.83074725297036,
          4.883417749650396,
          4.9360882463115665,
          4.988758742991602,
          5.041429239652773,
          5.094099736332808,
          5.146770232993979,
          5.199440729692879,
          5.2521112263540495,
          5.304781723034084,
          5.357452219695255,
          5.41012271637529,
          5.462793213036461,
          5.515463709716497,
          5.5681342063776675,
          5.620804703057703,
          5.673475199718874,
          5.72614569639891,
          5.72614569639891,
          5.776840087312434,
          5.827534478222398,
          5.878228869143041,
          5.928923260054785,
          5.979617650966529,
          6.030312041878273
         ],
         "xaxis": "x",
         "y": [
          0,
          0.23640394344186433,
          0.4709764099862377,
          0.7018962313740104,
          0.9273783452905751,
          1.1457228222194349,
          1.3553795195527938,
          1.55500374718154,
          1.743471275803249,
          1.919832451169596,
          2.083211478137737,
          2.2775827727970936,
          2.476072492858687,
          2.6756272473320535,
          2.8746329121409837,
          3.069430731443784,
          3.2527694291467513,
          3.4072428665752224,
          3.479405914537363,
          3.479405914537363,
          3.4506658692902965,
          3.413778110302661,
          3.379132076465897,
          3.34734349215974,
          3.320113184345151,
          3.299309666517944,
          3.3828999585363766,
          3.4742576540591865,
          3.4841067544527116,
          3.4286770803781317,
          3.350408736204428,
          3.3504087362072914,
          3.2908917502611943,
          3.2888332104110765,
          3.2808873367174294,
          3.2659954721337625,
          3.205043426540243,
          3.070465903343529,
          2.923552962466557,
          2.7663700815161616,
          2.602089464169849,
          2.4354760879140236,
          2.275035250084056,
          2.145120434541371,
          2.098596445373262,
          2.125718078545533,
          1.969841117255589,
          1.7428419508471429,
          1.5481741244042988,
          1.4123627919626043,
          1.3628821927489696,
          1.3628821927489696,
          1.3356924795493428,
          1.2581036536660408,
          1.1392979600638637,
          0.98903439412922,
          0.8154296897266328,
          0.6248956601435617,
          0.42264599444512113,
          0.21307436906723237,
          0,
          0,
          0.264461355708713,
          0.5272324838121133,
          0.7865584589055771,
          1.0406208742897998,
          1.2876407212026584,
          1.5260545715410108,
          1.7546678641687694,
          1.9726784069276548,
          2.1795351244652243,
          2.374701047234903,
          2.5574517495324693,
          2.7268358144461087,
          2.881877166986575,
          3.0220482270749747,
          3.1479835363799307,
          3.2620670873046564,
          3.3673595322144876,
          3.463686312798743,
          3.545352331677446,
          3.4712665957584314,
          3.4056871934282387,
          3.4057969288800747,
          3.353380747244839,
          3.3124316491006645,
          3.282340472783837,
          3.261203496866951,
          3.244961739567407,
          3.2261497240593053,
          3.1947553728240754,
          3.1482091553221476,
          3.1052694306287094,
          3.0876289420496446,
          3.0876289420496446,
          3.1052072892120286,
          3.109695388203482,
          3.1144922715493975,
          3.1144922715493975,
          2.965952784259628,
          2.8119601370625946,
          2.6931316025121688,
          2.6094015736015157,
          2.5149817340930243,
          2.4110388242899408,
          2.298953435245428,
          2.1805055757243386,
          2.070964768966731,
          2.059926386451919,
          2.0776184471990797,
          2.114236672540355,
          1.9488693007145133,
          1.7264065573224363,
          1.5383672847182144,
          1.4093828422724883,
          1.3628821927489696,
          3.479405914537363,
          3.469317086398518,
          3.4360109437633537,
          3.374055797270281,
          3.287739002379311,
          3.194828173803003,
          3.1144897114266525
         ],
         "yaxis": "y"
        },
        {
         "mode": "lines",
         "name": "band 3",
         "type": "scatter",
         "x": [
          0,
          0.05306173499335455,
          0.1061234699867091,
          0.15918520497815342,
          0.21224693996959776,
          0.2653086749667728,
          0.3183704099639478,
          0.3714321449420206,
          0.4244938799391956,
          0.4775556149363706,
          0.5306173499335456,
          0.5836790849307206,
          0.6367408199087934,
          0.6898025549059684,
          0.7428642899031433,
          0.7959260249003184,
          0.848987759878391,
          0.9020494948755662,
          0.9551112298727411,
          0.9551112298727411,
          1.009638748885631,
          1.064166267898521,
          1.1186937869081437,
          1.1732213059210337,
          1.2277488249339237,
          1.2822763439370113,
          1.3368038629695058,
          1.391331381969326,
          1.4458589009691463,
          1.5003864200016406,
          1.5549139390014608,
          1.5549139390014608,
          1.609330626615197,
          1.6637473142289334,
          1.7181640018426694,
          1.7725806894564053,
          1.8269973770701413,
          1.8814140646838775,
          1.9358307522976135,
          1.990247439944024,
          2.04466412755776,
          2.099080815171496,
          2.1534975027852323,
          2.2079141903989683,
          2.2623308780127043,
          2.3167475656264402,
          2.3711642532401767,
          2.4255809408539126,
          2.4799976284676486,
          2.5344143160813846,
          2.5888310036951205,
          2.5888310036951205,
          2.6388946982716948,
          2.6889583928392575,
          2.7390220874158318,
          2.7890857819833945,
          2.8391494765599687,
          2.8892131711275315,
          2.9392768657041057,
          2.989340560275273,
          3.0394042548482427,
          3.0394042548482427,
          3.0925833615859517,
          3.1457624683236607,
          3.198941575058102,
          3.252120681795811,
          3.30529978853352,
          3.358478895271229,
          3.411658001995868,
          3.464837108749914,
          3.518016215471286,
          3.571195322225332,
          3.624374428946704,
          3.67755353570075,
          3.730732642422122,
          3.783911749176168,
          3.83709085589754,
          3.890269962651586,
          3.943449069372958,
          3.996628176127004,
          4.049807282848375,
          4.102986389602421,
          4.156165496323792,
          4.156165496323792,
          4.207861349549089,
          4.259557202807059,
          4.311253056032355,
          4.362948909257652,
          4.414644762515622,
          4.4663406157409185,
          4.518036468966215,
          4.569732322191511,
          4.6214281754494815,
          4.673124028674778,
          4.673124028674778,
          4.72566510344083,
          4.778206178205166,
          4.83074725297036,
          4.83074725297036,
          4.883417749650396,
          4.9360882463115665,
          4.988758742991602,
          5.041429239652773,
          5.094099736332808,
          5.146770232993979,
          5.199440729692879,
          5.2521112263540495,
          5.304781723034084,
          5.357452219695255,
          5.41012271637529,
          5.462793213036461,
          5.515463709716497,
          5.5681342063776675,
          5.620804703057703,
          5.673475199718874,
          5.72614569639891,
          5.72614569639891,
          5.776840087312434,
          5.827534478222398,
          5.878228869143041,
          5.928923260054785,
          5.979617650966529,
          6.030312041878273
         ],
         "xaxis": "x",
         "y": [
          0,
          0.426444983708915,
          0.8491700829374768,
          1.2644224707473244,
          1.66838518142195,
          2.0571542772129043,
          2.4267354710606197,
          2.773077909727079,
          3.0921801772010467,
          3.3803038314865206,
          3.4502318431983445,
          3.472767320553589,
          3.491370951834022,
          3.505599393784503,
          3.5154572781685482,
          3.521434251207833,
          3.524442532219235,
          3.5256014327835383,
          3.5258618742582652,
          3.5258618742582652,
          3.569714268214868,
          3.650567372241482,
          3.7317898326768613,
          3.7103185400453462,
          3.6840330369697925,
          3.653413288376383,
          3.6190780402708613,
          3.5883468741394853,
          3.602373140835765,
          3.631794511984951,
          3.6278349244222237,
          3.6278349244214225,
          3.588492264577105,
          3.5209072740279215,
          3.431962505094435,
          3.325954088530961,
          3.243573644910948,
          3.2134666503286913,
          3.1758049583854984,
          3.130604978112496,
          3.0764937236606644,
          3.003697593819478,
          2.8706860384837447,
          2.6728760764828383,
          2.4474636078213208,
          2.2094002294310475,
          2.193373448849927,
          2.2890249180558695,
          2.40536171146313,
          2.535634556049511,
          2.6502077886287245,
          2.6502077886287245,
          2.578945694669508,
          2.388530719839396,
          2.121138090104512,
          1.8082693710012643,
          1.4688134800826627,
          1.1135099410196012,
          0.7480877155172361,
          0.37588184741831876,
          0,
          0,
          0.41849730151165204,
          0.8332923764320347,
          1.2405480501626773,
          1.636155219680112,
          2.0155408555965195,
          2.3732400751029648,
          2.701764301478824,
          2.988981935649689,
          3.2168205613286247,
          3.378999137486267,
          3.499393198256964,
          3.6027666013455195,
          3.698538352465708,
          3.7827538075527447,
          3.8287387979394616,
          3.7976937627194514,
          3.7197398268970474,
          3.632012211627482,
          3.54751821436819,
          3.6034625983939756,
          3.6293074607735853,
          3.629251162825509,
          3.6192256243919934,
          3.577433054136779,
          3.5121486651102036,
          3.433273371005199,
          3.3500598961019943,
          3.2705270354584433,
          3.2014323144251184,
          3.1486750844513307,
          3.1147745429367135,
          3.103391896157947,
          3.103391896157947,
          3.116452771005857,
          3.1705281538214054,
          3.230103459222768,
          3.230103459222768,
          3.2299168391071404,
          3.221944634044054,
          3.205195636177469,
          3.179719592163091,
          3.146319768727732,
          3.106322079921879,
          3.0613686395405915,
          3.013233285666437,
          2.9039389760470153,
          2.683608361957997,
          2.4462042633205345,
          2.210393646978645,
          2.206390990368342,
          2.299989023734116,
          2.413518011189089,
          2.539962072642852,
          2.6502077886287245,
          3.5258618742582652,
          3.5088561608735604,
          3.4665519708474792,
          3.4117004318744435,
          3.3516873535792158,
          3.2903593234652875,
          3.2300574362816707
         ],
         "yaxis": "y"
        },
        {
         "mode": "lines",
         "name": "band 4",
         "type": "scatter",
         "x": [
          0,
          0.05306173499335455,
          0.1061234699867091,
          0.15918520497815342,
          0.21224693996959776,
          0.2653086749667728,
          0.3183704099639478,
          0.3714321449420206,
          0.4244938799391956,
          0.4775556149363706,
          0.5306173499335456,
          0.5836790849307206,
          0.6367408199087934,
          0.6898025549059684,
          0.7428642899031433,
          0.7959260249003184,
          0.848987759878391,
          0.9020494948755662,
          0.9551112298727411,
          0.9551112298727411,
          1.009638748885631,
          1.064166267898521,
          1.1186937869081437,
          1.1732213059210337,
          1.2277488249339237,
          1.2822763439370113,
          1.3368038629695058,
          1.391331381969326,
          1.4458589009691463,
          1.5003864200016406,
          1.5549139390014608,
          1.5549139390014608,
          1.609330626615197,
          1.6637473142289334,
          1.7181640018426694,
          1.7725806894564053,
          1.8269973770701413,
          1.8814140646838775,
          1.9358307522976135,
          1.990247439944024,
          2.04466412755776,
          2.099080815171496,
          2.1534975027852323,
          2.2079141903989683,
          2.2623308780127043,
          2.3167475656264402,
          2.3711642532401767,
          2.4255809408539126,
          2.4799976284676486,
          2.5344143160813846,
          2.5888310036951205,
          2.5888310036951205,
          2.6388946982716948,
          2.6889583928392575,
          2.7390220874158318,
          2.7890857819833945,
          2.8391494765599687,
          2.8892131711275315,
          2.9392768657041057,
          2.989340560275273,
          3.0394042548482427,
          3.0394042548482427,
          3.0925833615859517,
          3.1457624683236607,
          3.198941575058102,
          3.252120681795811,
          3.30529978853352,
          3.358478895271229,
          3.411658001995868,
          3.464837108749914,
          3.518016215471286,
          3.571195322225332,
          3.624374428946704,
          3.67755353570075,
          3.730732642422122,
          3.783911749176168,
          3.83709085589754,
          3.890269962651586,
          3.943449069372958,
          3.996628176127004,
          4.049807282848375,
          4.102986389602421,
          4.156165496323792,
          4.156165496323792,
          4.207861349549089,
          4.259557202807059,
          4.311253056032355,
          4.362948909257652,
          4.414644762515622,
          4.4663406157409185,
          4.518036468966215,
          4.569732322191511,
          4.6214281754494815,
          4.673124028674778,
          4.673124028674778,
          4.72566510344083,
          4.778206178205166,
          4.83074725297036,
          4.83074725297036,
          4.883417749650396,
          4.9360882463115665,
          4.988758742991602,
          5.041429239652773,
          5.094099736332808,
          5.146770232993979,
          5.199440729692879,
          5.2521112263540495,
          5.304781723034084,
          5.357452219695255,
          5.41012271637529,
          5.462793213036461,
          5.515463709716497,
          5.5681342063776675,
          5.620804703057703,
          5.673475199718874,
          5.72614569639891,
          5.72614569639891,
          5.776840087312434,
          5.827534478222398,
          5.878228869143041,
          5.928923260054785,
          5.979617650966529,
          6.030312041878273
         ],
         "xaxis": "x",
         "y": [
          3.2445176879787057,
          3.247564375472651,
          3.2565713652064496,
          3.271129221176934,
          3.290557002407668,
          3.3139547573525783,
          3.340267692675061,
          3.3683227029715797,
          3.3968559103229077,
          3.424570901849373,
          3.608799289355676,
          3.6405449842214845,
          3.6692100253270064,
          3.6944634025438248,
          3.716089450470891,
          3.7337829540938956,
          3.747062915318921,
          3.755353651880772,
          3.758178920464954,
          3.758178920464954,
          3.7558148624809973,
          3.7473089858660527,
          3.753683042264434,
          3.870721020586647,
          3.9888168897908933,
          4.0924578278476655,
          4.168022050510725,
          4.2097953552171,
          4.220514363294976,
          4.2063708015182115,
          4.173360509285239,
          4.173360509288202,
          4.125971023476099,
          4.066607861589861,
          3.99612770625534,
          3.914234787436747,
          3.819947318404783,
          3.7120767880582637,
          3.5896055403084635,
          3.451961035693459,
          3.300082776940749,
          3.143627714084309,
          3.025057024255445,
          2.9518444905270167,
          2.8922834994352957,
          2.839778250046333,
          2.7946626738050258,
          2.758323876157748,
          2.7319406992228696,
          2.716092402649909,
          2.710831952154762,
          2.710831952154762,
          2.726953307630301,
          2.7715155831982483,
          2.835889107574699,
          2.9112685000185476,
          2.9908815952283967,
          3.0699456580098667,
          3.144740324933898,
          3.2101099423933053,
          3.244517687978706,
          3.244517687978706,
          3.247335193081013,
          3.256050205745407,
          3.2713935021473035,
          3.29448178445386,
          3.326888308608672,
          3.3710696751253684,
          3.4315500802057803,
          3.5175746093917524,
          3.6260387400033514,
          3.692240359064875,
          3.7631741686268465,
          3.837907505536527,
          3.915128258738275,
          3.992816503827335,
          4.067619461013709,
          4.116861988401233,
          4.183080712257617,
          4.213713451958899,
          4.227217516508142,
          4.23437974925804,
          4.244815371647925,
          4.244818181638789,
          4.23839857689948,
          4.1692600671058235,
          4.077472086529156,
          3.965171280613512,
          3.839721701375748,
          3.71733457741194,
          3.620277836137808,
          3.5633046376434265,
          3.5399624273618584,
          3.534504349835606,
          3.534504349835606,
          3.5406301906132263,
          3.5598450879864396,
          3.59400816838063,
          3.59400816838063,
          3.6274453273304057,
          3.6350945923432665,
          3.6160913635323704,
          3.5704564538598027,
          3.497582566203749,
          3.395873059140551,
          3.2633048309978916,
          3.0988211842522757,
          2.9636914424792895,
          2.914466963394686,
          2.867238896007031,
          2.8236600670590444,
          2.7853402974453183,
          2.7537768491978905,
          2.730252071738399,
          2.7157373885321907,
          2.710831952154762,
          3.758178920464954,
          3.770985592344116,
          3.7636090391523536,
          3.6996995184414283,
          3.65166225574787,
          3.618487709366993,
          3.5939543007731114
         ],
         "yaxis": "y"
        },
        {
         "mode": "lines",
         "name": "band 5",
         "type": "scatter",
         "x": [
          0,
          0.05306173499335455,
          0.1061234699867091,
          0.15918520497815342,
          0.21224693996959776,
          0.2653086749667728,
          0.3183704099639478,
          0.3714321449420206,
          0.4244938799391956,
          0.4775556149363706,
          0.5306173499335456,
          0.5836790849307206,
          0.6367408199087934,
          0.6898025549059684,
          0.7428642899031433,
          0.7959260249003184,
          0.848987759878391,
          0.9020494948755662,
          0.9551112298727411,
          0.9551112298727411,
          1.009638748885631,
          1.064166267898521,
          1.1186937869081437,
          1.1732213059210337,
          1.2277488249339237,
          1.2822763439370113,
          1.3368038629695058,
          1.391331381969326,
          1.4458589009691463,
          1.5003864200016406,
          1.5549139390014608,
          1.5549139390014608,
          1.609330626615197,
          1.6637473142289334,
          1.7181640018426694,
          1.7725806894564053,
          1.8269973770701413,
          1.8814140646838775,
          1.9358307522976135,
          1.990247439944024,
          2.04466412755776,
          2.099080815171496,
          2.1534975027852323,
          2.2079141903989683,
          2.2623308780127043,
          2.3167475656264402,
          2.3711642532401767,
          2.4255809408539126,
          2.4799976284676486,
          2.5344143160813846,
          2.5888310036951205,
          2.5888310036951205,
          2.6388946982716948,
          2.6889583928392575,
          2.7390220874158318,
          2.7890857819833945,
          2.8391494765599687,
          2.8892131711275315,
          2.9392768657041057,
          2.989340560275273,
          3.0394042548482427,
          3.0394042548482427,
          3.0925833615859517,
          3.1457624683236607,
          3.198941575058102,
          3.252120681795811,
          3.30529978853352,
          3.358478895271229,
          3.411658001995868,
          3.464837108749914,
          3.518016215471286,
          3.571195322225332,
          3.624374428946704,
          3.67755353570075,
          3.730732642422122,
          3.783911749176168,
          3.83709085589754,
          3.890269962651586,
          3.943449069372958,
          3.996628176127004,
          4.049807282848375,
          4.102986389602421,
          4.156165496323792,
          4.156165496323792,
          4.207861349549089,
          4.259557202807059,
          4.311253056032355,
          4.362948909257652,
          4.414644762515622,
          4.4663406157409185,
          4.518036468966215,
          4.569732322191511,
          4.6214281754494815,
          4.673124028674778,
          4.673124028674778,
          4.72566510344083,
          4.778206178205166,
          4.83074725297036,
          4.83074725297036,
          4.883417749650396,
          4.9360882463115665,
          4.988758742991602,
          5.041429239652773,
          5.094099736332808,
          5.146770232993979,
          5.199440729692879,
          5.2521112263540495,
          5.304781723034084,
          5.357452219695255,
          5.41012271637529,
          5.462793213036461,
          5.515463709716497,
          5.5681342063776675,
          5.620804703057703,
          5.673475199718874,
          5.72614569639891,
          5.72614569639891,
          5.776840087312434,
          5.827534478222398,
          5.878228869143041,
          5.928923260054785,
          5.979617650966529,
          6.030312041878273
         ],
         "xaxis": "x",
         "y": [
          3.2445176880545445,
          3.25663498783662,
          3.2926037289212426,
          3.3512445704377654,
          3.407093328376484,
          3.436005966113027,
          3.4684028416005193,
          3.503137731045757,
          3.5389756140380992,
          3.5746106704353373,
          3.634162669805382,
          3.8502472656916655,
          4.020332875181667,
          4.12022555323958,
          4.132295151186713,
          4.083097139840812,
          3.999059918471918,
          3.903657753152312,
          3.8512338714120338,
          3.8512338714120338,
          3.860652578751296,
          3.8894858562879926,
          3.9360862645488663,
          3.9952335595781148,
          4.0602921892560575,
          4.1248577540591045,
          4.184198479887759,
          4.2368755743533555,
          4.285576634669562,
          4.334908207398964,
          4.386240305647614,
          4.38624030564656,
          4.435255330662797,
          4.4753467555115725,
          4.474683980375237,
          4.376717793214912,
          4.2817761189546895,
          4.192887079300371,
          4.1109104567342865,
          4.03555799440739,
          3.9660312264077477,
          3.901615116992411,
          3.8421038444536677,
          3.7879432033444322,
          3.639951208703411,
          3.4747325241219227,
          3.308234376037416,
          3.14403786971953,
          2.9847705925969215,
          2.8321358366015343,
          2.7108319521838156,
          2.7108319521838156,
          2.726953307659533,
          2.771515583227959,
          2.835889107605099,
          2.911268500049758,
          2.990881595260465,
          3.0699456580427777,
          3.1447403249676094,
          3.2101099424277195,
          3.2445176880545454,
          3.244517688054544,
          3.2571026979174214,
          3.292287745449149,
          3.3391932065625793,
          3.380874801764364,
          3.419519741914903,
          3.4620395502666135,
          3.510522393475469,
          3.56528442825824,
          3.6443914519650793,
          3.8154579996945515,
          4.003901303224482,
          4.179710672747683,
          4.210671120174254,
          4.13692610478699,
          4.0910553936505885,
          4.133927337123444,
          4.184109021152768,
          4.247290782465263,
          4.289822472689435,
          4.3021950338227155,
          4.283627759220866,
          4.283458321067147,
          4.263904224314107,
          4.292054450140411,
          4.325568259241167,
          4.360099237297762,
          4.247112883079614,
          4.147588178400784,
          4.066497187094007,
          4.005082206538566,
          3.966051296825435,
          3.9525516794744946,
          3.9525516794744946,
          3.9493025976532246,
          3.939453620092079,
          3.922886822342649,
          3.922886822342649,
          3.9204192995038527,
          3.913790353864623,
          3.903300407680312,
          3.8892443796343583,
          3.8718693609471435,
          3.8513430105428657,
          3.8277908752217806,
          3.8014320575983933,
          3.77277061031504,
          3.742741357610079,
          3.6171791096721533,
          3.4530886429144356,
          3.289494549853071,
          3.129420817889415,
          2.974975532972073,
          2.827397913165481,
          2.7108319521838156,
          3.8512338714120338,
          3.824966692738185,
          3.801010648610703,
          3.836273848806406,
          3.8702266366520206,
          3.8996795375727524,
          3.922905124656003
         ],
         "yaxis": "y"
        },
        {
         "mode": "lines",
         "name": "band 6",
         "type": "scatter",
         "x": [
          0,
          0.05306173499335455,
          0.1061234699867091,
          0.15918520497815342,
          0.21224693996959776,
          0.2653086749667728,
          0.3183704099639478,
          0.3714321449420206,
          0.4244938799391956,
          0.4775556149363706,
          0.5306173499335456,
          0.5836790849307206,
          0.6367408199087934,
          0.6898025549059684,
          0.7428642899031433,
          0.7959260249003184,
          0.848987759878391,
          0.9020494948755662,
          0.9551112298727411,
          0.9551112298727411,
          1.009638748885631,
          1.064166267898521,
          1.1186937869081437,
          1.1732213059210337,
          1.2277488249339237,
          1.2822763439370113,
          1.3368038629695058,
          1.391331381969326,
          1.4458589009691463,
          1.5003864200016406,
          1.5549139390014608,
          1.5549139390014608,
          1.609330626615197,
          1.6637473142289334,
          1.7181640018426694,
          1.7725806894564053,
          1.8269973770701413,
          1.8814140646838775,
          1.9358307522976135,
          1.990247439944024,
          2.04466412755776,
          2.099080815171496,
          2.1534975027852323,
          2.2079141903989683,
          2.2623308780127043,
          2.3167475656264402,
          2.3711642532401767,
          2.4255809408539126,
          2.4799976284676486,
          2.5344143160813846,
          2.5888310036951205,
          2.5888310036951205,
          2.6388946982716948,
          2.6889583928392575,
          2.7390220874158318,
          2.7890857819833945,
          2.8391494765599687,
          2.8892131711275315,
          2.9392768657041057,
          2.989340560275273,
          3.0394042548482427,
          3.0394042548482427,
          3.0925833615859517,
          3.1457624683236607,
          3.198941575058102,
          3.252120681795811,
          3.30529978853352,
          3.358478895271229,
          3.411658001995868,
          3.464837108749914,
          3.518016215471286,
          3.571195322225332,
          3.624374428946704,
          3.67755353570075,
          3.730732642422122,
          3.783911749176168,
          3.83709085589754,
          3.890269962651586,
          3.943449069372958,
          3.996628176127004,
          4.049807282848375,
          4.102986389602421,
          4.156165496323792,
          4.156165496323792,
          4.207861349549089,
          4.259557202807059,
          4.311253056032355,
          4.362948909257652,
          4.414644762515622,
          4.4663406157409185,
          4.518036468966215,
          4.569732322191511,
          4.6214281754494815,
          4.673124028674778,
          4.673124028674778,
          4.72566510344083,
          4.778206178205166,
          4.83074725297036,
          4.83074725297036,
          4.883417749650396,
          4.9360882463115665,
          4.988758742991602,
          5.041429239652773,
          5.094099736332808,
          5.146770232993979,
          5.199440729692879,
          5.2521112263540495,
          5.304781723034084,
          5.357452219695255,
          5.41012271637529,
          5.462793213036461,
          5.515463709716497,
          5.5681342063776675,
          5.620804703057703,
          5.673475199718874,
          5.72614569639891,
          5.72614569639891,
          5.776840087312434,
          5.827534478222398,
          5.878228869143041,
          5.928923260054785,
          5.979617650966529,
          6.030312041878273
         ],
         "xaxis": "x",
         "y": [
          3.3485132745360615,
          3.3525227639339135,
          3.364228563483995,
          3.3827860023161453,
          3.430529093668802,
          3.5275661940823646,
          3.6386331265629805,
          3.7591707689406895,
          3.8836208880144714,
          4.005081155086127,
          4.115221197912477,
          4.206087264407481,
          4.277353671674965,
          4.350226012245502,
          4.4445169669949625,
          4.5372244721332065,
          4.561142410436793,
          4.561895995583664,
          4.562076757606871,
          4.562076757606871,
          4.563147808714247,
          4.56673563757151,
          4.573900364294452,
          4.5858701601902725,
          4.599567642887227,
          4.599178492221967,
          4.588507576008369,
          4.579797909932185,
          4.578067251177659,
          4.584240673980821,
          4.595486396949181,
          4.595486396948509,
          4.602107738854459,
          4.564284819501663,
          4.500725255402622,
          4.50746518651516,
          4.493134545235682,
          4.4563652282782265,
          4.3966934153229404,
          4.314561710698951,
          4.2113217530165725,
          4.089157747128272,
          3.950928133902178,
          3.7999726192742336,
          3.7400449572905377,
          3.6993807006399386,
          3.6665907126968347,
          3.6418038703090225,
          3.624705200310325,
          3.614764589259118,
          3.6115128190149988,
          3.6115128190149988,
          3.6074204883230236,
          3.595255216251643,
          3.575286801713498,
          3.5478271047480003,
          3.5132145499782323,
          3.4719835682875675,
          3.4253337250531493,
          3.37715658721147,
          3.348513274457615,
          3.348513274511564,
          3.3533929943901235,
          3.3695619615248846,
          3.4049794599923664,
          3.4722814757482663,
          3.5641380536496134,
          3.6681068192618533,
          3.7765030952645895,
          3.8836147350660184,
          3.984788518052539,
          4.0763264530196315,
          4.155605387774378,
          4.2212702076137045,
          4.273426320778402,
          4.313826986799259,
          4.346191389360598,
          4.3767413373148285,
          4.413624751237778,
          4.461602306401139,
          4.516677036767162,
          4.570655896988902,
          4.6170817192683895,
          4.6171337320921815,
          4.652337980690163,
          4.63760142937819,
          4.497070128036312,
          4.364521280136504,
          4.392390409108767,
          4.420419826037993,
          4.4430293610072535,
          4.459560772247515,
          4.469625800812788,
          4.473005188529504,
          4.473005188529504,
          4.482753377824982,
          4.510207495911141,
          4.550058754137297,
          4.550058754137297,
          4.568838701523877,
          4.571006443734439,
          4.548943868339167,
          4.499905532328434,
          4.4256737493297305,
          4.328938942900563,
          4.212487222765576,
          4.07954743077901,
          3.933699328967358,
          3.778470271309628,
          3.7127135271803295,
          3.6843243959658993,
          3.659201260290537,
          3.638683366007186,
          3.62365543436604,
          3.614553126629696,
          3.6115128190149988,
          4.562076757606871,
          4.57949036253476,
          4.612108079051476,
          4.621846470093338,
          4.607057796089421,
          4.581089909876626,
          4.5499530501360885
         ],
         "yaxis": "y"
        },
        {
         "mode": "lines",
         "name": "band 7",
         "type": "scatter",
         "x": [
          0,
          0.05306173499335455,
          0.1061234699867091,
          0.15918520497815342,
          0.21224693996959776,
          0.2653086749667728,
          0.3183704099639478,
          0.3714321449420206,
          0.4244938799391956,
          0.4775556149363706,
          0.5306173499335456,
          0.5836790849307206,
          0.6367408199087934,
          0.6898025549059684,
          0.7428642899031433,
          0.7959260249003184,
          0.848987759878391,
          0.9020494948755662,
          0.9551112298727411,
          0.9551112298727411,
          1.009638748885631,
          1.064166267898521,
          1.1186937869081437,
          1.1732213059210337,
          1.2277488249339237,
          1.2822763439370113,
          1.3368038629695058,
          1.391331381969326,
          1.4458589009691463,
          1.5003864200016406,
          1.5549139390014608,
          1.5549139390014608,
          1.609330626615197,
          1.6637473142289334,
          1.7181640018426694,
          1.7725806894564053,
          1.8269973770701413,
          1.8814140646838775,
          1.9358307522976135,
          1.990247439944024,
          2.04466412755776,
          2.099080815171496,
          2.1534975027852323,
          2.2079141903989683,
          2.2623308780127043,
          2.3167475656264402,
          2.3711642532401767,
          2.4255809408539126,
          2.4799976284676486,
          2.5344143160813846,
          2.5888310036951205,
          2.5888310036951205,
          2.6388946982716948,
          2.6889583928392575,
          2.7390220874158318,
          2.7890857819833945,
          2.8391494765599687,
          2.8892131711275315,
          2.9392768657041057,
          2.989340560275273,
          3.0394042548482427,
          3.0394042548482427,
          3.0925833615859517,
          3.1457624683236607,
          3.198941575058102,
          3.252120681795811,
          3.30529978853352,
          3.358478895271229,
          3.411658001995868,
          3.464837108749914,
          3.518016215471286,
          3.571195322225332,
          3.624374428946704,
          3.67755353570075,
          3.730732642422122,
          3.783911749176168,
          3.83709085589754,
          3.890269962651586,
          3.943449069372958,
          3.996628176127004,
          4.049807282848375,
          4.102986389602421,
          4.156165496323792,
          4.156165496323792,
          4.207861349549089,
          4.259557202807059,
          4.311253056032355,
          4.362948909257652,
          4.414644762515622,
          4.4663406157409185,
          4.518036468966215,
          4.569732322191511,
          4.6214281754494815,
          4.673124028674778,
          4.673124028674778,
          4.72566510344083,
          4.778206178205166,
          4.83074725297036,
          4.83074725297036,
          4.883417749650396,
          4.9360882463115665,
          4.988758742991602,
          5.041429239652773,
          5.094099736332808,
          5.146770232993979,
          5.199440729692879,
          5.2521112263540495,
          5.304781723034084,
          5.357452219695255,
          5.41012271637529,
          5.462793213036461,
          5.515463709716497,
          5.5681342063776675,
          5.620804703057703,
          5.673475199718874,
          5.72614569639891,
          5.72614569639891,
          5.776840087312434,
          5.827534478222398,
          5.878228869143041,
          5.928923260054785,
          5.979617650966529,
          6.030312041878273
         ],
         "xaxis": "x",
         "y": [
          3.82951115322469,
          3.840726328529026,
          3.873535992416889,
          3.9255726674132947,
          3.9932940449716887,
          4.072407743569453,
          4.158203788883439,
          4.245682044826032,
          4.329518376810758,
          4.404275623144489,
          4.465501662452348,
          4.511159736516016,
          4.541259270685982,
          4.557066691003804,
          4.562754133542604,
          4.566194240020642,
          4.619687465172355,
          4.669640414500945,
          4.687272685019334,
          4.687272685019334,
          4.68497468537166,
          4.678343754341832,
          4.668262744961626,
          4.6570192226462535,
          4.6533682318276615,
          4.680895833903778,
          4.742534664961465,
          4.8260822038494275,
          4.918880619825678,
          4.933670599328834,
          4.8287672383412925,
          4.828767238343885,
          4.733104876811326,
          4.686603963592978,
          4.697691852138603,
          4.7233324231111435,
          4.748805349746327,
          4.761464574905244,
          4.74791902032309,
          4.704482109602526,
          4.640301233040289,
          4.568429197180652,
          4.449749491992387,
          4.318981766207849,
          4.184071644982233,
          4.048791742901274,
          3.9181306046851,
          3.798976529913298,
          3.7007634329972148,
          3.634878518702992,
          3.6115128190537193,
          3.6115128190537193,
          3.607420488361699,
          3.595255216290185,
          3.575286801751824,
          3.547827104786032,
          3.5132145500158947,
          3.4719835683247906,
          3.4253337250898728,
          3.377156587247674,
          3.3485132745367228,
          3.8403305140076873,
          3.8517746793326517,
          3.8850644637448317,
          3.9372466122607235,
          4.003874369017497,
          4.079456885126275,
          4.157787060072338,
          4.232073201333232,
          4.294875093268631,
          4.338074953924596,
          4.353694242078851,
          4.336780731565524,
          4.291211650718085,
          4.345626312502869,
          4.47344697638347,
          4.57859887426038,
          4.664517436946794,
          4.738925184285036,
          4.811675529403934,
          4.891413298424653,
          4.96832973155652,
          4.902487529717216,
          4.9025943633035824,
          4.776324818139606,
          4.678384645305756,
          4.6979225621983485,
          4.713689153902747,
          4.72747373703398,
          4.739967344835152,
          4.750987076115656,
          4.7598160683509185,
          4.765578719006552,
          4.767585927461434,
          4.767585927461434,
          4.767695839182499,
          4.767787847429293,
          4.767210461608711,
          4.767210461608711,
          4.767702081783898,
          4.764045328495244,
          4.75419946598143,
          4.729152065586672,
          4.68360200628947,
          4.622224665554525,
          4.552548285874801,
          4.479145014898867,
          4.398347135095775,
          4.293912942794514,
          4.166008288789722,
          4.032638753606669,
          3.904527626673941,
          3.7892889549029984,
          3.6955864388290665,
          3.6334188924639577,
          3.6115128190537193,
          4.687272685019334,
          4.687133672912532,
          4.6923565724328995,
          4.716152387650562,
          4.744351171478057,
          4.761112034463779,
          4.767299290474179
         ],
         "yaxis": "y"
        },
        {
         "mode": "lines",
         "name": "band 8",
         "type": "scatter",
         "x": [
          0,
          0.05306173499335455,
          0.1061234699867091,
          0.15918520497815342,
          0.21224693996959776,
          0.2653086749667728,
          0.3183704099639478,
          0.3714321449420206,
          0.4244938799391956,
          0.4775556149363706,
          0.5306173499335456,
          0.5836790849307206,
          0.6367408199087934,
          0.6898025549059684,
          0.7428642899031433,
          0.7959260249003184,
          0.848987759878391,
          0.9020494948755662,
          0.9551112298727411,
          0.9551112298727411,
          1.009638748885631,
          1.064166267898521,
          1.1186937869081437,
          1.1732213059210337,
          1.2277488249339237,
          1.2822763439370113,
          1.3368038629695058,
          1.391331381969326,
          1.4458589009691463,
          1.5003864200016406,
          1.5549139390014608,
          1.5549139390014608,
          1.609330626615197,
          1.6637473142289334,
          1.7181640018426694,
          1.7725806894564053,
          1.8269973770701413,
          1.8814140646838775,
          1.9358307522976135,
          1.990247439944024,
          2.04466412755776,
          2.099080815171496,
          2.1534975027852323,
          2.2079141903989683,
          2.2623308780127043,
          2.3167475656264402,
          2.3711642532401767,
          2.4255809408539126,
          2.4799976284676486,
          2.5344143160813846,
          2.5888310036951205,
          2.5888310036951205,
          2.6388946982716948,
          2.6889583928392575,
          2.7390220874158318,
          2.7890857819833945,
          2.8391494765599687,
          2.8892131711275315,
          2.9392768657041057,
          2.989340560275273,
          3.0394042548482427,
          3.0394042548482427,
          3.0925833615859517,
          3.1457624683236607,
          3.198941575058102,
          3.252120681795811,
          3.30529978853352,
          3.358478895271229,
          3.411658001995868,
          3.464837108749914,
          3.518016215471286,
          3.571195322225332,
          3.624374428946704,
          3.67755353570075,
          3.730732642422122,
          3.783911749176168,
          3.83709085589754,
          3.890269962651586,
          3.943449069372958,
          3.996628176127004,
          4.049807282848375,
          4.102986389602421,
          4.156165496323792,
          4.156165496323792,
          4.207861349549089,
          4.259557202807059,
          4.311253056032355,
          4.362948909257652,
          4.414644762515622,
          4.4663406157409185,
          4.518036468966215,
          4.569732322191511,
          4.6214281754494815,
          4.673124028674778,
          4.673124028674778,
          4.72566510344083,
          4.778206178205166,
          4.83074725297036,
          4.83074725297036,
          4.883417749650396,
          4.9360882463115665,
          4.988758742991602,
          5.041429239652773,
          5.094099736332808,
          5.146770232993979,
          5.199440729692879,
          5.2521112263540495,
          5.304781723034084,
          5.357452219695255,
          5.41012271637529,
          5.462793213036461,
          5.515463709716497,
          5.5681342063776675,
          5.620804703057703,
          5.673475199718874,
          5.72614569639891,
          5.72614569639891,
          5.776840087312434,
          5.827534478222398,
          5.878228869143041,
          5.928923260054785,
          5.979617650966529,
          6.030312041878273
         ],
         "xaxis": "x",
         "y": [
          4.920037770962649,
          4.91934006886567,
          4.91725819438423,
          4.913841060438501,
          4.909368410653463,
          4.904833627759248,
          4.902396594538108,
          4.905331752367441,
          4.917327541726919,
          4.940950789726073,
          4.9742007040134055,
          5.005820949269685,
          5.02200912474104,
          5.026728529673524,
          5.031132762641099,
          5.0367927785886515,
          5.040736165191569,
          5.0418750500722505,
          5.04182395028406,
          5.04182395028406,
          5.040211156193471,
          5.03560513217492,
          5.028707938391341,
          5.020711779472861,
          5.013327358163285,
          5.008740998433663,
          5.009310324857555,
          5.016805868499939,
          5.031348560208136,
          5.009771396600812,
          5.070599592376403,
          5.070599592374074,
          5.085652187190415,
          5.090835651394129,
          5.082213196527743,
          5.057364497714689,
          5.015293065497751,
          4.956132025550358,
          4.8808250723295314,
          4.790815650169392,
          4.687771995168371,
          4.573446340673522,
          4.499649562858387,
          4.441270611392811,
          4.3974790374465025,
          4.370022798753295,
          4.358793695257182,
          4.361836565708944,
          4.37449302699268,
          4.388623991934896,
          4.394816780653808,
          4.394816780653808,
          4.455814693901048,
          4.614688709420552,
          4.828004214659187,
          5.064164609604243,
          5.305527916992853,
          5.5422878399815465,
          5.767529685455739,
          5.972039342844925,
          6.097691716701408,
          4.903635359794164,
          4.903595648237086,
          4.903574029460337,
          4.9038301686660235,
          4.904682400094572,
          4.906367536432164,
          4.90898228112618,
          4.9126129281038,
          4.917578363619992,
          4.924522281302142,
          4.9341422678817475,
          4.946641912727875,
          4.961254346819739,
          4.976170524387814,
          4.988954524443046,
          4.997261512073999,
          4.999581942138991,
          4.995831972910434,
          4.9877175545282135,
          4.978746559550226,
          4.9735997032710495,
          4.976583329742825,
          4.976497701842866,
          4.9889632532401125,
          5.009360420828982,
          5.0341441535915505,
          5.059754434322105,
          5.083675027524344,
          5.104428496943867,
          5.121198095923776,
          5.133500781167161,
          5.1410171145547565,
          5.143546136212521,
          5.143546136212521,
          5.138664165719349,
          5.1244253994889,
          5.10219879478769,
          5.10219879478769,
          5.082125466999527,
          5.05803133781312,
          5.036893766834691,
          5.022091054179597,
          4.996836817975859,
          4.926329625497537,
          4.808597092543154,
          4.672498915274447,
          4.544046200854522,
          4.450343487111327,
          4.39677557393432,
          4.368833288562382,
          4.35890633662366,
          4.362848842917252,
          4.375484253733894,
          4.3889959442678705,
          4.394816780653808,
          5.04182395028406,
          5.042504754000923,
          5.045347444620716,
          5.052427094241904,
          5.065459445893312,
          5.083321671874416,
          5.102205693934126
         ],
         "yaxis": "y"
        },
        {
         "mode": "lines",
         "name": "band 9",
         "type": "scatter",
         "x": [
          0,
          0.05306173499335455,
          0.1061234699867091,
          0.15918520497815342,
          0.21224693996959776,
          0.2653086749667728,
          0.3183704099639478,
          0.3714321449420206,
          0.4244938799391956,
          0.4775556149363706,
          0.5306173499335456,
          0.5836790849307206,
          0.6367408199087934,
          0.6898025549059684,
          0.7428642899031433,
          0.7959260249003184,
          0.848987759878391,
          0.9020494948755662,
          0.9551112298727411,
          0.9551112298727411,
          1.009638748885631,
          1.064166267898521,
          1.1186937869081437,
          1.1732213059210337,
          1.2277488249339237,
          1.2822763439370113,
          1.3368038629695058,
          1.391331381969326,
          1.4458589009691463,
          1.5003864200016406,
          1.5549139390014608,
          1.5549139390014608,
          1.609330626615197,
          1.6637473142289334,
          1.7181640018426694,
          1.7725806894564053,
          1.8269973770701413,
          1.8814140646838775,
          1.9358307522976135,
          1.990247439944024,
          2.04466412755776,
          2.099080815171496,
          2.1534975027852323,
          2.2079141903989683,
          2.2623308780127043,
          2.3167475656264402,
          2.3711642532401767,
          2.4255809408539126,
          2.4799976284676486,
          2.5344143160813846,
          2.5888310036951205,
          2.5888310036951205,
          2.6388946982716948,
          2.6889583928392575,
          2.7390220874158318,
          2.7890857819833945,
          2.8391494765599687,
          2.8892131711275315,
          2.9392768657041057,
          2.989340560275273,
          3.0394042548482427,
          3.0394042548482427,
          3.0925833615859517,
          3.1457624683236607,
          3.198941575058102,
          3.252120681795811,
          3.30529978853352,
          3.358478895271229,
          3.411658001995868,
          3.464837108749914,
          3.518016215471286,
          3.571195322225332,
          3.624374428946704,
          3.67755353570075,
          3.730732642422122,
          3.783911749176168,
          3.83709085589754,
          3.890269962651586,
          3.943449069372958,
          3.996628176127004,
          4.049807282848375,
          4.102986389602421,
          4.156165496323792,
          4.156165496323792,
          4.207861349549089,
          4.259557202807059,
          4.311253056032355,
          4.362948909257652,
          4.414644762515622,
          4.4663406157409185,
          4.518036468966215,
          4.569732322191511,
          4.6214281754494815,
          4.673124028674778,
          4.673124028674778,
          4.72566510344083,
          4.778206178205166,
          4.83074725297036,
          4.83074725297036,
          4.883417749650396,
          4.9360882463115665,
          4.988758742991602,
          5.041429239652773,
          5.094099736332808,
          5.146770232993979,
          5.199440729692879,
          5.2521112263540495,
          5.304781723034084,
          5.357452219695255,
          5.41012271637529,
          5.462793213036461,
          5.515463709716497,
          5.5681342063776675,
          5.620804703057703,
          5.673475199718874,
          5.72614569639891,
          5.72614569639891,
          5.776840087312434,
          5.827534478222398,
          5.878228869143041,
          5.928923260054785,
          5.979617650966529,
          6.030312041878273
         ],
         "xaxis": "x",
         "y": [
          6.097691716701409,
          6.086098616694709,
          6.051531561561264,
          5.994962342184748,
          5.91879505588937,
          5.827232819391548,
          5.726020139312263,
          5.621801330406947,
          5.52163971202513,
          5.433337926563102,
          5.36736876934626,
          5.339574943677431,
          5.3630730316138635,
          5.426963361066626,
          5.5061374558831995,
          5.581486693807161,
          5.641568793236002,
          5.679849143091784,
          5.692956929291802,
          5.692956929291802,
          5.677689757197018,
          5.635893958031572,
          5.575648189494999,
          5.503424489299522,
          5.422664168529377,
          5.334940029438666,
          5.241178995271293,
          5.14229621566584,
          5.039488381132997,
          5.05071472865246,
          5.08895844355172,
          5.0889584435504975,
          5.15159217842946,
          5.194637963523456,
          5.217469000485603,
          5.2226784521397205,
          5.217465936709286,
          5.214576229622708,
          5.228248389505341,
          5.263593234298754,
          5.314712404804462,
          5.37478684709259,
          5.442457636822475,
          5.522080540230169,
          5.6216675644910445,
          5.750544971049776,
          5.918150950988402,
          6.135089486685958,
          6.415565878634596,
          6.772830824458706,
          7.088104611941429,
          7.088104611941429,
          7.076604531463544,
          7.0425370344760365,
          6.986693052423399,
          6.909398697883839,
          6.8105300271022,
          6.690469634311286,
          6.5512255709785725,
          6.399330485537097,
          6.291392001187683,
          6.097691716701408,
          6.085750007239226,
          6.050506121563666,
          5.993673159085513,
          5.918019201624217,
          5.8272869765619015,
          5.726171621536372,
          5.62041516669254,
          5.517013952933207,
          5.42429546309028,
          5.351055388342785,
          5.303652517215444,
          5.2820896426279,
          5.279270459107628,
          5.284458757421225,
          5.286953424990637,
          5.277883178135846,
          5.250839519871512,
          5.202116267683589,
          5.131286031471096,
          5.05382853570656,
          5.1108403592822285,
          5.1108571321908745,
          5.219968242160108,
          5.3343182865205705,
          5.447300650052693,
          5.554827152168303,
          5.653646205540421,
          5.740948620358034,
          5.814095404318497,
          5.870272325373756,
          5.906208235023211,
          5.918674645810049,
          5.918674645810049,
          5.909407945396944,
          5.8826366471307265,
          5.841260410883149,
          5.841260410883149,
          5.787423177523143,
          5.702591691259876,
          5.595240347506381,
          5.4800037213340955,
          5.3838129669268024,
          5.341857039822743,
          5.35549047454739,
          5.3998214482351745,
          5.462120880580948,
          5.541772159306569,
          5.643724661122457,
          5.775010931571509,
          5.9436246145423866,
          6.159528507668405,
          6.436330387867315,
          6.78551460694591,
          7.088104611941429,
          5.692956929291802,
          5.698158953778866,
          5.71368835445445,
          5.7388767869051645,
          5.771541986014277,
          5.807517382506496,
          5.841280042408875
         ],
         "yaxis": "y"
        },
        {
         "mode": "lines",
         "name": "band 10",
         "type": "scatter",
         "x": [
          0,
          0.05306173499335455,
          0.1061234699867091,
          0.15918520497815342,
          0.21224693996959776,
          0.2653086749667728,
          0.3183704099639478,
          0.3714321449420206,
          0.4244938799391956,
          0.4775556149363706,
          0.5306173499335456,
          0.5836790849307206,
          0.6367408199087934,
          0.6898025549059684,
          0.7428642899031433,
          0.7959260249003184,
          0.848987759878391,
          0.9020494948755662,
          0.9551112298727411,
          0.9551112298727411,
          1.009638748885631,
          1.064166267898521,
          1.1186937869081437,
          1.1732213059210337,
          1.2277488249339237,
          1.2822763439370113,
          1.3368038629695058,
          1.391331381969326,
          1.4458589009691463,
          1.5003864200016406,
          1.5549139390014608,
          1.5549139390014608,
          1.609330626615197,
          1.6637473142289334,
          1.7181640018426694,
          1.7725806894564053,
          1.8269973770701413,
          1.8814140646838775,
          1.9358307522976135,
          1.990247439944024,
          2.04466412755776,
          2.099080815171496,
          2.1534975027852323,
          2.2079141903989683,
          2.2623308780127043,
          2.3167475656264402,
          2.3711642532401767,
          2.4255809408539126,
          2.4799976284676486,
          2.5344143160813846,
          2.5888310036951205,
          2.5888310036951205,
          2.6388946982716948,
          2.6889583928392575,
          2.7390220874158318,
          2.7890857819833945,
          2.8391494765599687,
          2.8892131711275315,
          2.9392768657041057,
          2.989340560275273,
          3.0394042548482427,
          3.0394042548482427,
          3.0925833615859517,
          3.1457624683236607,
          3.198941575058102,
          3.252120681795811,
          3.30529978853352,
          3.358478895271229,
          3.411658001995868,
          3.464837108749914,
          3.518016215471286,
          3.571195322225332,
          3.624374428946704,
          3.67755353570075,
          3.730732642422122,
          3.783911749176168,
          3.83709085589754,
          3.890269962651586,
          3.943449069372958,
          3.996628176127004,
          4.049807282848375,
          4.102986389602421,
          4.156165496323792,
          4.156165496323792,
          4.207861349549089,
          4.259557202807059,
          4.311253056032355,
          4.362948909257652,
          4.414644762515622,
          4.4663406157409185,
          4.518036468966215,
          4.569732322191511,
          4.6214281754494815,
          4.673124028674778,
          4.673124028674778,
          4.72566510344083,
          4.778206178205166,
          4.83074725297036,
          4.83074725297036,
          4.883417749650396,
          4.9360882463115665,
          4.988758742991602,
          5.041429239652773,
          5.094099736332808,
          5.146770232993979,
          5.199440729692879,
          5.2521112263540495,
          5.304781723034084,
          5.357452219695255,
          5.41012271637529,
          5.462793213036461,
          5.515463709716497,
          5.5681342063776675,
          5.620804703057703,
          5.673475199718874,
          5.72614569639891,
          5.72614569639891,
          5.776840087312434,
          5.827534478222398,
          5.878228869143041,
          5.928923260054785,
          5.979617650966529,
          6.030312041878273
         ],
         "xaxis": "x",
         "y": [
          7.486805894191423,
          7.488332454684062,
          7.4928957793929145,
          7.500412091340544,
          7.510643255984175,
          7.523105542860011,
          7.537036776165148,
          7.551468962401569,
          7.5654084893067965,
          7.578071938346521,
          7.589087204600572,
          7.59856484317219,
          7.606983092723557,
          7.614907258776261,
          7.622650976633376,
          7.630035832869743,
          7.6363788344617305,
          7.640735108975128,
          7.64229335412333,
          7.64229335412333,
          7.704066782544063,
          7.8795131657913515,
          7.889743355110917,
          7.84599175758961,
          7.793939941060399,
          7.73681348467657,
          7.679062083261891,
          7.626814367562076,
          7.588032146805937,
          7.5719070799669,
          7.587143190980242,
          7.587143190981542,
          7.638978669706322,
          7.725933133125275,
          7.835782480281026,
          7.9416282826914095,
          8.004770524875783,
          8.000984335516995,
          7.945024335330365,
          7.8675595895339026,
          7.789665570054957,
          7.720931170362179,
          7.664211641891217,
          7.619178911312221,
          7.584295904244313,
          7.557807784933891,
          7.538168415904835,
          7.524155810886117,
          7.514843498926826,
          7.509550006535736,
          7.507836991629224,
          7.507836991629224,
          7.507186248421245,
          7.505344988793545,
          7.502593558482914,
          7.499275677940094,
          7.495734631677986,
          7.492325055211379,
          7.489442696851732,
          7.487495864703118,
          7.486805893994048,
          7.486805894117605,
          7.488273979158314,
          7.492848321490508,
          7.501050136430443,
          7.51379209264515,
          7.532421306455297,
          7.558654185695953,
          7.594288735377795,
          7.640714644401491,
          7.698351540320586,
          7.766005620924426,
          7.83974918782397,
          7.910659945178661,
          7.96180727069739,
          7.970417186007516,
          7.92533916391194,
          7.842288657711926,
          7.7490564265181785,
          7.66712147496776,
          7.608387761044137,
          7.577581493416716,
          7.574441813428736,
          7.574599003749666,
          7.594498697254295,
          7.631508530630746,
          7.679198263571171,
          7.731148484298712,
          7.78174720144516,
          7.826698770879802,
          7.86318530490854,
          7.847043437787064,
          7.687570936711834,
          7.631989453773829,
          7.631989453773829,
          7.632154169618097,
          7.632706690085173,
          7.633680328813982,
          7.633680328813982,
          7.634523869132542,
          7.634701786337539,
          7.632731249061697,
          7.627443996105689,
          7.618508161606948,
          7.606574731648382,
          7.5930059880971905,
          7.579334259879609,
          7.566712117938686,
          7.555601607413706,
          7.545819809352461,
          7.5368796545162775,
          7.528431566098406,
          7.520583793552148,
          7.513954895465424,
          7.509444070611541,
          7.507836991629224,
          7.64229335412333,
          7.641813396066227,
          7.640479172434997,
          7.638586855670413,
          7.636552011355325,
          7.634786713841184,
          7.633565619121625
         ],
         "yaxis": "y"
        },
        {
         "mode": "lines",
         "name": "band 11",
         "type": "scatter",
         "x": [
          0,
          0.05306173499335455,
          0.1061234699867091,
          0.15918520497815342,
          0.21224693996959776,
          0.2653086749667728,
          0.3183704099639478,
          0.3714321449420206,
          0.4244938799391956,
          0.4775556149363706,
          0.5306173499335456,
          0.5836790849307206,
          0.6367408199087934,
          0.6898025549059684,
          0.7428642899031433,
          0.7959260249003184,
          0.848987759878391,
          0.9020494948755662,
          0.9551112298727411,
          0.9551112298727411,
          1.009638748885631,
          1.064166267898521,
          1.1186937869081437,
          1.1732213059210337,
          1.2277488249339237,
          1.2822763439370113,
          1.3368038629695058,
          1.391331381969326,
          1.4458589009691463,
          1.5003864200016406,
          1.5549139390014608,
          1.5549139390014608,
          1.609330626615197,
          1.6637473142289334,
          1.7181640018426694,
          1.7725806894564053,
          1.8269973770701413,
          1.8814140646838775,
          1.9358307522976135,
          1.990247439944024,
          2.04466412755776,
          2.099080815171496,
          2.1534975027852323,
          2.2079141903989683,
          2.2623308780127043,
          2.3167475656264402,
          2.3711642532401767,
          2.4255809408539126,
          2.4799976284676486,
          2.5344143160813846,
          2.5888310036951205,
          2.5888310036951205,
          2.6388946982716948,
          2.6889583928392575,
          2.7390220874158318,
          2.7890857819833945,
          2.8391494765599687,
          2.8892131711275315,
          2.9392768657041057,
          2.989340560275273,
          3.0394042548482427,
          3.0394042548482427,
          3.0925833615859517,
          3.1457624683236607,
          3.198941575058102,
          3.252120681795811,
          3.30529978853352,
          3.358478895271229,
          3.411658001995868,
          3.464837108749914,
          3.518016215471286,
          3.571195322225332,
          3.624374428946704,
          3.67755353570075,
          3.730732642422122,
          3.783911749176168,
          3.83709085589754,
          3.890269962651586,
          3.943449069372958,
          3.996628176127004,
          4.049807282848375,
          4.102986389602421,
          4.156165496323792,
          4.156165496323792,
          4.207861349549089,
          4.259557202807059,
          4.311253056032355,
          4.362948909257652,
          4.414644762515622,
          4.4663406157409185,
          4.518036468966215,
          4.569732322191511,
          4.6214281754494815,
          4.673124028674778,
          4.673124028674778,
          4.72566510344083,
          4.778206178205166,
          4.83074725297036,
          4.83074725297036,
          4.883417749650396,
          4.9360882463115665,
          4.988758742991602,
          5.041429239652773,
          5.094099736332808,
          5.146770232993979,
          5.199440729692879,
          5.2521112263540495,
          5.304781723034084,
          5.357452219695255,
          5.41012271637529,
          5.462793213036461,
          5.515463709716497,
          5.5681342063776675,
          5.620804703057703,
          5.673475199718874,
          5.72614569639891,
          5.72614569639891,
          5.776840087312434,
          5.827534478222398,
          5.878228869143041,
          5.928923260054785,
          5.979617650966529,
          6.030312041878273
         ],
         "xaxis": "x",
         "y": [
          11.515044174676548,
          11.505532740496278,
          11.475034627950098,
          11.418016331431,
          11.326699353251389,
          11.193550063729676,
          11.014061723425067,
          10.788257303697764,
          10.520466471099171,
          10.218282530978438,
          9.891535802852138,
          9.551542282309212,
          9.21067739506588,
          8.88229139140503,
          8.580845744693892,
          8.32190761087398,
          8.121458542424008,
          7.994101989795525,
          7.950361045407956,
          7.950361045407956,
          7.943371634584192,
          7.922792091237755,
          8.144670207849984,
          8.471277348270348,
          8.832679915394243,
          9.206203725450287,
          9.574192038068013,
          9.924428590265462,
          10.249871856360384,
          10.545964448858657,
          10.25863677122872,
          10.25863677123191,
          9.98483199582838,
          9.73666922328434,
          9.53278147170038,
          9.402529905378689,
          9.384753243600326,
          9.502574425196435,
          9.738741547467322,
          10.05757806867779,
          10.429317283844352,
          10.831659529911498,
          11.245929911998426,
          11.232480448749206,
          10.89624204915847,
          10.453014343461914,
          9.902559464293866,
          9.264829063384315,
          8.584837085524637,
          7.932795723748698,
          7.507836991709712,
          7.507836991709712,
          7.507186248501725,
          7.505344988874008,
          7.50259355856334,
          7.499275678020488,
          7.495734631758345,
          7.492325055291705,
          7.489442696932031,
          7.4874958647833845,
          7.486805894196701,
          11.638869024819126,
          11.61917184964245,
          11.560430268178647,
          11.463683763968488,
          11.330648464341152,
          11.163746132006452,
          10.96622206526915,
          10.742379299240186,
          10.49793226079455,
          10.240484161679877,
          9.980197821002404,
          9.730893111285985,
          9.511956369245809,
          9.350542823892846,
          9.278296395420886,
          9.312815873745528,
          9.441723551078496,
          9.637271951097905,
          9.874939444714391,
          10.137067839542905,
          10.410846208730607,
          10.400678073284823,
          10.400832073089806,
          10.102698642236408,
          9.782641196994453,
          9.443401092110744,
          9.091125795039353,
          8.736656198672499,
          8.396287032683107,
          8.091476153279919,
          7.889702803715829,
          7.905674196785937,
          7.910994667139766,
          7.910994667139766,
          7.918173672578076,
          7.938974800486795,
          7.97142732334238,
          7.97142732334238,
          8.115518280473577,
          8.34507403379148,
          8.645933612537716,
          9.002332182171214,
          9.398912533801683,
          9.820756804468477,
          10.251416855991279,
          10.666389829592266,
          11.001629892783246,
          11.063135117383048,
          10.802773283716999,
          10.372375966671955,
          9.827214494752411,
          9.201224378601374,
          8.54126573781421,
          7.913318723618416,
          7.507836991709712,
          7.950361045407956,
          7.9511347560230154,
          7.9532843497154015,
          7.9564442866819665,
          7.960381598699473,
          7.96522127542216,
          7.971371330379503
         ],
         "yaxis": "y"
        },
        {
         "mode": "lines",
         "showlegend": false,
         "type": "scatter",
         "x": [
          0.0001523259924759936,
          0.00025108981567614606,
          0.0004048918329048534,
          0.0006418043857383404,
          0.000996312519303178,
          0.0015030337702460902,
          0.002189850442003816,
          0.003075662061427203,
          0.00417436487112281,
          0.005499679309548353,
          0.007062785527496624,
          0.008862020016807914,
          0.010875797323457326,
          0.013072471347138587,
          0.015436543280324793,
          0.017990729029910807,
          0.020790180221131466,
          0.02388763793747078,
          0.027297369431214007,
          0.030989955108001756,
          0.03492087673979817,
          0.039063041469119285,
          0.043414537490570504,
          0.047986842540978396,
          0.05280147522085135,
          0.05790268056945613,
          0.06335751425463657,
          0.06921866941036453,
          0.07547531870034498,
          0.08204966595678882,
          0.08885918674507536,
          0.09589237713888643,
          0.1032262947578787,
          0.1109743363689922,
          0.1192217318943267,
          0.12800484657904596,
          0.13733016984673804,
          0.1471916912452148,
          0.1575736097377396,
          0.16846906774079518,
          0.1799336666251658,
          0.19213209028060357,
          0.20530914914948267,
          0.21967318262242183,
          0.23526527468118563,
          0.2519040802733829,
          0.26922677575020887,
          0.2867788130641092,
          0.3041108269665109,
          0.3208804502305714,
          0.3369473088131775,
          0.3524028131176573,
          0.36748927442246077,
          0.3824594726630302,
          0.39749512683984156,
          0.4127409436778865,
          0.4283868172159696,
          0.44469558107043167,
          0.4619563971855088,
          0.4804236700252578,
          0.5002903201047368,
          0.52169467676716,
          0.5447509408160947,
          0.5696020300558507,
          0.5964611032666751,
          0.6255632740347798,
          0.656976270295396,
          0.6903250229333476,
          0.7245861180327698,
          0.7581303575594087,
          0.7891126196461254,
          0.8161255637976933,
          0.8388060292612763,
          0.857988584194856,
          0.8752127147464803,
          0.8918312078432881,
          0.9082896002156836,
          0.9240492536010246,
          0.9381680867452218,
          0.9501036051093203,
          0.9602034091562823,
          0.9696298999532995,
          0.9798695288610954,
          0.9922043382528616,
          1.0074655553168717,
          1.0261532020492836,
          1.048781153766298,
          1.076220727038044,
          1.109871455448498,
          1.1515919291289256,
          1.2033816392350258,
          1.2668229982518175,
          1.3423687081010196,
          1.4287306495265288,
          1.5227514035081338,
          1.620011911567629,
          1.7160396277787957,
          1.8076085835459081,
          1.8935829183910995,
          1.9750720704130242,
          2.055042774505244,
          2.137672465714542,
          2.2276197753078293,
          2.329245230252111,
          2.4457826741727318,
          2.578464935053006,
          2.7255413335845824,
          2.8811289809502982,
          3.0342176581911633,
          3.1688531140818093,
          3.2668102996751918,
          3.3130484511785396,
          3.3021007309789225,
          3.2419690603508378,
          3.1528364324789546,
          3.0608220162355297,
          2.9898356961591395,
          2.955155505632047,
          2.960664211424242,
          2.9996112583906562,
          3.0578529154570075,
          3.1185903781921853,
          3.1675723250124546,
          3.1971981381851857,
          3.20779955643242,
          3.205472842033314,
          3.1977790724404325,
          3.189885559523494,
          3.1831269089240144,
          3.1760022703215136,
          3.166022461916284,
          3.1508615376291114,
          3.128577687643747,
          3.0977275385160437,
          3.0579824453310636,
          3.0108249009031827,
          2.95934673819333,
          2.9067695173983847,
          2.8545027037135164,
          2.8012260557688915,
          2.7440169254139413,
          2.681246605480602,
          2.6156974117800553,
          2.5559152717127507,
          2.5145585689277725,
          2.504119111975169,
          2.5319829922421637,
          2.597362009924052,
          2.691706649613251,
          2.8022905330062535,
          2.9169135952610157,
          3.0272371547972186,
          3.1293980226719675,
          3.2223226502019027,
          3.305113656027538,
          3.3744081155353363,
          3.4218063471050124,
          3.4320435404296417,
          3.384409844702161,
          3.2602877855966583,
          3.0560894757720445,
          2.795056111582023,
          2.528904909087785,
          2.324911465595015,
          2.2427653238122955,
          2.3113385539762055,
          2.5146144357930993,
          2.791373034778109,
          3.0494983872117256,
          3.1930877299288927,
          3.1557721224152737,
          2.9274451598415165,
          2.5604144429374673,
          2.1497022447468406,
          1.7964437323989082,
          1.572365797061648,
          1.5007392248837326,
          1.5584032343722434,
          1.6929835255186971,
          1.8449152486244649,
          1.9653664742719628,
          2.0256132373510085,
          2.017888641324178,
          1.950508694894557,
          1.8407448002010032,
          1.7080910536630414,
          1.5693278144429441,
          1.4358300729328601,
          1.312998195212342,
          1.2013144134872458,
          1.0982895600041074,
          1.0005263501240829,
          0.9052961712789586,
          0.8113199805813757,
          0.7187663581761169,
          0.628751594383094,
          0.5427504261103132,
          0.4622280100411133,
          0.3885395471465614,
          0.322909730601553,
          0.2662842200105784,
          0.2190367481499022,
          0.18072470600369359,
          0.1501147970858214,
          0.12552853275416745,
          0.10534025012597367,
          0.08836905239177494,
          0.07399026974013076,
          0.06197293041134534,
          0.052200671368993354,
          0.04446451743427201,
          0.03842317443418771,
          0.03369060782179523,
          0.029936148950926413,
          0.0269137381088202,
          0.02442629046570071,
          0.022290073439939724,
          0.020346926173330147,
          0.01850996448634022,
          0.01678764063826803,
          0.015248650191879714,
          0.013945230571723413,
          0.012852020443062856,
          0.011867128958415804,
          0.010873162221627238,
          0.009811453853077528,
          0.008716420601881188,
          0.007688322003878445,
          0.006824878841362691,
          0.00615688061066158,
          0.005627670957582528,
          0.005127236171646712,
          0.004557125076960328,
          0.0038841862884054627,
          0.003151093472385077,
          0.0024424952687502545,
          0.0018343578538826538,
          0.0013600576798617492,
          0.0010090238626488598,
          0.0007501991016178167,
          0.0005635216773852595,
          0.00047612097235376143,
          0.0006325653252428183,
          0.001473582314473861,
          0.0041416564470337,
          0.011231727837330154,
          0.02787319531233196,
          0.06278629064955725,
          0.12848114459971,
          0.23953108437401854,
          0.4083650137709162,
          0.63941790016731,
          0.9240382911580849,
          1.2390281572321307,
          1.5504035215025498,
          1.8215836416647613,
          2.0232049183510687,
          2.1410809948152294,
          2.1794729625752924,
          2.1583757520706057,
          2.1056109952605864,
          2.046559015773399,
          1.9954094080204376,
          1.9511911621290465,
          1.8998470481828347,
          1.821265525771246,
          1.6984482753202594,
          1.525348118983965,
          1.3104440900928516,
          1.0747048955445402,
          0.8448278152224403,
          0.6446835120761866,
          0.4886592361571106,
          0.37947013698098286,
          0.3105740333335374,
          0.27110103155892495,
          0.25050676848367737,
          0.24109501456602467,
          0.238191859185893,
          0.23900239825206454,
          0.2414949965438823,
          0.2441076638813726,
          0.24614165396587415,
          0.24806411282040108,
          0.2510603940390499,
          0.2559443222605176,
          0.2622570052925191,
          0.26836824236568574,
          0.2726044493509945,
          0.2745491150557549,
          0.2754737600974109,
          0.27752095652997644,
          0.2822164299781158,
          0.2893888191807905,
          0.2972874291052196,
          0.30384792625458523,
          0.3082392772666651,
          0.3115829486933534,
          0.31626476397355274,
          0.32424516824821326,
          0.335547198819945,
          0.3480807465426032,
          0.3590756795690247,
          0.3672043116370487,
          0.3738491110787163,
          0.38247416946002105,
          0.3964216836946564,
          0.41667396686588815,
          0.4411978917650746,
          0.46627554201007804,
          0.48866523056422534,
          0.5068582239530475,
          0.5206184470251438,
          0.529559935138325,
          0.5322816580606403,
          0.5269231762822415,
          0.5126671479757173,
          0.49092521005143164,
          0.4652471041870965,
          0.4399647064182388,
          0.4184173670892876,
          0.4017873181411936,
          0.38911785531001786,
          0.3783691076113287,
          0.3678137016920458,
          0.3569493776216798,
          0.34644908707704836,
          0.33730144517122923,
          0.32983589838447036,
          0.323379540330141,
          0.31677500337356124,
          0.3092948172824371,
          0.30119319049592813,
          0.29347777702126165,
          0.2871362481207114,
          0.28244656288517633,
          0.2788516374298171,
          0.275396022131853,
          0.27133637588832277,
          0.2665037532228453,
          0.2612457695248102,
          0.25607450468705406,
          0.25130298408968876,
          0.24691222654246317,
          0.24270239520288156,
          0.23856920741091048,
          0.23466117966498948,
          0.23128794689388532,
          0.2286734999401565,
          0.22678542434463034,
          0.2254033220489449,
          0.22438527936261124,
          0.2239311779946585,
          0.22464563733296944,
          0.22734025953360654,
          0.2326673705755281,
          0.24076138242793949,
          0.251063902008677,
          0.2624329316973253,
          0.2735004132995566,
          0.2831059240469657,
          0.29059335058965285,
          0.29585335790700185,
          0.2991551191823564,
          0.3009122442076852,
          0.30150965084515313,
          0.3012241573097872,
          0.30019426818007816,
          0.2983941776640806,
          0.2956272127328691,
          0.2915955771593771,
          0.2860586116390913,
          0.2789932823929958,
          0.27064031931935273,
          0.26142125361741897,
          0.2518372310448599,
          0.24244535279844706,
          0.23386679924443696,
          0.22671794573114976,
          0.2214821395371849,
          0.218481202658423,
          0.21802507899067092,
          0.22057927781716477,
          0.22671696681869422,
          0.23685541248282907,
          0.25104219159293284,
          0.26901764252880583,
          0.290489165999232,
          0.31537269970561227,
          0.34386524769884913,
          0.37640006625862077,
          0.41354546613375603,
          0.45579213055689255,
          0.5031770276593577,
          0.5548761892614548,
          0.6090528321116431,
          0.6631650850712499,
          0.7146601423711099,
          0.7617327479441851,
          0.8037859719824191,
          0.8414114462655035,
          0.8759737909276429,
          0.9090683861262658,
          0.9421163100891532,
          0.9761899083949531,
          1.0119603593301463,
          1.0495652887974751,
          1.0882676981174246,
          1.125975878948648,
          1.1589061900308948,
          1.181752620990739,
          1.188573014462963,
          1.1742464630642588,
          1.1360033059464616,
          1.0744151396168347,
          0.9934327305922754,
          0.899443249451741,
          0.7996856193427995,
          0.7005841108952088,
          0.606578022017059,
          0.5198165416387814,
          0.44070678947739483,
          0.368926015953948,
          0.304346487110914,
          0.24745277013492095,
          0.199150122522462,
          0.16018230723017482,
          0.13054998853009508,
          0.10927959591134126,
          0.09465964968307623,
          0.08476907183838,
          0.07796639237636822,
          0.07310005395620667,
          0.06944315511880488,
          0.06653019012353151,
          0.06405161524275331,
          0.0618243202169678,
          0.059770394619266434,
          0.057865460590178566,
          0.05608130822517239,
          0.05435577175279765,
          0.05258429558635974,
          0.05060896481713414,
          0.04820591141962735,
          0.045102654017165206,
          0.04105259531743612,
          0.03595468066937351,
          0.029961732300361983,
          0.023505077474994154,
          0.017196399216423706,
          0.011638772811825413,
          0.007239325735713765,
          0.004116152346911737,
          0.0021302760254966802,
          0.001000136407660492,
          0.00042480477048467165,
          0.00016288797508970138,
          0.00005628649063554468,
          0.000017503481714319473,
          0.000004892746396693888,
          0.0000012282359779287592,
          2.7667930815358914e-7,
          5.5893362121574115e-8,
          1.0120508383860779e-8,
          1.6417645447512325e-9,
          2.3851992876300316e-10,
          3.102470268169994e-11,
          3.6119691012762996e-12,
          3.7630040295472237e-13,
          3.507468868341478e-14,
          2.9244657960963348e-15,
          2.180854819944019e-16,
          1.4543720372036242e-17,
          8.672408292122738e-19,
          4.623501539051016e-20,
          2.203560389943975e-21,
          9.387725687073704e-23,
          3.574693927142845e-24,
          1.216534002965733e-25,
          3.6998358096236076e-27,
          1.0054977918709037e-28,
          2.4416842817936208e-30,
          5.297589476489679e-32,
          1.0268796055400116e-33,
          1.778224027663883e-35,
          2.750765777714352e-37,
          3.800988546461926e-39,
          4.691287374031607e-41,
          5.171515450525386e-43,
          5.091582076469049e-45,
          4.476892150045735e-47,
          3.5153638536045195e-49,
          2.464991688013916e-51,
          1.5434580957553668e-53,
          8.629626733574297e-56,
          4.308155844307659e-58,
          1.9203407684721376e-60,
          7.642558683413554e-63,
          2.715561847570111e-65,
          8.61447160470819e-68,
          2.439685917895126e-70,
          6.168286000640559e-73,
          1.3922268744469928e-75,
          2.8051796803462266e-78,
          5.045536254255068e-81,
          8.1010500971095855e-84,
          1.1610595305415011e-86,
          1.485347507765991e-89,
          1.645965281003114e-92,
          0,
          0,
          0,
          0,
          0,
          0,
          0,
          0,
          0,
          0,
          0,
          0,
          0,
          0,
          0,
          0,
          0,
          0,
          0,
          0,
          0,
          0,
          0,
          0,
          0,
          0,
          0,
          0,
          0,
          0,
          0,
          0,
          0,
          0
         ],
         "xaxis": "x2",
         "y": [
          -0.07237652312794202,
          -0.042397277327935676,
          -0.012418031527929344,
          0.017561214272076988,
          0.047540460072083325,
          0.07751970587208967,
          0.107498951672096,
          0.13747819747210233,
          0.16745744327210865,
          0.19743668907211498,
          0.22741593487212133,
          0.25739518067212763,
          0.287374426472134,
          0.31735367227214034,
          0.34733291807214667,
          0.37731216387215305,
          0.4072914096721594,
          0.4372706554721657,
          0.4672499012721721,
          0.4972291470721784,
          0.5272083928721847,
          0.557187638672191,
          0.5871668844721973,
          0.6171461302722037,
          0.64712537607221,
          0.6771046218722163,
          0.7070838676722226,
          0.737063113472229,
          0.7670423592722353,
          0.7970216050722416,
          0.8270008508722481,
          0.8569800966722544,
          0.8869593424722607,
          0.9169385882722669,
          0.9469178340722734,
          0.9768970798722797,
          1.0068763256722861,
          1.0368555714722925,
          1.0668348172722988,
          1.0968140630723051,
          1.1267933088723117,
          1.1567725546723178,
          1.186751800472324,
          1.2167310462723304,
          1.2467102920723367,
          1.276689537872343,
          1.3066687836723496,
          1.336648029472356,
          1.366627275272362,
          1.3966065210723684,
          1.4265857668723747,
          1.4565650126723813,
          1.4865442584723876,
          1.516523504272394,
          1.5465027500724002,
          1.5764819958724066,
          1.6064612416724127,
          1.636440487472419,
          1.6664197332724253,
          1.6963989790724316,
          1.726378224872438,
          1.7563574706724443,
          1.7863367164724506,
          1.816315962272457,
          1.8462952080724633,
          1.8762744538724698,
          1.906253699672476,
          1.9362329454724823,
          1.9662121912724886,
          1.996191437072495,
          2.0261706828725012,
          2.056149928672508,
          2.086129174472514,
          2.1161084202725204,
          2.1460876660725265,
          2.1760669118725335,
          2.206046157672539,
          2.2360254034725457,
          2.266004649272552,
          2.2959838950725584,
          2.325963140872565,
          2.355942386672571,
          2.3859216324725776,
          2.4159008782725837,
          2.44588012407259,
          2.4758593698725964,
          2.5058386156726025,
          2.5358178614726095,
          2.565797107272615,
          2.595776353072622,
          2.6257555988726278,
          2.6557348446726343,
          2.685714090472641,
          2.715693336272647,
          2.7456725820726535,
          2.7756518278726596,
          2.805631073672666,
          2.8356103194726727,
          2.8655895652726784,
          2.8955688110726854,
          2.925548056872691,
          2.955527302672698,
          2.985506548472704,
          3.0154857942727107,
          3.045465040072717,
          3.075444285872723,
          3.1054235316727294,
          3.135402777472736,
          3.165382023272742,
          3.1953612690727486,
          3.2253405148727547,
          3.2553197606727604,
          3.285299006472767,
          3.3152782522727735,
          3.3452574980727796,
          3.3752367438727866,
          3.405215989672792,
          3.435195235472799,
          3.465174481272805,
          3.4951537270728115,
          3.525132972872818,
          3.5551122186728237,
          3.5850914644728302,
          3.6150707102728368,
          3.6450499560728433,
          3.67502920187285,
          3.7050084476728555,
          3.734987693472862,
          3.764966939272868,
          3.7949461850728747,
          3.8249254308728817,
          3.8549046766728874,
          3.8848839224728935,
          3.9148631682729,
          3.944842414072906,
          3.9748216598729136,
          4.004800905672919,
          4.034780151472925,
          4.0647593972729315,
          4.094738643072938,
          4.124717888872945,
          4.154697134672951,
          4.184676380472957,
          4.214655626272963,
          4.24463487207297,
          4.274614117872977,
          4.304593363672982,
          4.334572609472988,
          4.364551855272995,
          4.394531101073002,
          4.424510346873008,
          4.4544895926730135,
          4.4844688384730205,
          4.514448084273027,
          4.544427330073034,
          4.57440657587304,
          4.604385821673046,
          4.634365067473052,
          4.664344313273058,
          4.694323559073065,
          4.724302804873072,
          4.754282050673077,
          4.784261296473083,
          4.81424054227309,
          4.844219788073097,
          4.8741990338731025,
          4.904178279673109,
          4.934157525473115,
          4.964136771273123,
          4.994116017073129,
          5.024095262873134,
          5.05407450867314,
          5.084053754473147,
          5.114033000273154,
          5.14401224607316,
          5.173991491873165,
          5.203970737673172,
          5.233949983473179,
          5.263929229273185,
          5.2939084750731915,
          5.323887720873198,
          5.353866966673204,
          5.383846212473211,
          5.413825458273217,
          5.443804704073224,
          5.473783949873229,
          5.503763195673235,
          5.533742441473242,
          5.563721687273249,
          5.593700933073255,
          5.62368017887326,
          5.653659424673267,
          5.683638670473274,
          5.7136179162732805,
          5.743597162073287,
          5.773576407873292,
          5.8035556536733,
          5.833534899473306,
          5.863514145273312,
          5.893493391073318,
          5.923472636873324,
          5.953451882673331,
          5.983431128473337,
          6.013410374273343,
          6.04338962007335,
          6.0733688658733564,
          6.1033481116733626,
          6.133327357473369,
          6.163306603273376,
          6.193285849073382,
          6.223265094873388,
          6.253244340673394,
          6.283223586473401,
          6.313202832273407,
          6.343182078073413,
          6.373161323873419,
          6.403140569673426,
          6.433119815473433,
          6.463099061273439,
          6.4930783070734455,
          6.523057552873452,
          6.5530367986734595,
          6.583016044473464,
          6.61299529027347,
          6.642974536073477,
          6.672953781873484,
          6.70293302767349,
          6.732912273473496,
          6.762891519273502,
          6.792870765073509,
          6.822850010873516,
          6.852829256673522,
          6.8828085024735275,
          6.912787748273534,
          6.942766994073541,
          6.972746239873547,
          7.002725485673553,
          7.03270473147356,
          7.062683977273566,
          7.092663223073572,
          7.122642468873579,
          7.152621714673586,
          7.18260096047359,
          7.212580206273596,
          7.242559452073603,
          7.27253869787361,
          7.3025179436736165,
          7.332497189473623,
          7.362476435273629,
          7.392455681073637,
          7.422434926873643,
          7.452414172673649,
          7.482393418473653,
          7.512372664273661,
          7.542351910073667,
          7.572331155873673,
          7.602310401673679,
          7.632289647473686,
          7.662268893273692,
          7.6922481390736985,
          7.722227384873705,
          7.752206630673712,
          7.782185876473718,
          7.812165122273724,
          7.84214436807373,
          7.872123613873737,
          7.902102859673743,
          7.932082105473749,
          7.962061351273755,
          7.992040597073762,
          8.022019842873767,
          8.051999088673774,
          8.081978334473781,
          8.111957580273787,
          8.141936826073794,
          8.1719160718738,
          8.201895317673806,
          8.231874563473813,
          8.261853809273818,
          8.291833055073825,
          8.321812300873834,
          8.351791546673837,
          8.381770792473844,
          8.411750038273851,
          8.441729284073856,
          8.471708529873863,
          8.501687775673869,
          8.531667021473876,
          8.561646267273883,
          8.59162551307389,
          8.621604758873897,
          8.651584004673902,
          8.681563250473907,
          8.711542496273914,
          8.74152174207392,
          8.771500987873926,
          8.801480233673933,
          8.831459479473939,
          8.861438725273945,
          8.891417971073954,
          8.92139721687396,
          8.951376462673965,
          8.98135570847397,
          9.011334954273977,
          9.041314200073984,
          9.07129344587399,
          9.101272691673996,
          9.131251937474003,
          9.16123118327401,
          9.191210429074017,
          9.221189674874022,
          9.251168920674028,
          9.281148166474035,
          9.31112741227404,
          9.341106658074047,
          9.371085903874054,
          9.401065149674059,
          9.431044395474068,
          9.461023641274073,
          9.49100288707408,
          9.520982132874087,
          9.55096137867409,
          9.580940624474097,
          9.610919870274104,
          9.64089911607411,
          9.670878361874117,
          9.700857607674122,
          9.73083685347413,
          9.760816099274138,
          9.790795345074143,
          9.820774590874148,
          9.850753836674155,
          9.88073308247416,
          9.910712328274167,
          9.940691574074172,
          9.97067081987418,
          10.000650065674188,
          10.030629311474193,
          10.0606085572742,
          10.090587803074207,
          10.12056704887421,
          10.150546294674218,
          10.180525540474223,
          10.21050478627423,
          10.240484032074237,
          10.270463277874242,
          10.300442523674251,
          10.330421769474258,
          10.360401015274263,
          10.39038026107427,
          10.420359506874274,
          10.45033875267428,
          10.480317998474288,
          10.510297244274293,
          10.5402764900743,
          10.570255735874309,
          10.600234981674314,
          10.63021422747432,
          10.660193473274326,
          10.690172719074333,
          10.720151964874338,
          10.750131210674343,
          10.78011045647435,
          10.810089702274357,
          10.840068948074364,
          10.870048193874371,
          10.900027439674377,
          10.930006685474384,
          10.95998593127439,
          10.989965177074396,
          11.019944422874401,
          11.049923668674408,
          11.079902914474413,
          11.10988216027442,
          11.139861406074427,
          11.169840651874434,
          11.199819897674441,
          11.229799143474446,
          11.259778389274453,
          11.28975763507446,
          11.319736880874464,
          11.34971612667447,
          11.379695372474476,
          11.409674618274485,
          11.439653864074492,
          11.469633109874497,
          11.499612355674504,
          11.529591601474511,
          11.559570847274516,
          11.589550093074521,
          11.619529338874527,
          11.649508584674534,
          11.679487830474542,
          11.709467076274548,
          11.739446322074555,
          11.769425567874562,
          11.799404813674567,
          11.829384059474574,
          11.859363305274579,
          11.889342551074584,
          11.919321796874591,
          11.949301042674596,
          11.979280288474605,
          12.009259534274612,
          12.039238780074617,
          12.069218025874624,
          12.09919727167463,
          12.129176517474637,
          12.159155763274644,
          12.189135009074647,
          12.219114254874654,
          12.249093500674663,
          12.279072746474668,
          12.309051992274675,
          12.33903123807468,
          12.369010483874687,
          12.398989729674694,
          12.4289689754747,
          12.458948221274706,
          12.488927467074712,
          12.518906712874719,
          12.548885958674726,
          12.57886520447473,
          12.608844450274738,
          12.638823696074745,
          12.66880294187475,
          12.698782187674757,
          12.728761433474764,
          12.75874067927477,
          12.788719925074776,
          12.818699170874782,
          12.84867841667479,
          12.878657662474794,
          12.9086369082748,
          12.938616154074806,
          12.968595399874811,
          12.998574645674818,
          13.028553891474825,
          13.05853313727483,
          13.088512383074837,
          13.118491628874846,
          13.14847087467485,
          13.178450120474858,
          13.208429366274864,
          13.238408612074867,
          13.268387857874876,
          13.29836710367488,
          13.328346349474888,
          13.358325595274895,
          13.388304841074902,
          13.418284086874907,
          13.448263332674916,
          13.47824257847492,
          13.508221824274925,
          13.538201070074932,
          13.568180315874937,
          13.598159561674946,
          13.62813880747495,
          13.65811805327496,
          13.688097299074965,
          13.718076544874972,
          13.748055790674977,
          13.778035036474984,
          13.80801428227499,
          13.837993528074994,
          13.867972773875001,
          13.897952019675008,
          13.927931265475017,
          13.95791051127502,
          13.98788975707503,
          14.017869002875033,
          14.047848248675042,
          14.077827494475047,
          14.10780674027505,
          14.137785986075059,
          14.167765231875066,
          14.197744477675071,
          14.227723723475078,
          14.257702969275085,
          14.28768221507509,
          14.3176614608751,
          14.347640706675103,
          14.377619952475111,
          14.407599198275117,
          14.437578444075122,
          14.467557689875129,
          14.497536935675134,
          14.527516181475143,
          14.557495427275148,
          14.587474673075155,
          14.61745391887516,
          14.647433164675167,
          14.677412410475172,
          14.707391656275178,
          14.737370902075185,
          14.767350147875192,
          14.7973293936752,
          14.827308639475204,
          14.857287885275213,
          14.887267131075218,
          14.917246376875225,
          14.94722562267523,
          14.977204868475237,
          15.007184114275242,
          15.03716336007525,
          15.067142605875256,
          15.097121851675261,
          15.127101097475268,
          15.157080343275272,
          15.187059589075282,
          15.217038834875288,
          15.247018080675295,
          15.276997326475302,
          15.306976572275303,
          15.336955818075314,
          15.366935063875317,
          15.396914309675326,
          15.42689355547533,
          15.456872801275338,
          15.486852047075345,
          15.516831292875352,
          15.546810538675357,
          15.576789784475361,
          15.60676903027537,
          15.636748276075373,
          15.666727521875384,
          15.696706767675385,
          15.726686013475396,
          15.756665259275403,
          15.786644505075408,
          15.816623750875415,
          15.84660299667542,
          15.876582242475427,
          15.90656148827543,
          15.93654073407544,
          15.966519979875443,
          15.996499225675453,
          16.02647847147546,
          16.056457717275464,
          16.08643696307547,
          16.116416208875478,
          16.146395454675485,
          16.17637470047549
         ],
         "yaxis": "y2"
        }
       ],
       "layout": {
        "shapes": [
         {
          "line": {
           "color": "black",
           "width": 1
          },
          "type": "line",
          "x0": 0.9551112298727411,
          "x1": 0.9551112298727411,
          "xref": "x",
          "y0": 0,
          "y1": 1,
          "yref": "y domain"
         },
         {
          "line": {
           "color": "black",
           "width": 1
          },
          "type": "line",
          "x0": 1.5549139390014608,
          "x1": 1.5549139390014608,
          "xref": "x",
          "y0": 0,
          "y1": 1,
          "yref": "y domain"
         },
         {
          "line": {
           "color": "black",
           "width": 1
          },
          "type": "line",
          "x0": 2.5888310036951205,
          "x1": 2.5888310036951205,
          "xref": "x",
          "y0": 0,
          "y1": 1,
          "yref": "y domain"
         },
         {
          "line": {
           "color": "black",
           "width": 1
          },
          "type": "line",
          "x0": 3.0394042548482427,
          "x1": 3.0394042548482427,
          "xref": "x",
          "y0": 0,
          "y1": 1,
          "yref": "y domain"
         },
         {
          "line": {
           "color": "black",
           "width": 1
          },
          "type": "line",
          "x0": 4.156165496323792,
          "x1": 4.156165496323792,
          "xref": "x",
          "y0": 0,
          "y1": 1,
          "yref": "y domain"
         },
         {
          "line": {
           "color": "black",
           "width": 1
          },
          "type": "line",
          "x0": 4.673124028674778,
          "x1": 4.673124028674778,
          "xref": "x",
          "y0": 0,
          "y1": 1,
          "yref": "y domain"
         },
         {
          "line": {
           "color": "black",
           "width": 1
          },
          "type": "line",
          "x0": 4.83074725297036,
          "x1": 4.83074725297036,
          "xref": "x",
          "y0": 0,
          "y1": 1,
          "yref": "y domain"
         },
         {
          "line": {
           "color": "black",
           "width": 1
          },
          "type": "line",
          "x0": 5.72614569639891,
          "x1": 5.72614569639891,
          "xref": "x",
          "y0": 0,
          "y1": 1,
          "yref": "y domain"
         }
        ],
        "template": {
         "data": {
          "bar": [
           {
            "error_x": {
             "color": "#2a3f5f"
            },
            "error_y": {
             "color": "#2a3f5f"
            },
            "marker": {
             "line": {
              "color": "#E5ECF6",
              "width": 0.5
             },
             "pattern": {
              "fillmode": "overlay",
              "size": 10,
              "solidity": 0.2
             }
            },
            "type": "bar"
           }
          ],
          "barpolar": [
           {
            "marker": {
             "line": {
              "color": "#E5ECF6",
              "width": 0.5
             },
             "pattern": {
              "fillmode": "overlay",
              "size": 10,
              "solidity": 0.2
             }
            },
            "type": "barpolar"
           }
          ],
          "carpet": [
           {
            "aaxis": {
             "endlinecolor": "#2a3f5f",
             "gridcolor": "white",
             "linecolor": "white",
             "minorgridcolor": "white",
             "startlinecolor": "#2a3f5f"
            },
            "baxis": {
             "endlinecolor": "#2a3f5f",
             "gridcolor": "white",
             "linecolor": "white",
             "minorgridcolor": "white",
             "startlinecolor": "#2a3f5f"
            },
            "type": "carpet"
           }
          ],
          "choropleth": [
           {
            "colorbar": {
             "outlinewidth": 0,
             "ticks": ""
            },
            "type": "choropleth"
           }
          ],
          "contour": [
           {
            "colorbar": {
             "outlinewidth": 0,
             "ticks": ""
            },
            "colorscale": [
             [
              0,
              "#0d0887"
             ],
             [
              0.1111111111111111,
              "#46039f"
             ],
             [
              0.2222222222222222,
              "#7201a8"
             ],
             [
              0.3333333333333333,
              "#9c179e"
             ],
             [
              0.4444444444444444,
              "#bd3786"
             ],
             [
              0.5555555555555556,
              "#d8576b"
             ],
             [
              0.6666666666666666,
              "#ed7953"
             ],
             [
              0.7777777777777778,
              "#fb9f3a"
             ],
             [
              0.8888888888888888,
              "#fdca26"
             ],
             [
              1,
              "#f0f921"
             ]
            ],
            "type": "contour"
           }
          ],
          "contourcarpet": [
           {
            "colorbar": {
             "outlinewidth": 0,
             "ticks": ""
            },
            "type": "contourcarpet"
           }
          ],
          "heatmap": [
           {
            "colorbar": {
             "outlinewidth": 0,
             "ticks": ""
            },
            "colorscale": [
             [
              0,
              "#0d0887"
             ],
             [
              0.1111111111111111,
              "#46039f"
             ],
             [
              0.2222222222222222,
              "#7201a8"
             ],
             [
              0.3333333333333333,
              "#9c179e"
             ],
             [
              0.4444444444444444,
              "#bd3786"
             ],
             [
              0.5555555555555556,
              "#d8576b"
             ],
             [
              0.6666666666666666,
              "#ed7953"
             ],
             [
              0.7777777777777778,
              "#fb9f3a"
             ],
             [
              0.8888888888888888,
              "#fdca26"
             ],
             [
              1,
              "#f0f921"
             ]
            ],
            "type": "heatmap"
           }
          ],
          "heatmapgl": [
           {
            "colorbar": {
             "outlinewidth": 0,
             "ticks": ""
            },
            "colorscale": [
             [
              0,
              "#0d0887"
             ],
             [
              0.1111111111111111,
              "#46039f"
             ],
             [
              0.2222222222222222,
              "#7201a8"
             ],
             [
              0.3333333333333333,
              "#9c179e"
             ],
             [
              0.4444444444444444,
              "#bd3786"
             ],
             [
              0.5555555555555556,
              "#d8576b"
             ],
             [
              0.6666666666666666,
              "#ed7953"
             ],
             [
              0.7777777777777778,
              "#fb9f3a"
             ],
             [
              0.8888888888888888,
              "#fdca26"
             ],
             [
              1,
              "#f0f921"
             ]
            ],
            "type": "heatmapgl"
           }
          ],
          "histogram": [
           {
            "marker": {
             "pattern": {
              "fillmode": "overlay",
              "size": 10,
              "solidity": 0.2
             }
            },
            "type": "histogram"
           }
          ],
          "histogram2d": [
           {
            "colorbar": {
             "outlinewidth": 0,
             "ticks": ""
            },
            "colorscale": [
             [
              0,
              "#0d0887"
             ],
             [
              0.1111111111111111,
              "#46039f"
             ],
             [
              0.2222222222222222,
              "#7201a8"
             ],
             [
              0.3333333333333333,
              "#9c179e"
             ],
             [
              0.4444444444444444,
              "#bd3786"
             ],
             [
              0.5555555555555556,
              "#d8576b"
             ],
             [
              0.6666666666666666,
              "#ed7953"
             ],
             [
              0.7777777777777778,
              "#fb9f3a"
             ],
             [
              0.8888888888888888,
              "#fdca26"
             ],
             [
              1,
              "#f0f921"
             ]
            ],
            "type": "histogram2d"
           }
          ],
          "histogram2dcontour": [
           {
            "colorbar": {
             "outlinewidth": 0,
             "ticks": ""
            },
            "colorscale": [
             [
              0,
              "#0d0887"
             ],
             [
              0.1111111111111111,
              "#46039f"
             ],
             [
              0.2222222222222222,
              "#7201a8"
             ],
             [
              0.3333333333333333,
              "#9c179e"
             ],
             [
              0.4444444444444444,
              "#bd3786"
             ],
             [
              0.5555555555555556,
              "#d8576b"
             ],
             [
              0.6666666666666666,
              "#ed7953"
             ],
             [
              0.7777777777777778,
              "#fb9f3a"
             ],
             [
              0.8888888888888888,
              "#fdca26"
             ],
             [
              1,
              "#f0f921"
             ]
            ],
            "type": "histogram2dcontour"
           }
          ],
          "mesh3d": [
           {
            "colorbar": {
             "outlinewidth": 0,
             "ticks": ""
            },
            "type": "mesh3d"
           }
          ],
          "parcoords": [
           {
            "line": {
             "colorbar": {
              "outlinewidth": 0,
              "ticks": ""
             }
            },
            "type": "parcoords"
           }
          ],
          "pie": [
           {
            "automargin": true,
            "type": "pie"
           }
          ],
          "scatter": [
           {
            "fillpattern": {
             "fillmode": "overlay",
             "size": 10,
             "solidity": 0.2
            },
            "type": "scatter"
           }
          ],
          "scatter3d": [
           {
            "line": {
             "colorbar": {
              "outlinewidth": 0,
              "ticks": ""
             }
            },
            "marker": {
             "colorbar": {
              "outlinewidth": 0,
              "ticks": ""
             }
            },
            "type": "scatter3d"
           }
          ],
          "scattercarpet": [
           {
            "marker": {
             "colorbar": {
              "outlinewidth": 0,
              "ticks": ""
             }
            },
            "type": "scattercarpet"
           }
          ],
          "scattergeo": [
           {
            "marker": {
             "colorbar": {
              "outlinewidth": 0,
              "ticks": ""
             }
            },
            "type": "scattergeo"
           }
          ],
          "scattergl": [
           {
            "marker": {
             "colorbar": {
              "outlinewidth": 0,
              "ticks": ""
             }
            },
            "type": "scattergl"
           }
          ],
          "scattermapbox": [
           {
            "marker": {
             "colorbar": {
              "outlinewidth": 0,
              "ticks": ""
             }
            },
            "type": "scattermapbox"
           }
          ],
          "scatterpolar": [
           {
            "marker": {
             "colorbar": {
              "outlinewidth": 0,
              "ticks": ""
             }
            },
            "type": "scatterpolar"
           }
          ],
          "scatterpolargl": [
           {
            "marker": {
             "colorbar": {
              "outlinewidth": 0,
              "ticks": ""
             }
            },
            "type": "scatterpolargl"
           }
          ],
          "scatterternary": [
           {
            "marker": {
             "colorbar": {
              "outlinewidth": 0,
              "ticks": ""
             }
            },
            "type": "scatterternary"
           }
          ],
          "surface": [
           {
            "colorbar": {
             "outlinewidth": 0,
             "ticks": ""
            },
            "colorscale": [
             [
              0,
              "#0d0887"
             ],
             [
              0.1111111111111111,
              "#46039f"
             ],
             [
              0.2222222222222222,
              "#7201a8"
             ],
             [
              0.3333333333333333,
              "#9c179e"
             ],
             [
              0.4444444444444444,
              "#bd3786"
             ],
             [
              0.5555555555555556,
              "#d8576b"
             ],
             [
              0.6666666666666666,
              "#ed7953"
             ],
             [
              0.7777777777777778,
              "#fb9f3a"
             ],
             [
              0.8888888888888888,
              "#fdca26"
             ],
             [
              1,
              "#f0f921"
             ]
            ],
            "type": "surface"
           }
          ],
          "table": [
           {
            "cells": {
             "fill": {
              "color": "#EBF0F8"
             },
             "line": {
              "color": "white"
             }
            },
            "header": {
             "fill": {
              "color": "#C8D4E3"
             },
             "line": {
              "color": "white"
             }
            },
            "type": "table"
           }
          ]
         },
         "layout": {
          "annotationdefaults": {
           "arrowcolor": "#2a3f5f",
           "arrowhead": 0,
           "arrowwidth": 1
          },
          "autotypenumbers": "strict",
          "coloraxis": {
           "colorbar": {
            "outlinewidth": 0,
            "ticks": ""
           }
          },
          "colorscale": {
           "diverging": [
            [
             0,
             "#8e0152"
            ],
            [
             0.1,
             "#c51b7d"
            ],
            [
             0.2,
             "#de77ae"
            ],
            [
             0.3,
             "#f1b6da"
            ],
            [
             0.4,
             "#fde0ef"
            ],
            [
             0.5,
             "#f7f7f7"
            ],
            [
             0.6,
             "#e6f5d0"
            ],
            [
             0.7,
             "#b8e186"
            ],
            [
             0.8,
             "#7fbc41"
            ],
            [
             0.9,
             "#4d9221"
            ],
            [
             1,
             "#276419"
            ]
           ],
           "sequential": [
            [
             0,
             "#0d0887"
            ],
            [
             0.1111111111111111,
             "#46039f"
            ],
            [
             0.2222222222222222,
             "#7201a8"
            ],
            [
             0.3333333333333333,
             "#9c179e"
            ],
            [
             0.4444444444444444,
             "#bd3786"
            ],
            [
             0.5555555555555556,
             "#d8576b"
            ],
            [
             0.6666666666666666,
             "#ed7953"
            ],
            [
             0.7777777777777778,
             "#fb9f3a"
            ],
            [
             0.8888888888888888,
             "#fdca26"
            ],
            [
             1,
             "#f0f921"
            ]
           ],
           "sequentialminus": [
            [
             0,
             "#0d0887"
            ],
            [
             0.1111111111111111,
             "#46039f"
            ],
            [
             0.2222222222222222,
             "#7201a8"
            ],
            [
             0.3333333333333333,
             "#9c179e"
            ],
            [
             0.4444444444444444,
             "#bd3786"
            ],
            [
             0.5555555555555556,
             "#d8576b"
            ],
            [
             0.6666666666666666,
             "#ed7953"
            ],
            [
             0.7777777777777778,
             "#fb9f3a"
            ],
            [
             0.8888888888888888,
             "#fdca26"
            ],
            [
             1,
             "#f0f921"
            ]
           ]
          },
          "colorway": [
           "#636efa",
           "#EF553B",
           "#00cc96",
           "#ab63fa",
           "#FFA15A",
           "#19d3f3",
           "#FF6692",
           "#B6E880",
           "#FF97FF",
           "#FECB52"
          ],
          "font": {
           "color": "#2a3f5f"
          },
          "geo": {
           "bgcolor": "white",
           "lakecolor": "white",
           "landcolor": "#E5ECF6",
           "showlakes": true,
           "showland": true,
           "subunitcolor": "white"
          },
          "hoverlabel": {
           "align": "left"
          },
          "hovermode": "closest",
          "mapbox": {
           "style": "light"
          },
          "paper_bgcolor": "white",
          "plot_bgcolor": "#E5ECF6",
          "polar": {
           "angularaxis": {
            "gridcolor": "white",
            "linecolor": "white",
            "ticks": ""
           },
           "bgcolor": "#E5ECF6",
           "radialaxis": {
            "gridcolor": "white",
            "linecolor": "white",
            "ticks": ""
           }
          },
          "scene": {
           "xaxis": {
            "backgroundcolor": "#E5ECF6",
            "gridcolor": "white",
            "gridwidth": 2,
            "linecolor": "white",
            "showbackground": true,
            "ticks": "",
            "zerolinecolor": "white"
           },
           "yaxis": {
            "backgroundcolor": "#E5ECF6",
            "gridcolor": "white",
            "gridwidth": 2,
            "linecolor": "white",
            "showbackground": true,
            "ticks": "",
            "zerolinecolor": "white"
           },
           "zaxis": {
            "backgroundcolor": "#E5ECF6",
            "gridcolor": "white",
            "gridwidth": 2,
            "linecolor": "white",
            "showbackground": true,
            "ticks": "",
            "zerolinecolor": "white"
           }
          },
          "shapedefaults": {
           "line": {
            "color": "#2a3f5f"
           }
          },
          "ternary": {
           "aaxis": {
            "gridcolor": "white",
            "linecolor": "white",
            "ticks": ""
           },
           "baxis": {
            "gridcolor": "white",
            "linecolor": "white",
            "ticks": ""
           },
           "bgcolor": "#E5ECF6",
           "caxis": {
            "gridcolor": "white",
            "linecolor": "white",
            "ticks": ""
           }
          },
          "title": {
           "x": 0.05
          },
          "xaxis": {
           "automargin": true,
           "gridcolor": "white",
           "linecolor": "white",
           "ticks": "",
           "title": {
            "standoff": 15
           },
           "zerolinecolor": "white",
           "zerolinewidth": 2
          },
          "yaxis": {
           "automargin": true,
           "gridcolor": "white",
           "linecolor": "white",
           "ticks": "",
           "title": {
            "standoff": 15
           },
           "zerolinecolor": "white",
           "zerolinewidth": 2
          }
         }
        },
        "xaxis": {
         "anchor": "y",
         "domain": [
          0,
          0.792
         ],
         "mirror": true,
         "showgrid": false,
         "ticklen": 0,
         "ticks": "inside",
         "ticktext": [
          "Î“",
          "L",
          "B_1|B",
          "Z",
          "Î“",
          "X|Q",
          "F",
          "P_1",
          "Z|L",
          "P"
         ],
         "tickvals": [
          0,
          0.9551112298727411,
          1.5549139390014608,
          2.5888310036951205,
          3.0394042548482427,
          4.156165496323792,
          4.673124028674778,
          4.83074725297036,
          5.72614569639891,
          6.030312041878273
         ],
         "title": {
          "text": "Wave Vector"
         }
        },
        "xaxis2": {
         "anchor": "y2",
         "domain": [
          0.802,
          1
         ],
         "mirror": true,
         "range": [
          0,
          3.5006844112382347
         ],
         "showgrid": false,
         "ticklen": 10,
         "ticks": "inside",
         "title": {
          "text": "DOS"
         }
        },
        "yaxis": {
         "anchor": "x",
         "domain": [
          0,
          1
         ],
         "mirror": true,
         "range": [
          0,
          10
         ],
         "showgrid": false,
         "ticklen": 10,
         "ticks": "inside",
         "title": {
          "text": "Frequencies (THz)"
         }
        },
        "yaxis2": {
         "anchor": "x2",
         "domain": [
          0,
          1
         ],
         "matches": "y",
         "mirror": true,
         "showgrid": false,
         "showticklabels": false,
         "ticklen": 10,
         "ticks": "inside"
        }
       }
      }
     },
     "metadata": {},
     "output_type": "display_data"
    }
   ],
   "source": [
    "fig_ph_bs_and_dos = get_plot_bs_and_dos(ph_bs, ph_dos, plot_range=[0,10])\n",
    "fig_ph_bs_and_dos.show()"
   ]
  },
  {
   "cell_type": "markdown",
   "metadata": {},
   "source": [
    "## 4.  Vitesse du son\n",
    "\n",
    "La vitesse du son est défini comme $$v_s = \\frac{\\partial \\omega}{\\partial q}$$ \n",
    "\n",
    "avec $\\omega$ en $[\\frac{rad}{s}]$, la pulsation de l'onde et $q $ $[\\frac{rad}{m}]$, le vecteur d'onde. \n",
    "\n",
    "Cette formule n'est valable que pour les branches accoustiques et pour de petites valeurs de $q$, lorsque $\\omega(q)$ est une relation linéaire. "
   ]
  },
  {
   "cell_type": "markdown",
   "metadata": {},
   "source": [
    "### 4.1 calcul de la vitesse"
   ]
  },
  {
   "cell_type": "code",
   "execution_count": 127,
   "metadata": {},
   "outputs": [],
   "source": [
    "data = PhononBSPlotter(ph_bs).bs_plot_data()\n",
    "f = data.get('frequency')\n",
    "q = data.get('distances')\n",
    "\n",
    "f_list = [[f[0][0][0], f[0][0][1]], [f[3][1][-2], f[3][1][-1]], [f[4][2][0], f[4][2][1]]]\n",
    "q_list = [[q[0][0], q[0][1]],       [q[3][-2], q[3][-1]],       [q[4][0], q[4][1]]]\n",
    "v_list = np.zeros(3)\n",
    "\n",
    "for i in range(3):\n",
    "    df = f_list[i][1] - f_list[i][0]\n",
    "    dq = q_list[i][1] - q_list[i][0]\n",
    "    v_list[i] = np.abs(2*np.pi*df/dq)*100\n",
    "\n",
    "\n",
    "\n"
   ]
  },
  {
   "cell_type": "markdown",
   "metadata": {},
   "source": [
    "### 4.2 Visualisation"
   ]
  },
  {
   "cell_type": "code",
   "execution_count": 128,
   "metadata": {},
   "outputs": [],
   "source": [
    "def get_extended_line(x1, y1, x2, y2, extension=2):\n",
    "    m = (y2 - y1) / (x2 - x1)  # Slope\n",
    "    b = y1 - m * x1  # Intercept\n",
    "    x_values = np.linspace(x1 - extension, x2 + extension, 100)  # Extend line\n",
    "    y_values = m * x_values + b\n",
    "    return x_values, y_values\n",
    "\n",
    "def add_scattered_points(fig, q_list, f_list, color):\n",
    "    \"\"\"\n",
    "    Adds scattered points to the figure.\n",
    "    \"\"\"\n",
    "    fig.add_trace(\n",
    "        Scatter(\n",
    "            x=[q[0] for q in q_list] + [q[1] for q in q_list],  # All x-coordinates\n",
    "            y=[f[0] for f in f_list] + [f[1] for f in f_list],  # All y-coordinates\n",
    "            mode='markers',\n",
    "            marker=dict(color=['blue', 'red',  'green','blue','red', 'green'], size=10),  # Customize marker color and size\n",
    "            name='Scattered Points'\n",
    "        )\n",
    "    )\n",
    "\n",
    "def add_dashed_lines(fig, q_list, f_list, color,labels):\n",
    "    \"\"\"\n",
    "    Adds dashed lines connecting the points and extending them.\n",
    "    \"\"\"\n",
    "    for i in range(len(q_list)):\n",
    "        x1, y1 = q_list[i][0], f_list[i][0]\n",
    "        x2, y2 = q_list[i][1], f_list[i][1]\n",
    "        x_values, y_values = get_extended_line(x1, y1, x2, y2)  # Get extended line coordinates\n",
    "        \n",
    "        fig.add_trace(\n",
    "            Scatter(\n",
    "                x=x_values,  # Extended x-coordinates\n",
    "                y=y_values,  # Extended y-coordinates\n",
    "                mode='lines',\n",
    "                line=dict(color=color[2 * i], dash='dash'),  # Dashed line with corresponding color\n",
    "                name=labels[i]\n",
    "            )\n",
    "        )\n",
    "\n",
    "def zoom_into_region(fig, q, f, xleft=2, xright =2, y_padding=3):\n",
    "    \"\"\"\n",
    "    Updates the figure to zoom into a specific region around the points.\n",
    "    \"\"\"\n",
    "    x_min = min(q) - xleft\n",
    "    x_max = max(q) + xright\n",
    "    y_min = min(f)\n",
    "    y_max = max(f) + y_padding\n",
    "    \n",
    "    fig.update_xaxes(range=[x_min, x_max])\n",
    "    fig.update_yaxes(range=[y_min, y_max])\n",
    "\n"
   ]
  },
  {
   "cell_type": "code",
   "execution_count": 131,
   "metadata": {},
   "outputs": [
    {
     "data": {
      "application/vnd.plotly.v1+json": {
       "config": {
        "plotlyServerURL": "https://plot.ly"
       },
       "data": [
        {
         "mode": "lines",
         "name": "band 1",
         "type": "scatter",
         "x": [
          0,
          0.05306173499335455,
          0.1061234699867091,
          0.15918520497815342,
          0.21224693996959776,
          0.2653086749667728,
          0.3183704099639478,
          0.3714321449420206,
          0.4244938799391956,
          0.4775556149363706,
          0.5306173499335456,
          0.5836790849307206,
          0.6367408199087934,
          0.6898025549059684,
          0.7428642899031433,
          0.7959260249003184,
          0.848987759878391,
          0.9020494948755662,
          0.9551112298727411,
          0.9551112298727411,
          1.009638748885631,
          1.064166267898521,
          1.1186937869081437,
          1.1732213059210337,
          1.2277488249339237,
          1.2822763439370113,
          1.3368038629695058,
          1.391331381969326,
          1.4458589009691463,
          1.5003864200016406,
          1.5549139390014608,
          1.5549139390014608,
          1.609330626615197,
          1.6637473142289334,
          1.7181640018426694,
          1.7725806894564053,
          1.8269973770701413,
          1.8814140646838775,
          1.9358307522976135,
          1.990247439944024,
          2.04466412755776,
          2.099080815171496,
          2.1534975027852323,
          2.2079141903989683,
          2.2623308780127043,
          2.3167475656264402,
          2.3711642532401767,
          2.4255809408539126,
          2.4799976284676486,
          2.5344143160813846,
          2.5888310036951205,
          2.5888310036951205,
          2.6388946982716948,
          2.6889583928392575,
          2.7390220874158318,
          2.7890857819833945,
          2.8391494765599687,
          2.8892131711275315,
          2.9392768657041057,
          2.989340560275273,
          3.0394042548482427,
          3.0394042548482427,
          3.0925833615859517,
          3.1457624683236607,
          3.198941575058102,
          3.252120681795811,
          3.30529978853352,
          3.358478895271229,
          3.411658001995868,
          3.464837108749914,
          3.518016215471286,
          3.571195322225332,
          3.624374428946704,
          3.67755353570075,
          3.730732642422122,
          3.783911749176168,
          3.83709085589754,
          3.890269962651586,
          3.943449069372958,
          3.996628176127004,
          4.049807282848375,
          4.102986389602421,
          4.156165496323792,
          4.156165496323792,
          4.207861349549089,
          4.259557202807059,
          4.311253056032355,
          4.362948909257652,
          4.414644762515622,
          4.4663406157409185,
          4.518036468966215,
          4.569732322191511,
          4.6214281754494815,
          4.673124028674778,
          4.673124028674778,
          4.72566510344083,
          4.778206178205166,
          4.83074725297036,
          4.83074725297036,
          4.883417749650396,
          4.9360882463115665,
          4.988758742991602,
          5.041429239652773,
          5.094099736332808,
          5.146770232993979,
          5.199440729692879,
          5.2521112263540495,
          5.304781723034084,
          5.357452219695255,
          5.41012271637529,
          5.462793213036461,
          5.515463709716497,
          5.5681342063776675,
          5.620804703057703,
          5.673475199718874,
          5.72614569639891,
          5.72614569639891,
          5.776840087312434,
          5.827534478222398,
          5.878228869143041,
          5.928923260054785,
          5.979617650966529,
          6.030312041878273
         ],
         "y": [
          0,
          0.2179889510372744,
          0.4351126130411345,
          0.6505811199213776,
          0.8637217921068545,
          1.073990895701692,
          1.2810011552505596,
          1.4846145989065238,
          1.6850959563733654,
          1.883233150043755,
          2.0802743823622967,
          2.23268300135925,
          2.3671672937588,
          2.485371760514009,
          2.5857820938481715,
          2.6666962337501863,
          2.7263157392565502,
          2.762943019801927,
          2.7753110186683196,
          2.7753110186683196,
          2.792877340039772,
          2.8439346939952106,
          2.923936577018763,
          3.0263084644740053,
          3.1432391285626955,
          3.265819181525167,
          3.28607410259159,
          3.280304365104243,
          3.2805416289626397,
          3.2842944433756753,
          3.288653597436854,
          3.2886535974342457,
          3.254032296568878,
          3.1398207381715424,
          3.0095842932332286,
          2.8673188680957695,
          2.7186009078176077,
          2.5696747233670445,
          2.426892300482084,
          2.296514810585753,
          2.184466405298296,
          2.0954279423011757,
          2.0297646580262967,
          1.9703779821152714,
          1.8694308350959048,
          1.7395865134458268,
          1.615384799048026,
          1.5098360183684092,
          1.4297774883311092,
          1.3798460164368498,
          1.3628821927343626,
          1.3628821927343626,
          1.3356924795350182,
          1.258103653652552,
          1.1392979600516593,
          0.9890343941186222,
          0.8154296897178901,
          0.6248956601368549,
          0.4226459944405573,
          0.21307436906495864,
          0,
          0,
          0.2054125172791408,
          0.411522623705649,
          0.6188587760124858,
          0.8276240655724939,
          1.0375882302233648,
          1.248063035081273,
          1.4579613113745526,
          1.6659082272080465,
          1.8703716656488476,
          2.069788003995362,
          2.262647780762384,
          2.4474749020696325,
          2.622619908435082,
          2.7858113860182248,
          2.933473411722386,
          3.060157405921633,
          3.1595886153203128,
          3.2284482121191234,
          3.2683978683450188,
          3.2836570022909988,
          3.278835981166884,
          3.2787799038183216,
          3.2591414122401012,
          3.2288429920531723,
          3.1916714239907735,
          3.1510459789288823,
          3.1099951304733913,
          3.0712421830026613,
          3.0373288903237694,
          3.010681198489256,
          2.993529834881652,
          2.9875893605245896,
          2.9875893605245896,
          2.961239915508566,
          2.9143740340567716,
          2.8663152988333906,
          2.8663152988333906,
          2.82340544083249,
          2.764970097266603,
          2.6596154355067076,
          2.515096839715098,
          2.3837938282994884,
          2.2702298180592253,
          2.178195252772971,
          2.110911533990976,
          2.057956595260378,
          1.9340404110720661,
          1.8119375475803254,
          1.695315204966821,
          1.5884533780983259,
          1.496355081637518,
          1.424605686551972,
          1.3787121736533319,
          1.3628821927343626,
          2.7753110186683196,
          2.777635062740611,
          2.7847262918805864,
          2.796875174219782,
          2.8144015682834347,
          2.83752862737193,
          2.8662483227502125
         ]
        },
        {
         "mode": "lines",
         "name": "band 2",
         "type": "scatter",
         "x": [
          0,
          0.05306173499335455,
          0.1061234699867091,
          0.15918520497815342,
          0.21224693996959776,
          0.2653086749667728,
          0.3183704099639478,
          0.3714321449420206,
          0.4244938799391956,
          0.4775556149363706,
          0.5306173499335456,
          0.5836790849307206,
          0.6367408199087934,
          0.6898025549059684,
          0.7428642899031433,
          0.7959260249003184,
          0.848987759878391,
          0.9020494948755662,
          0.9551112298727411,
          0.9551112298727411,
          1.009638748885631,
          1.064166267898521,
          1.1186937869081437,
          1.1732213059210337,
          1.2277488249339237,
          1.2822763439370113,
          1.3368038629695058,
          1.391331381969326,
          1.4458589009691463,
          1.5003864200016406,
          1.5549139390014608,
          1.5549139390014608,
          1.609330626615197,
          1.6637473142289334,
          1.7181640018426694,
          1.7725806894564053,
          1.8269973770701413,
          1.8814140646838775,
          1.9358307522976135,
          1.990247439944024,
          2.04466412755776,
          2.099080815171496,
          2.1534975027852323,
          2.2079141903989683,
          2.2623308780127043,
          2.3167475656264402,
          2.3711642532401767,
          2.4255809408539126,
          2.4799976284676486,
          2.5344143160813846,
          2.5888310036951205,
          2.5888310036951205,
          2.6388946982716948,
          2.6889583928392575,
          2.7390220874158318,
          2.7890857819833945,
          2.8391494765599687,
          2.8892131711275315,
          2.9392768657041057,
          2.989340560275273,
          3.0394042548482427,
          3.0394042548482427,
          3.0925833615859517,
          3.1457624683236607,
          3.198941575058102,
          3.252120681795811,
          3.30529978853352,
          3.358478895271229,
          3.411658001995868,
          3.464837108749914,
          3.518016215471286,
          3.571195322225332,
          3.624374428946704,
          3.67755353570075,
          3.730732642422122,
          3.783911749176168,
          3.83709085589754,
          3.890269962651586,
          3.943449069372958,
          3.996628176127004,
          4.049807282848375,
          4.102986389602421,
          4.156165496323792,
          4.156165496323792,
          4.207861349549089,
          4.259557202807059,
          4.311253056032355,
          4.362948909257652,
          4.414644762515622,
          4.4663406157409185,
          4.518036468966215,
          4.569732322191511,
          4.6214281754494815,
          4.673124028674778,
          4.673124028674778,
          4.72566510344083,
          4.778206178205166,
          4.83074725297036,
          4.83074725297036,
          4.883417749650396,
          4.9360882463115665,
          4.988758742991602,
          5.041429239652773,
          5.094099736332808,
          5.146770232993979,
          5.199440729692879,
          5.2521112263540495,
          5.304781723034084,
          5.357452219695255,
          5.41012271637529,
          5.462793213036461,
          5.515463709716497,
          5.5681342063776675,
          5.620804703057703,
          5.673475199718874,
          5.72614569639891,
          5.72614569639891,
          5.776840087312434,
          5.827534478222398,
          5.878228869143041,
          5.928923260054785,
          5.979617650966529,
          6.030312041878273
         ],
         "y": [
          0,
          0.23640394344186433,
          0.4709764099862377,
          0.7018962313740104,
          0.9273783452905751,
          1.1457228222194349,
          1.3553795195527938,
          1.55500374718154,
          1.743471275803249,
          1.919832451169596,
          2.083211478137737,
          2.2775827727970936,
          2.476072492858687,
          2.6756272473320535,
          2.8746329121409837,
          3.069430731443784,
          3.2527694291467513,
          3.4072428665752224,
          3.479405914537363,
          3.479405914537363,
          3.4506658692902965,
          3.413778110302661,
          3.379132076465897,
          3.34734349215974,
          3.320113184345151,
          3.299309666517944,
          3.3828999585363766,
          3.4742576540591865,
          3.4841067544527116,
          3.4286770803781317,
          3.350408736204428,
          3.3504087362072914,
          3.2908917502611943,
          3.2888332104110765,
          3.2808873367174294,
          3.2659954721337625,
          3.205043426540243,
          3.070465903343529,
          2.923552962466557,
          2.7663700815161616,
          2.602089464169849,
          2.4354760879140236,
          2.275035250084056,
          2.145120434541371,
          2.098596445373262,
          2.125718078545533,
          1.969841117255589,
          1.7428419508471429,
          1.5481741244042988,
          1.4123627919626043,
          1.3628821927489696,
          1.3628821927489696,
          1.3356924795493428,
          1.2581036536660408,
          1.1392979600638637,
          0.98903439412922,
          0.8154296897266328,
          0.6248956601435617,
          0.42264599444512113,
          0.21307436906723237,
          0,
          0,
          0.264461355708713,
          0.5272324838121133,
          0.7865584589055771,
          1.0406208742897998,
          1.2876407212026584,
          1.5260545715410108,
          1.7546678641687694,
          1.9726784069276548,
          2.1795351244652243,
          2.374701047234903,
          2.5574517495324693,
          2.7268358144461087,
          2.881877166986575,
          3.0220482270749747,
          3.1479835363799307,
          3.2620670873046564,
          3.3673595322144876,
          3.463686312798743,
          3.545352331677446,
          3.4712665957584314,
          3.4056871934282387,
          3.4057969288800747,
          3.353380747244839,
          3.3124316491006645,
          3.282340472783837,
          3.261203496866951,
          3.244961739567407,
          3.2261497240593053,
          3.1947553728240754,
          3.1482091553221476,
          3.1052694306287094,
          3.0876289420496446,
          3.0876289420496446,
          3.1052072892120286,
          3.109695388203482,
          3.1144922715493975,
          3.1144922715493975,
          2.965952784259628,
          2.8119601370625946,
          2.6931316025121688,
          2.6094015736015157,
          2.5149817340930243,
          2.4110388242899408,
          2.298953435245428,
          2.1805055757243386,
          2.070964768966731,
          2.059926386451919,
          2.0776184471990797,
          2.114236672540355,
          1.9488693007145133,
          1.7264065573224363,
          1.5383672847182144,
          1.4093828422724883,
          1.3628821927489696,
          3.479405914537363,
          3.469317086398518,
          3.4360109437633537,
          3.374055797270281,
          3.287739002379311,
          3.194828173803003,
          3.1144897114266525
         ]
        },
        {
         "mode": "lines",
         "name": "band 3",
         "type": "scatter",
         "x": [
          0,
          0.05306173499335455,
          0.1061234699867091,
          0.15918520497815342,
          0.21224693996959776,
          0.2653086749667728,
          0.3183704099639478,
          0.3714321449420206,
          0.4244938799391956,
          0.4775556149363706,
          0.5306173499335456,
          0.5836790849307206,
          0.6367408199087934,
          0.6898025549059684,
          0.7428642899031433,
          0.7959260249003184,
          0.848987759878391,
          0.9020494948755662,
          0.9551112298727411,
          0.9551112298727411,
          1.009638748885631,
          1.064166267898521,
          1.1186937869081437,
          1.1732213059210337,
          1.2277488249339237,
          1.2822763439370113,
          1.3368038629695058,
          1.391331381969326,
          1.4458589009691463,
          1.5003864200016406,
          1.5549139390014608,
          1.5549139390014608,
          1.609330626615197,
          1.6637473142289334,
          1.7181640018426694,
          1.7725806894564053,
          1.8269973770701413,
          1.8814140646838775,
          1.9358307522976135,
          1.990247439944024,
          2.04466412755776,
          2.099080815171496,
          2.1534975027852323,
          2.2079141903989683,
          2.2623308780127043,
          2.3167475656264402,
          2.3711642532401767,
          2.4255809408539126,
          2.4799976284676486,
          2.5344143160813846,
          2.5888310036951205,
          2.5888310036951205,
          2.6388946982716948,
          2.6889583928392575,
          2.7390220874158318,
          2.7890857819833945,
          2.8391494765599687,
          2.8892131711275315,
          2.9392768657041057,
          2.989340560275273,
          3.0394042548482427,
          3.0394042548482427,
          3.0925833615859517,
          3.1457624683236607,
          3.198941575058102,
          3.252120681795811,
          3.30529978853352,
          3.358478895271229,
          3.411658001995868,
          3.464837108749914,
          3.518016215471286,
          3.571195322225332,
          3.624374428946704,
          3.67755353570075,
          3.730732642422122,
          3.783911749176168,
          3.83709085589754,
          3.890269962651586,
          3.943449069372958,
          3.996628176127004,
          4.049807282848375,
          4.102986389602421,
          4.156165496323792,
          4.156165496323792,
          4.207861349549089,
          4.259557202807059,
          4.311253056032355,
          4.362948909257652,
          4.414644762515622,
          4.4663406157409185,
          4.518036468966215,
          4.569732322191511,
          4.6214281754494815,
          4.673124028674778,
          4.673124028674778,
          4.72566510344083,
          4.778206178205166,
          4.83074725297036,
          4.83074725297036,
          4.883417749650396,
          4.9360882463115665,
          4.988758742991602,
          5.041429239652773,
          5.094099736332808,
          5.146770232993979,
          5.199440729692879,
          5.2521112263540495,
          5.304781723034084,
          5.357452219695255,
          5.41012271637529,
          5.462793213036461,
          5.515463709716497,
          5.5681342063776675,
          5.620804703057703,
          5.673475199718874,
          5.72614569639891,
          5.72614569639891,
          5.776840087312434,
          5.827534478222398,
          5.878228869143041,
          5.928923260054785,
          5.979617650966529,
          6.030312041878273
         ],
         "y": [
          0,
          0.426444983708915,
          0.8491700829374768,
          1.2644224707473244,
          1.66838518142195,
          2.0571542772129043,
          2.4267354710606197,
          2.773077909727079,
          3.0921801772010467,
          3.3803038314865206,
          3.4502318431983445,
          3.472767320553589,
          3.491370951834022,
          3.505599393784503,
          3.5154572781685482,
          3.521434251207833,
          3.524442532219235,
          3.5256014327835383,
          3.5258618742582652,
          3.5258618742582652,
          3.569714268214868,
          3.650567372241482,
          3.7317898326768613,
          3.7103185400453462,
          3.6840330369697925,
          3.653413288376383,
          3.6190780402708613,
          3.5883468741394853,
          3.602373140835765,
          3.631794511984951,
          3.6278349244222237,
          3.6278349244214225,
          3.588492264577105,
          3.5209072740279215,
          3.431962505094435,
          3.325954088530961,
          3.243573644910948,
          3.2134666503286913,
          3.1758049583854984,
          3.130604978112496,
          3.0764937236606644,
          3.003697593819478,
          2.8706860384837447,
          2.6728760764828383,
          2.4474636078213208,
          2.2094002294310475,
          2.193373448849927,
          2.2890249180558695,
          2.40536171146313,
          2.535634556049511,
          2.6502077886287245,
          2.6502077886287245,
          2.578945694669508,
          2.388530719839396,
          2.121138090104512,
          1.8082693710012643,
          1.4688134800826627,
          1.1135099410196012,
          0.7480877155172361,
          0.37588184741831876,
          0,
          0,
          0.41849730151165204,
          0.8332923764320347,
          1.2405480501626773,
          1.636155219680112,
          2.0155408555965195,
          2.3732400751029648,
          2.701764301478824,
          2.988981935649689,
          3.2168205613286247,
          3.378999137486267,
          3.499393198256964,
          3.6027666013455195,
          3.698538352465708,
          3.7827538075527447,
          3.8287387979394616,
          3.7976937627194514,
          3.7197398268970474,
          3.632012211627482,
          3.54751821436819,
          3.6034625983939756,
          3.6293074607735853,
          3.629251162825509,
          3.6192256243919934,
          3.577433054136779,
          3.5121486651102036,
          3.433273371005199,
          3.3500598961019943,
          3.2705270354584433,
          3.2014323144251184,
          3.1486750844513307,
          3.1147745429367135,
          3.103391896157947,
          3.103391896157947,
          3.116452771005857,
          3.1705281538214054,
          3.230103459222768,
          3.230103459222768,
          3.2299168391071404,
          3.221944634044054,
          3.205195636177469,
          3.179719592163091,
          3.146319768727732,
          3.106322079921879,
          3.0613686395405915,
          3.013233285666437,
          2.9039389760470153,
          2.683608361957997,
          2.4462042633205345,
          2.210393646978645,
          2.206390990368342,
          2.299989023734116,
          2.413518011189089,
          2.539962072642852,
          2.6502077886287245,
          3.5258618742582652,
          3.5088561608735604,
          3.4665519708474792,
          3.4117004318744435,
          3.3516873535792158,
          3.2903593234652875,
          3.2300574362816707
         ]
        },
        {
         "marker": {
          "color": [
           "blue",
           "red",
           "green",
           "blue",
           "red",
           "green"
          ],
          "size": 10
         },
         "mode": "markers",
         "name": "Scattered Points",
         "type": "scatter",
         "x": [
          0,
          2.989340560275273,
          3.0394042548482427,
          0.05306173499335455,
          3.0394042548482427,
          3.0925833615859517
         ],
         "y": [
          0,
          0.21307436906723237,
          0,
          0.2179889510372744,
          0,
          0.41849730151165204
         ]
        },
        {
         "line": {
          "color": "blue",
          "dash": "dash"
         },
         "mode": "lines",
         "name": "Band 1 : vs = 2581.267 m/s",
         "type": "scatter",
         "x": [
          -2,
          -1.9590599824748145,
          -1.9181199649496292,
          -1.8771799474244437,
          -1.8362399298992584,
          -1.795299912374073,
          -1.7543598948488877,
          -1.7134198773237022,
          -1.6724798597985169,
          -1.6315398422733314,
          -1.590599824748146,
          -1.5496598072229606,
          -1.5087197896977753,
          -1.4677797721725898,
          -1.4268397546474043,
          -1.385899737122219,
          -1.3449597195970338,
          -1.3040197020718483,
          -1.2630796845466628,
          -1.2221396670214775,
          -1.1811996494962922,
          -1.1402596319711067,
          -1.0993196144459212,
          -1.058379596920736,
          -1.0174395793955504,
          -0.9764995618703651,
          -0.9355595443451796,
          -0.8946195268199943,
          -0.8536795092948088,
          -0.8127394917696236,
          -0.7717994742444381,
          -0.7308594567192528,
          -0.6899194391940673,
          -0.6489794216688818,
          -0.6080394041436965,
          -0.567099386618511,
          -0.5261593690933257,
          -0.4852193515681402,
          -0.44427933404295494,
          -0.40333931651776944,
          -0.36239929899258416,
          -0.32145928146739866,
          -0.2805192639422134,
          -0.23957924641702788,
          -0.1986392288918426,
          -0.1576992113666571,
          -0.11675919384147182,
          -0.07581917631628632,
          -0.03487915879110082,
          0.006060858734084462,
          0.04700087625926974,
          0.08794089378445547,
          0.12888091130964074,
          0.16982092883482602,
          0.2107609463600113,
          0.251700963885197,
          0.2926409814103823,
          0.3335809989355676,
          0.37452101646075286,
          0.4154610339859386,
          0.45640105151112387,
          0.49734106903630915,
          0.5382810865614944,
          0.5792211040866801,
          0.6201611216118654,
          0.6611011391370507,
          0.7020411566622364,
          0.7429811741874217,
          0.783921191712607,
          0.8248612092377923,
          0.865801226762978,
          0.9067412442881633,
          0.9476812618133486,
          0.9886212793385338,
          1.0295612968637196,
          1.0705013143889048,
          1.1114413319140901,
          1.1523813494392754,
          1.1933213669644611,
          1.2342613844896464,
          1.2752014020148317,
          1.3161414195400174,
          1.3570814370652027,
          1.398021454590388,
          1.4389614721155732,
          1.479901489640759,
          1.5208415071659442,
          1.5617815246911295,
          1.6027215422163148,
          1.6436615597415005,
          1.6846015772666858,
          1.725541594791871,
          1.7664816123170564,
          1.807421629842242,
          1.8483616473674274,
          1.8893016648926126,
          1.9302416824177984,
          1.9711816999429836,
          2.012121717468169,
          2.0530617349933546
         ],
         "y": [
          -8.216427565535703,
          -8.048237221271979,
          -7.8800468770082555,
          -7.71185653274453,
          -7.543666188480807,
          -7.375475844217083,
          -7.207285499953359,
          -7.039095155689634,
          -6.870904811425911,
          -6.7027144671621866,
          -6.534524122898463,
          -6.366333778634739,
          -6.198143434371015,
          -6.02995309010729,
          -5.861762745843566,
          -5.693572401579843,
          -5.5253820573161185,
          -5.357191713052394,
          -5.18900136878867,
          -5.020811024524947,
          -4.852620680261223,
          -4.684430335997498,
          -4.516239991733774,
          -4.3480496474700505,
          -4.179859303206326,
          -4.011668958942602,
          -3.8434786146788777,
          -3.6752882704151544,
          -3.50709792615143,
          -3.3389075818877063,
          -3.170717237623982,
          -3.0025268933602582,
          -2.834336549096534,
          -2.6661462048328093,
          -2.497955860569086,
          -2.329765516305361,
          -2.161575172041638,
          -1.9933848277779134,
          -1.8251944835141898,
          -1.6570041392504653,
          -1.488813794986742,
          -1.3206234507230175,
          -1.1524331064592939,
          -0.9842427621955694,
          -0.8160524179318458,
          -0.6478620736681213,
          -0.4796717294043978,
          -0.3114813851406733,
          -0.14329104087694886,
          0.0248993033867747,
          0.19308964765049824,
          0.3612799919142236,
          0.5294703361779471,
          0.6976606804416707,
          0.8658510247053943,
          1.0340413689691197,
          1.2022317132328433,
          1.3704220574965669,
          1.5386124017602902,
          1.7068027460240156,
          1.8749930902877392,
          2.043183434551463,
          2.211373778815186,
          2.3795641230789117,
          2.547754467342635,
          2.715944811606359,
          2.884135155870084,
          3.052325500133808,
          3.2205158443975312,
          3.388706188661255,
          3.55689653292498,
          3.725086877188704,
          3.8932772214524274,
          4.061467565716151,
          4.229657909979876,
          4.3978482542436,
          4.5660385985073235,
          4.734228942771047,
          4.902419287034772,
          5.070609631298496,
          5.23879997556222,
          5.406990319825945,
          5.575180664089668,
          5.7433710083533915,
          5.911561352617116,
          6.079751696880841,
          6.247942041144564,
          6.416132385408288,
          6.584322729672011,
          6.752513073935737,
          6.92070341819946,
          7.088893762463184,
          7.257084106726907,
          7.425274450990633,
          7.593464795254357,
          7.76165513951808,
          7.929845483781805,
          8.098035828045528,
          8.266226172309253,
          8.434416516572977
         ]
        },
        {
         "line": {
          "color": "red",
          "dash": "dash"
         },
         "mode": "lines",
         "name": "Band 2 : vs = 2674.165 m/s",
         "type": "scatter",
         "x": [
          0.9893405602752732,
          1.030250294563889,
          1.071160028852505,
          1.1120697631411207,
          1.1529794974297367,
          1.1938892317183525,
          1.2347989660069683,
          1.275708700295584,
          1.3166184345842,
          1.357528168872816,
          1.3984379031614318,
          1.4393476374500476,
          1.4802573717386633,
          1.5211671060272793,
          1.562076840315895,
          1.602986574604511,
          1.6438963088931269,
          1.6848060431817427,
          1.7257157774703586,
          1.7666255117589744,
          1.8075352460475904,
          1.8484449803362062,
          1.889354714624822,
          1.9302644489134377,
          1.9711741832020537,
          2.0120839174906697,
          2.0529936517792855,
          2.0939033860679013,
          2.134813120356517,
          2.175722854645133,
          2.2166325889337486,
          2.257542323222365,
          2.2984520575109806,
          2.3393617917995964,
          2.3802715260882126,
          2.4211812603768283,
          2.462090994665444,
          2.50300072895406,
          2.5439104632426757,
          2.5848201975312914,
          2.625729931819907,
          2.666639666108523,
          2.707549400397139,
          2.748459134685755,
          2.7893688689743708,
          2.830278603262987,
          2.8711883375516027,
          2.9120980718402185,
          2.9530078061288343,
          2.99391754041745,
          3.034827274706066,
          3.075737008994682,
          3.116646743283298,
          3.1575564775719136,
          3.1984662118605294,
          3.239375946149145,
          3.280285680437761,
          3.321195414726377,
          3.362105149014993,
          3.4030148833036087,
          3.4439246175922245,
          3.4848343518808402,
          3.5257440861694564,
          3.566653820458072,
          3.607563554746688,
          3.6484732890353038,
          3.6893830233239195,
          3.7302927576125358,
          3.7712024919011515,
          3.8121122261897673,
          3.853021960478383,
          3.893931694766999,
          3.934841429055615,
          3.975751163344231,
          4.016660897632846,
          4.057570631921463,
          4.098480366210078,
          4.139390100498694,
          4.18029983478731,
          4.221209569075926,
          4.262119303364542,
          4.3030290376531575,
          4.343938771941773,
          4.384848506230389,
          4.425758240519006,
          4.466667974807621,
          4.507577709096237,
          4.548487443384852,
          4.589397177673469,
          4.6303069119620845,
          4.6712166462507,
          4.712126380539316,
          4.753036114827932,
          4.793945849116548,
          4.834855583405163,
          4.87576531769378,
          4.916675051982395,
          4.957584786271012,
          4.9984945205596265,
          5.039404254848243
         ],
         "y": [
          8.725205600479615,
          8.551091087026162,
          8.376976573572705,
          8.202862060119251,
          8.028747546665796,
          7.854633033212342,
          7.680518519758888,
          7.506404006305433,
          7.332289492851979,
          7.158174979398524,
          6.98406046594507,
          6.809945952491615,
          6.635831439038161,
          6.461716925584706,
          6.2876024121312515,
          6.113487898677796,
          5.939373385224342,
          5.765258871770889,
          5.591144358317433,
          5.417029844863979,
          5.242915331410524,
          5.06880081795707,
          4.894686304503615,
          4.720571791050162,
          4.546457277596707,
          4.3723427641432515,
          4.198228250689796,
          4.024113737236343,
          3.8499992237828877,
          3.6758847103294343,
          3.501770196875981,
          3.327655683422524,
          3.1535411699690705,
          2.9794266565156153,
          2.80531214306216,
          2.631197629608705,
          2.4570831161552515,
          2.2829686027017964,
          2.108854089248343,
          1.9347395757948895,
          1.7606250623414343,
          1.586510548887981,
          1.412396035434524,
          1.2382815219810706,
          1.0641670085276154,
          0.8900524950741602,
          0.715937981620705,
          0.5418234681672516,
          0.36770895471379816,
          0.19359444126034298,
          0.019479927806889563,
          -0.1546345856465674,
          -0.3287490991000208,
          -0.502863612553476,
          -0.6769781260069294,
          -0.8510926394603846,
          -1.025207152913838,
          -1.1993216663672932,
          -1.3734361798207484,
          -1.5475506932742018,
          -1.721665206727657,
          -1.8957797201811104,
          -2.0698942336345674,
          -2.244008747088021,
          -2.418123260541476,
          -2.5922377739949294,
          -2.766352287448383,
          -2.9404668009018398,
          -3.114581314355295,
          -3.2886958278087484,
          -3.4628103412622018,
          -3.636924854715655,
          -3.811039368169112,
          -3.9851538816225656,
          -4.159268395076019,
          -4.333382908529476,
          -4.507497421982926,
          -4.681611935436386,
          -4.85572644888984,
          -5.029840962343293,
          -5.2039554757967466,
          -5.3780699892502035,
          -5.552184502703657,
          -5.72629901615711,
          -5.900413529610567,
          -6.074528043064017,
          -6.248642556517478,
          -6.4227570699709275,
          -6.5968715834243845,
          -6.770986096877838,
          -6.945100610331295,
          -7.119215123784748,
          -7.293329637238202,
          -7.467444150691655,
          -7.6415586641451085,
          -7.815673177598569,
          -7.989787691052019,
          -8.163902204505476,
          -8.338016717958926,
          -8.512131231412386
         ]
        },
        {
         "line": {
          "color": "green",
          "dash": "dash"
         },
         "mode": "lines",
         "name": "Band 3 : vs = 4944.604 m/s",
         "type": "scatter",
         "x": [
          1.0394042548482427,
          1.0803454579466034,
          1.121286661044964,
          1.1622278641433248,
          1.2031690672416855,
          1.2441102703400462,
          1.2850514734384069,
          1.3259926765367676,
          1.3669338796351282,
          1.407875082733489,
          1.4488162858318496,
          1.4897574889302103,
          1.530698692028571,
          1.5716398951269317,
          1.6125810982252924,
          1.653522301323653,
          1.6944635044220138,
          1.7354047075203745,
          1.7763459106187351,
          1.8172871137170958,
          1.8582283168154565,
          1.8991695199138172,
          1.940110723012178,
          1.9810519261105386,
          2.0219931292088993,
          2.06293433230726,
          2.1038755354056207,
          2.144816738503981,
          2.185757941602342,
          2.226699144700703,
          2.2676403477990634,
          2.308581550897424,
          2.349522753995785,
          2.3904639570941457,
          2.431405160192506,
          2.4723463632908667,
          2.5132875663892276,
          2.5542287694875885,
          2.595169972585949,
          2.6361111756843094,
          2.6770523787826703,
          2.7179935818810312,
          2.7589347849793917,
          2.799875988077752,
          2.840817191176113,
          2.881758394274474,
          2.9226995973728345,
          2.963640800471195,
          3.004582003569556,
          3.0455232066679163,
          3.0864644097662772,
          3.127405612864638,
          3.1683468159629986,
          3.209288019061359,
          3.25022922215972,
          3.291170425258081,
          3.3321116283564414,
          3.373052831454802,
          3.4139940345531627,
          3.4549352376515237,
          3.495876440749884,
          3.5368176438482446,
          3.5777588469466055,
          3.6187000500449664,
          3.659641253143327,
          3.7005824562416874,
          3.7415236593400483,
          3.782464862438409,
          3.8234060655367696,
          3.86434726863513,
          3.905288471733491,
          3.946229674831852,
          3.9871708779302124,
          4.028112081028572,
          4.069053284126934,
          4.109994487225295,
          4.150935690323655,
          4.191876893422016,
          4.2328180965203765,
          4.273759299618737,
          4.314700502717098,
          4.355641705815458,
          4.396582908913819,
          4.437524112012181,
          4.47846531511054,
          4.519406518208902,
          4.560347721307262,
          4.6012889244056225,
          4.642230127503984,
          4.6831713306023435,
          4.724112533700705,
          4.765053736799066,
          4.805994939897426,
          4.846936142995787,
          4.887877346094148,
          4.928818549192508,
          4.969759752290869,
          5.010700955389229,
          5.05164215848759,
          5.092583361585952
         ],
         "y": [
          -15.739162508906833,
          -15.416972384469204,
          -15.094782260031575,
          -14.772592135593946,
          -14.450402011156317,
          -14.128211886718686,
          -13.806021762281057,
          -13.483831637843428,
          -13.1616415134058,
          -12.839451388968168,
          -12.51726126453054,
          -12.19507114009291,
          -11.872881015655281,
          -11.550690891217652,
          -11.228500766780021,
          -10.906310642342392,
          -10.584120517904763,
          -10.261930393467134,
          -9.939740269029503,
          -9.617550144591874,
          -9.295360020154245,
          -8.973169895716616,
          -8.650979771278987,
          -8.328789646841356,
          -8.006599522403727,
          -7.684409397966096,
          -7.362219273528467,
          -7.0400291490908415,
          -6.717839024653209,
          -6.395648900215576,
          -6.073458775777951,
          -5.751268651340322,
          -5.429078526902693,
          -5.10688840246506,
          -4.784698278027431,
          -4.4625081535898055,
          -4.140318029152173,
          -3.8181279047145438,
          -3.4959377802769147,
          -3.1737476558392856,
          -2.8515575314016566,
          -2.529367406964024,
          -2.2071772825263984,
          -1.8849871580887694,
          -1.5627970336511368,
          -1.2406069092135077,
          -0.9184167847758786,
          -0.5962266603382496,
          -0.2740365359006205,
          0.048153588537008574,
          0.37034371297463764,
          0.6925338374122703,
          1.0147239618498993,
          1.3369140862875248,
          1.6591042107251575,
          1.9812943351627865,
          2.3034844596004156,
          2.6256745840380447,
          2.9478647084756737,
          3.2700548329133063,
          3.5922449573509354,
          3.914435081788561,
          4.2366252062261935,
          4.558815330663823,
          4.881005455101452,
          5.203195579539081,
          5.52538570397671,
          5.847575828414342,
          6.169765952851968,
          6.491956077289597,
          6.81414620172723,
          7.136336326164859,
          7.458526450602488,
          7.780716575040113,
          8.10290669947775,
          8.425096823915382,
          8.747286948353,
          9.069477072790633,
          9.391667197228266,
          9.713857321665891,
          10.036047446103524,
          10.35823757054115,
          10.680427694978782,
          11.002617819416415,
          11.32480794385404,
          11.646998068291673,
          11.969188192729298,
          12.29137831716693,
          12.613568441604563,
          12.935758566042182,
          13.257948690479815,
          13.580138814917454,
          13.902328939355073,
          14.224519063792705,
          14.546709188230338,
          14.868899312667963,
          15.191089437105596,
          15.513279561543222,
          15.835469685980854,
          16.157659810418487
         ]
        }
       ],
       "layout": {
        "shapes": [
         {
          "line": {
           "color": "black",
           "width": 1
          },
          "type": "line",
          "x0": 0.9551112298727411,
          "x1": 0.9551112298727411,
          "xref": "x",
          "y0": 0,
          "y1": 1,
          "yref": "y domain"
         },
         {
          "line": {
           "color": "black",
           "width": 1
          },
          "type": "line",
          "x0": 1.5549139390014608,
          "x1": 1.5549139390014608,
          "xref": "x",
          "y0": 0,
          "y1": 1,
          "yref": "y domain"
         },
         {
          "line": {
           "color": "black",
           "width": 1
          },
          "type": "line",
          "x0": 2.5888310036951205,
          "x1": 2.5888310036951205,
          "xref": "x",
          "y0": 0,
          "y1": 1,
          "yref": "y domain"
         },
         {
          "line": {
           "color": "black",
           "width": 1
          },
          "type": "line",
          "x0": 3.0394042548482427,
          "x1": 3.0394042548482427,
          "xref": "x",
          "y0": 0,
          "y1": 1,
          "yref": "y domain"
         },
         {
          "line": {
           "color": "black",
           "width": 1
          },
          "type": "line",
          "x0": 4.156165496323792,
          "x1": 4.156165496323792,
          "xref": "x",
          "y0": 0,
          "y1": 1,
          "yref": "y domain"
         },
         {
          "line": {
           "color": "black",
           "width": 1
          },
          "type": "line",
          "x0": 4.673124028674778,
          "x1": 4.673124028674778,
          "xref": "x",
          "y0": 0,
          "y1": 1,
          "yref": "y domain"
         },
         {
          "line": {
           "color": "black",
           "width": 1
          },
          "type": "line",
          "x0": 4.83074725297036,
          "x1": 4.83074725297036,
          "xref": "x",
          "y0": 0,
          "y1": 1,
          "yref": "y domain"
         },
         {
          "line": {
           "color": "black",
           "width": 1
          },
          "type": "line",
          "x0": 5.72614569639891,
          "x1": 5.72614569639891,
          "xref": "x",
          "y0": 0,
          "y1": 1,
          "yref": "y domain"
         }
        ],
        "template": {
         "data": {
          "bar": [
           {
            "error_x": {
             "color": "#2a3f5f"
            },
            "error_y": {
             "color": "#2a3f5f"
            },
            "marker": {
             "line": {
              "color": "#E5ECF6",
              "width": 0.5
             },
             "pattern": {
              "fillmode": "overlay",
              "size": 10,
              "solidity": 0.2
             }
            },
            "type": "bar"
           }
          ],
          "barpolar": [
           {
            "marker": {
             "line": {
              "color": "#E5ECF6",
              "width": 0.5
             },
             "pattern": {
              "fillmode": "overlay",
              "size": 10,
              "solidity": 0.2
             }
            },
            "type": "barpolar"
           }
          ],
          "carpet": [
           {
            "aaxis": {
             "endlinecolor": "#2a3f5f",
             "gridcolor": "white",
             "linecolor": "white",
             "minorgridcolor": "white",
             "startlinecolor": "#2a3f5f"
            },
            "baxis": {
             "endlinecolor": "#2a3f5f",
             "gridcolor": "white",
             "linecolor": "white",
             "minorgridcolor": "white",
             "startlinecolor": "#2a3f5f"
            },
            "type": "carpet"
           }
          ],
          "choropleth": [
           {
            "colorbar": {
             "outlinewidth": 0,
             "ticks": ""
            },
            "type": "choropleth"
           }
          ],
          "contour": [
           {
            "colorbar": {
             "outlinewidth": 0,
             "ticks": ""
            },
            "colorscale": [
             [
              0,
              "#0d0887"
             ],
             [
              0.1111111111111111,
              "#46039f"
             ],
             [
              0.2222222222222222,
              "#7201a8"
             ],
             [
              0.3333333333333333,
              "#9c179e"
             ],
             [
              0.4444444444444444,
              "#bd3786"
             ],
             [
              0.5555555555555556,
              "#d8576b"
             ],
             [
              0.6666666666666666,
              "#ed7953"
             ],
             [
              0.7777777777777778,
              "#fb9f3a"
             ],
             [
              0.8888888888888888,
              "#fdca26"
             ],
             [
              1,
              "#f0f921"
             ]
            ],
            "type": "contour"
           }
          ],
          "contourcarpet": [
           {
            "colorbar": {
             "outlinewidth": 0,
             "ticks": ""
            },
            "type": "contourcarpet"
           }
          ],
          "heatmap": [
           {
            "colorbar": {
             "outlinewidth": 0,
             "ticks": ""
            },
            "colorscale": [
             [
              0,
              "#0d0887"
             ],
             [
              0.1111111111111111,
              "#46039f"
             ],
             [
              0.2222222222222222,
              "#7201a8"
             ],
             [
              0.3333333333333333,
              "#9c179e"
             ],
             [
              0.4444444444444444,
              "#bd3786"
             ],
             [
              0.5555555555555556,
              "#d8576b"
             ],
             [
              0.6666666666666666,
              "#ed7953"
             ],
             [
              0.7777777777777778,
              "#fb9f3a"
             ],
             [
              0.8888888888888888,
              "#fdca26"
             ],
             [
              1,
              "#f0f921"
             ]
            ],
            "type": "heatmap"
           }
          ],
          "heatmapgl": [
           {
            "colorbar": {
             "outlinewidth": 0,
             "ticks": ""
            },
            "colorscale": [
             [
              0,
              "#0d0887"
             ],
             [
              0.1111111111111111,
              "#46039f"
             ],
             [
              0.2222222222222222,
              "#7201a8"
             ],
             [
              0.3333333333333333,
              "#9c179e"
             ],
             [
              0.4444444444444444,
              "#bd3786"
             ],
             [
              0.5555555555555556,
              "#d8576b"
             ],
             [
              0.6666666666666666,
              "#ed7953"
             ],
             [
              0.7777777777777778,
              "#fb9f3a"
             ],
             [
              0.8888888888888888,
              "#fdca26"
             ],
             [
              1,
              "#f0f921"
             ]
            ],
            "type": "heatmapgl"
           }
          ],
          "histogram": [
           {
            "marker": {
             "pattern": {
              "fillmode": "overlay",
              "size": 10,
              "solidity": 0.2
             }
            },
            "type": "histogram"
           }
          ],
          "histogram2d": [
           {
            "colorbar": {
             "outlinewidth": 0,
             "ticks": ""
            },
            "colorscale": [
             [
              0,
              "#0d0887"
             ],
             [
              0.1111111111111111,
              "#46039f"
             ],
             [
              0.2222222222222222,
              "#7201a8"
             ],
             [
              0.3333333333333333,
              "#9c179e"
             ],
             [
              0.4444444444444444,
              "#bd3786"
             ],
             [
              0.5555555555555556,
              "#d8576b"
             ],
             [
              0.6666666666666666,
              "#ed7953"
             ],
             [
              0.7777777777777778,
              "#fb9f3a"
             ],
             [
              0.8888888888888888,
              "#fdca26"
             ],
             [
              1,
              "#f0f921"
             ]
            ],
            "type": "histogram2d"
           }
          ],
          "histogram2dcontour": [
           {
            "colorbar": {
             "outlinewidth": 0,
             "ticks": ""
            },
            "colorscale": [
             [
              0,
              "#0d0887"
             ],
             [
              0.1111111111111111,
              "#46039f"
             ],
             [
              0.2222222222222222,
              "#7201a8"
             ],
             [
              0.3333333333333333,
              "#9c179e"
             ],
             [
              0.4444444444444444,
              "#bd3786"
             ],
             [
              0.5555555555555556,
              "#d8576b"
             ],
             [
              0.6666666666666666,
              "#ed7953"
             ],
             [
              0.7777777777777778,
              "#fb9f3a"
             ],
             [
              0.8888888888888888,
              "#fdca26"
             ],
             [
              1,
              "#f0f921"
             ]
            ],
            "type": "histogram2dcontour"
           }
          ],
          "mesh3d": [
           {
            "colorbar": {
             "outlinewidth": 0,
             "ticks": ""
            },
            "type": "mesh3d"
           }
          ],
          "parcoords": [
           {
            "line": {
             "colorbar": {
              "outlinewidth": 0,
              "ticks": ""
             }
            },
            "type": "parcoords"
           }
          ],
          "pie": [
           {
            "automargin": true,
            "type": "pie"
           }
          ],
          "scatter": [
           {
            "fillpattern": {
             "fillmode": "overlay",
             "size": 10,
             "solidity": 0.2
            },
            "type": "scatter"
           }
          ],
          "scatter3d": [
           {
            "line": {
             "colorbar": {
              "outlinewidth": 0,
              "ticks": ""
             }
            },
            "marker": {
             "colorbar": {
              "outlinewidth": 0,
              "ticks": ""
             }
            },
            "type": "scatter3d"
           }
          ],
          "scattercarpet": [
           {
            "marker": {
             "colorbar": {
              "outlinewidth": 0,
              "ticks": ""
             }
            },
            "type": "scattercarpet"
           }
          ],
          "scattergeo": [
           {
            "marker": {
             "colorbar": {
              "outlinewidth": 0,
              "ticks": ""
             }
            },
            "type": "scattergeo"
           }
          ],
          "scattergl": [
           {
            "marker": {
             "colorbar": {
              "outlinewidth": 0,
              "ticks": ""
             }
            },
            "type": "scattergl"
           }
          ],
          "scattermapbox": [
           {
            "marker": {
             "colorbar": {
              "outlinewidth": 0,
              "ticks": ""
             }
            },
            "type": "scattermapbox"
           }
          ],
          "scatterpolar": [
           {
            "marker": {
             "colorbar": {
              "outlinewidth": 0,
              "ticks": ""
             }
            },
            "type": "scatterpolar"
           }
          ],
          "scatterpolargl": [
           {
            "marker": {
             "colorbar": {
              "outlinewidth": 0,
              "ticks": ""
             }
            },
            "type": "scatterpolargl"
           }
          ],
          "scatterternary": [
           {
            "marker": {
             "colorbar": {
              "outlinewidth": 0,
              "ticks": ""
             }
            },
            "type": "scatterternary"
           }
          ],
          "surface": [
           {
            "colorbar": {
             "outlinewidth": 0,
             "ticks": ""
            },
            "colorscale": [
             [
              0,
              "#0d0887"
             ],
             [
              0.1111111111111111,
              "#46039f"
             ],
             [
              0.2222222222222222,
              "#7201a8"
             ],
             [
              0.3333333333333333,
              "#9c179e"
             ],
             [
              0.4444444444444444,
              "#bd3786"
             ],
             [
              0.5555555555555556,
              "#d8576b"
             ],
             [
              0.6666666666666666,
              "#ed7953"
             ],
             [
              0.7777777777777778,
              "#fb9f3a"
             ],
             [
              0.8888888888888888,
              "#fdca26"
             ],
             [
              1,
              "#f0f921"
             ]
            ],
            "type": "surface"
           }
          ],
          "table": [
           {
            "cells": {
             "fill": {
              "color": "#EBF0F8"
             },
             "line": {
              "color": "white"
             }
            },
            "header": {
             "fill": {
              "color": "#C8D4E3"
             },
             "line": {
              "color": "white"
             }
            },
            "type": "table"
           }
          ]
         },
         "layout": {
          "annotationdefaults": {
           "arrowcolor": "#2a3f5f",
           "arrowhead": 0,
           "arrowwidth": 1
          },
          "autotypenumbers": "strict",
          "coloraxis": {
           "colorbar": {
            "outlinewidth": 0,
            "ticks": ""
           }
          },
          "colorscale": {
           "diverging": [
            [
             0,
             "#8e0152"
            ],
            [
             0.1,
             "#c51b7d"
            ],
            [
             0.2,
             "#de77ae"
            ],
            [
             0.3,
             "#f1b6da"
            ],
            [
             0.4,
             "#fde0ef"
            ],
            [
             0.5,
             "#f7f7f7"
            ],
            [
             0.6,
             "#e6f5d0"
            ],
            [
             0.7,
             "#b8e186"
            ],
            [
             0.8,
             "#7fbc41"
            ],
            [
             0.9,
             "#4d9221"
            ],
            [
             1,
             "#276419"
            ]
           ],
           "sequential": [
            [
             0,
             "#0d0887"
            ],
            [
             0.1111111111111111,
             "#46039f"
            ],
            [
             0.2222222222222222,
             "#7201a8"
            ],
            [
             0.3333333333333333,
             "#9c179e"
            ],
            [
             0.4444444444444444,
             "#bd3786"
            ],
            [
             0.5555555555555556,
             "#d8576b"
            ],
            [
             0.6666666666666666,
             "#ed7953"
            ],
            [
             0.7777777777777778,
             "#fb9f3a"
            ],
            [
             0.8888888888888888,
             "#fdca26"
            ],
            [
             1,
             "#f0f921"
            ]
           ],
           "sequentialminus": [
            [
             0,
             "#0d0887"
            ],
            [
             0.1111111111111111,
             "#46039f"
            ],
            [
             0.2222222222222222,
             "#7201a8"
            ],
            [
             0.3333333333333333,
             "#9c179e"
            ],
            [
             0.4444444444444444,
             "#bd3786"
            ],
            [
             0.5555555555555556,
             "#d8576b"
            ],
            [
             0.6666666666666666,
             "#ed7953"
            ],
            [
             0.7777777777777778,
             "#fb9f3a"
            ],
            [
             0.8888888888888888,
             "#fdca26"
            ],
            [
             1,
             "#f0f921"
            ]
           ]
          },
          "colorway": [
           "#636efa",
           "#EF553B",
           "#00cc96",
           "#ab63fa",
           "#FFA15A",
           "#19d3f3",
           "#FF6692",
           "#B6E880",
           "#FF97FF",
           "#FECB52"
          ],
          "font": {
           "color": "#2a3f5f"
          },
          "geo": {
           "bgcolor": "white",
           "lakecolor": "white",
           "landcolor": "#E5ECF6",
           "showlakes": true,
           "showland": true,
           "subunitcolor": "white"
          },
          "hoverlabel": {
           "align": "left"
          },
          "hovermode": "closest",
          "mapbox": {
           "style": "light"
          },
          "paper_bgcolor": "white",
          "plot_bgcolor": "#E5ECF6",
          "polar": {
           "angularaxis": {
            "gridcolor": "white",
            "linecolor": "white",
            "ticks": ""
           },
           "bgcolor": "#E5ECF6",
           "radialaxis": {
            "gridcolor": "white",
            "linecolor": "white",
            "ticks": ""
           }
          },
          "scene": {
           "xaxis": {
            "backgroundcolor": "#E5ECF6",
            "gridcolor": "white",
            "gridwidth": 2,
            "linecolor": "white",
            "showbackground": true,
            "ticks": "",
            "zerolinecolor": "white"
           },
           "yaxis": {
            "backgroundcolor": "#E5ECF6",
            "gridcolor": "white",
            "gridwidth": 2,
            "linecolor": "white",
            "showbackground": true,
            "ticks": "",
            "zerolinecolor": "white"
           },
           "zaxis": {
            "backgroundcolor": "#E5ECF6",
            "gridcolor": "white",
            "gridwidth": 2,
            "linecolor": "white",
            "showbackground": true,
            "ticks": "",
            "zerolinecolor": "white"
           }
          },
          "shapedefaults": {
           "line": {
            "color": "#2a3f5f"
           }
          },
          "ternary": {
           "aaxis": {
            "gridcolor": "white",
            "linecolor": "white",
            "ticks": ""
           },
           "baxis": {
            "gridcolor": "white",
            "linecolor": "white",
            "ticks": ""
           },
           "bgcolor": "#E5ECF6",
           "caxis": {
            "gridcolor": "white",
            "linecolor": "white",
            "ticks": ""
           }
          },
          "title": {
           "x": 0.05
          },
          "xaxis": {
           "automargin": true,
           "gridcolor": "white",
           "linecolor": "white",
           "ticks": "",
           "title": {
            "standoff": 15
           },
           "zerolinecolor": "white",
           "zerolinewidth": 2
          },
          "yaxis": {
           "automargin": true,
           "gridcolor": "white",
           "linecolor": "white",
           "ticks": "",
           "title": {
            "standoff": 15
           },
           "zerolinecolor": "white",
           "zerolinewidth": 2
          }
         }
        },
        "xaxis": {
         "mirror": true,
         "range": [
          0,
          2.0530617349933546
         ],
         "showgrid": false,
         "ticklen": 0,
         "ticks": "inside",
         "ticktext": [
          "Î“",
          "L",
          "B_1|B",
          "Z",
          "Î“",
          "X|Q",
          "F",
          "P_1",
          "Z|L",
          "P"
         ],
         "tickvals": [
          0,
          0.9551112298727411,
          1.5549139390014608,
          2.5888310036951205,
          3.0394042548482427,
          4.156165496323792,
          4.673124028674778,
          4.83074725297036,
          5.72614569639891,
          6.030312041878273
         ],
         "title": {
          "text": "Wave Vector"
         }
        },
        "yaxis": {
         "mirror": true,
         "range": [
          0,
          3.2179889510372743
         ],
         "showgrid": false,
         "ticklen": 10,
         "ticks": "inside",
         "title": {
          "text": "Frequencies (THz)"
         }
        }
       }
      }
     },
     "metadata": {},
     "output_type": "display_data"
    },
    {
     "data": {
      "application/vnd.plotly.v1+json": {
       "config": {
        "plotlyServerURL": "https://plot.ly"
       },
       "data": [
        {
         "mode": "lines",
         "name": "band 1",
         "type": "scatter",
         "x": [
          0,
          0.05306173499335455,
          0.1061234699867091,
          0.15918520497815342,
          0.21224693996959776,
          0.2653086749667728,
          0.3183704099639478,
          0.3714321449420206,
          0.4244938799391956,
          0.4775556149363706,
          0.5306173499335456,
          0.5836790849307206,
          0.6367408199087934,
          0.6898025549059684,
          0.7428642899031433,
          0.7959260249003184,
          0.848987759878391,
          0.9020494948755662,
          0.9551112298727411,
          0.9551112298727411,
          1.009638748885631,
          1.064166267898521,
          1.1186937869081437,
          1.1732213059210337,
          1.2277488249339237,
          1.2822763439370113,
          1.3368038629695058,
          1.391331381969326,
          1.4458589009691463,
          1.5003864200016406,
          1.5549139390014608,
          1.5549139390014608,
          1.609330626615197,
          1.6637473142289334,
          1.7181640018426694,
          1.7725806894564053,
          1.8269973770701413,
          1.8814140646838775,
          1.9358307522976135,
          1.990247439944024,
          2.04466412755776,
          2.099080815171496,
          2.1534975027852323,
          2.2079141903989683,
          2.2623308780127043,
          2.3167475656264402,
          2.3711642532401767,
          2.4255809408539126,
          2.4799976284676486,
          2.5344143160813846,
          2.5888310036951205,
          2.5888310036951205,
          2.6388946982716948,
          2.6889583928392575,
          2.7390220874158318,
          2.7890857819833945,
          2.8391494765599687,
          2.8892131711275315,
          2.9392768657041057,
          2.989340560275273,
          3.0394042548482427,
          3.0394042548482427,
          3.0925833615859517,
          3.1457624683236607,
          3.198941575058102,
          3.252120681795811,
          3.30529978853352,
          3.358478895271229,
          3.411658001995868,
          3.464837108749914,
          3.518016215471286,
          3.571195322225332,
          3.624374428946704,
          3.67755353570075,
          3.730732642422122,
          3.783911749176168,
          3.83709085589754,
          3.890269962651586,
          3.943449069372958,
          3.996628176127004,
          4.049807282848375,
          4.102986389602421,
          4.156165496323792,
          4.156165496323792,
          4.207861349549089,
          4.259557202807059,
          4.311253056032355,
          4.362948909257652,
          4.414644762515622,
          4.4663406157409185,
          4.518036468966215,
          4.569732322191511,
          4.6214281754494815,
          4.673124028674778,
          4.673124028674778,
          4.72566510344083,
          4.778206178205166,
          4.83074725297036,
          4.83074725297036,
          4.883417749650396,
          4.9360882463115665,
          4.988758742991602,
          5.041429239652773,
          5.094099736332808,
          5.146770232993979,
          5.199440729692879,
          5.2521112263540495,
          5.304781723034084,
          5.357452219695255,
          5.41012271637529,
          5.462793213036461,
          5.515463709716497,
          5.5681342063776675,
          5.620804703057703,
          5.673475199718874,
          5.72614569639891,
          5.72614569639891,
          5.776840087312434,
          5.827534478222398,
          5.878228869143041,
          5.928923260054785,
          5.979617650966529,
          6.030312041878273
         ],
         "y": [
          0,
          0.2179889510372744,
          0.4351126130411345,
          0.6505811199213776,
          0.8637217921068545,
          1.073990895701692,
          1.2810011552505596,
          1.4846145989065238,
          1.6850959563733654,
          1.883233150043755,
          2.0802743823622967,
          2.23268300135925,
          2.3671672937588,
          2.485371760514009,
          2.5857820938481715,
          2.6666962337501863,
          2.7263157392565502,
          2.762943019801927,
          2.7753110186683196,
          2.7753110186683196,
          2.792877340039772,
          2.8439346939952106,
          2.923936577018763,
          3.0263084644740053,
          3.1432391285626955,
          3.265819181525167,
          3.28607410259159,
          3.280304365104243,
          3.2805416289626397,
          3.2842944433756753,
          3.288653597436854,
          3.2886535974342457,
          3.254032296568878,
          3.1398207381715424,
          3.0095842932332286,
          2.8673188680957695,
          2.7186009078176077,
          2.5696747233670445,
          2.426892300482084,
          2.296514810585753,
          2.184466405298296,
          2.0954279423011757,
          2.0297646580262967,
          1.9703779821152714,
          1.8694308350959048,
          1.7395865134458268,
          1.615384799048026,
          1.5098360183684092,
          1.4297774883311092,
          1.3798460164368498,
          1.3628821927343626,
          1.3628821927343626,
          1.3356924795350182,
          1.258103653652552,
          1.1392979600516593,
          0.9890343941186222,
          0.8154296897178901,
          0.6248956601368549,
          0.4226459944405573,
          0.21307436906495864,
          0,
          0,
          0.2054125172791408,
          0.411522623705649,
          0.6188587760124858,
          0.8276240655724939,
          1.0375882302233648,
          1.248063035081273,
          1.4579613113745526,
          1.6659082272080465,
          1.8703716656488476,
          2.069788003995362,
          2.262647780762384,
          2.4474749020696325,
          2.622619908435082,
          2.7858113860182248,
          2.933473411722386,
          3.060157405921633,
          3.1595886153203128,
          3.2284482121191234,
          3.2683978683450188,
          3.2836570022909988,
          3.278835981166884,
          3.2787799038183216,
          3.2591414122401012,
          3.2288429920531723,
          3.1916714239907735,
          3.1510459789288823,
          3.1099951304733913,
          3.0712421830026613,
          3.0373288903237694,
          3.010681198489256,
          2.993529834881652,
          2.9875893605245896,
          2.9875893605245896,
          2.961239915508566,
          2.9143740340567716,
          2.8663152988333906,
          2.8663152988333906,
          2.82340544083249,
          2.764970097266603,
          2.6596154355067076,
          2.515096839715098,
          2.3837938282994884,
          2.2702298180592253,
          2.178195252772971,
          2.110911533990976,
          2.057956595260378,
          1.9340404110720661,
          1.8119375475803254,
          1.695315204966821,
          1.5884533780983259,
          1.496355081637518,
          1.424605686551972,
          1.3787121736533319,
          1.3628821927343626,
          2.7753110186683196,
          2.777635062740611,
          2.7847262918805864,
          2.796875174219782,
          2.8144015682834347,
          2.83752862737193,
          2.8662483227502125
         ]
        },
        {
         "mode": "lines",
         "name": "band 2",
         "type": "scatter",
         "x": [
          0,
          0.05306173499335455,
          0.1061234699867091,
          0.15918520497815342,
          0.21224693996959776,
          0.2653086749667728,
          0.3183704099639478,
          0.3714321449420206,
          0.4244938799391956,
          0.4775556149363706,
          0.5306173499335456,
          0.5836790849307206,
          0.6367408199087934,
          0.6898025549059684,
          0.7428642899031433,
          0.7959260249003184,
          0.848987759878391,
          0.9020494948755662,
          0.9551112298727411,
          0.9551112298727411,
          1.009638748885631,
          1.064166267898521,
          1.1186937869081437,
          1.1732213059210337,
          1.2277488249339237,
          1.2822763439370113,
          1.3368038629695058,
          1.391331381969326,
          1.4458589009691463,
          1.5003864200016406,
          1.5549139390014608,
          1.5549139390014608,
          1.609330626615197,
          1.6637473142289334,
          1.7181640018426694,
          1.7725806894564053,
          1.8269973770701413,
          1.8814140646838775,
          1.9358307522976135,
          1.990247439944024,
          2.04466412755776,
          2.099080815171496,
          2.1534975027852323,
          2.2079141903989683,
          2.2623308780127043,
          2.3167475656264402,
          2.3711642532401767,
          2.4255809408539126,
          2.4799976284676486,
          2.5344143160813846,
          2.5888310036951205,
          2.5888310036951205,
          2.6388946982716948,
          2.6889583928392575,
          2.7390220874158318,
          2.7890857819833945,
          2.8391494765599687,
          2.8892131711275315,
          2.9392768657041057,
          2.989340560275273,
          3.0394042548482427,
          3.0394042548482427,
          3.0925833615859517,
          3.1457624683236607,
          3.198941575058102,
          3.252120681795811,
          3.30529978853352,
          3.358478895271229,
          3.411658001995868,
          3.464837108749914,
          3.518016215471286,
          3.571195322225332,
          3.624374428946704,
          3.67755353570075,
          3.730732642422122,
          3.783911749176168,
          3.83709085589754,
          3.890269962651586,
          3.943449069372958,
          3.996628176127004,
          4.049807282848375,
          4.102986389602421,
          4.156165496323792,
          4.156165496323792,
          4.207861349549089,
          4.259557202807059,
          4.311253056032355,
          4.362948909257652,
          4.414644762515622,
          4.4663406157409185,
          4.518036468966215,
          4.569732322191511,
          4.6214281754494815,
          4.673124028674778,
          4.673124028674778,
          4.72566510344083,
          4.778206178205166,
          4.83074725297036,
          4.83074725297036,
          4.883417749650396,
          4.9360882463115665,
          4.988758742991602,
          5.041429239652773,
          5.094099736332808,
          5.146770232993979,
          5.199440729692879,
          5.2521112263540495,
          5.304781723034084,
          5.357452219695255,
          5.41012271637529,
          5.462793213036461,
          5.515463709716497,
          5.5681342063776675,
          5.620804703057703,
          5.673475199718874,
          5.72614569639891,
          5.72614569639891,
          5.776840087312434,
          5.827534478222398,
          5.878228869143041,
          5.928923260054785,
          5.979617650966529,
          6.030312041878273
         ],
         "y": [
          0,
          0.23640394344186433,
          0.4709764099862377,
          0.7018962313740104,
          0.9273783452905751,
          1.1457228222194349,
          1.3553795195527938,
          1.55500374718154,
          1.743471275803249,
          1.919832451169596,
          2.083211478137737,
          2.2775827727970936,
          2.476072492858687,
          2.6756272473320535,
          2.8746329121409837,
          3.069430731443784,
          3.2527694291467513,
          3.4072428665752224,
          3.479405914537363,
          3.479405914537363,
          3.4506658692902965,
          3.413778110302661,
          3.379132076465897,
          3.34734349215974,
          3.320113184345151,
          3.299309666517944,
          3.3828999585363766,
          3.4742576540591865,
          3.4841067544527116,
          3.4286770803781317,
          3.350408736204428,
          3.3504087362072914,
          3.2908917502611943,
          3.2888332104110765,
          3.2808873367174294,
          3.2659954721337625,
          3.205043426540243,
          3.070465903343529,
          2.923552962466557,
          2.7663700815161616,
          2.602089464169849,
          2.4354760879140236,
          2.275035250084056,
          2.145120434541371,
          2.098596445373262,
          2.125718078545533,
          1.969841117255589,
          1.7428419508471429,
          1.5481741244042988,
          1.4123627919626043,
          1.3628821927489696,
          1.3628821927489696,
          1.3356924795493428,
          1.2581036536660408,
          1.1392979600638637,
          0.98903439412922,
          0.8154296897266328,
          0.6248956601435617,
          0.42264599444512113,
          0.21307436906723237,
          0,
          0,
          0.264461355708713,
          0.5272324838121133,
          0.7865584589055771,
          1.0406208742897998,
          1.2876407212026584,
          1.5260545715410108,
          1.7546678641687694,
          1.9726784069276548,
          2.1795351244652243,
          2.374701047234903,
          2.5574517495324693,
          2.7268358144461087,
          2.881877166986575,
          3.0220482270749747,
          3.1479835363799307,
          3.2620670873046564,
          3.3673595322144876,
          3.463686312798743,
          3.545352331677446,
          3.4712665957584314,
          3.4056871934282387,
          3.4057969288800747,
          3.353380747244839,
          3.3124316491006645,
          3.282340472783837,
          3.261203496866951,
          3.244961739567407,
          3.2261497240593053,
          3.1947553728240754,
          3.1482091553221476,
          3.1052694306287094,
          3.0876289420496446,
          3.0876289420496446,
          3.1052072892120286,
          3.109695388203482,
          3.1144922715493975,
          3.1144922715493975,
          2.965952784259628,
          2.8119601370625946,
          2.6931316025121688,
          2.6094015736015157,
          2.5149817340930243,
          2.4110388242899408,
          2.298953435245428,
          2.1805055757243386,
          2.070964768966731,
          2.059926386451919,
          2.0776184471990797,
          2.114236672540355,
          1.9488693007145133,
          1.7264065573224363,
          1.5383672847182144,
          1.4093828422724883,
          1.3628821927489696,
          3.479405914537363,
          3.469317086398518,
          3.4360109437633537,
          3.374055797270281,
          3.287739002379311,
          3.194828173803003,
          3.1144897114266525
         ]
        },
        {
         "mode": "lines",
         "name": "band 3",
         "type": "scatter",
         "x": [
          0,
          0.05306173499335455,
          0.1061234699867091,
          0.15918520497815342,
          0.21224693996959776,
          0.2653086749667728,
          0.3183704099639478,
          0.3714321449420206,
          0.4244938799391956,
          0.4775556149363706,
          0.5306173499335456,
          0.5836790849307206,
          0.6367408199087934,
          0.6898025549059684,
          0.7428642899031433,
          0.7959260249003184,
          0.848987759878391,
          0.9020494948755662,
          0.9551112298727411,
          0.9551112298727411,
          1.009638748885631,
          1.064166267898521,
          1.1186937869081437,
          1.1732213059210337,
          1.2277488249339237,
          1.2822763439370113,
          1.3368038629695058,
          1.391331381969326,
          1.4458589009691463,
          1.5003864200016406,
          1.5549139390014608,
          1.5549139390014608,
          1.609330626615197,
          1.6637473142289334,
          1.7181640018426694,
          1.7725806894564053,
          1.8269973770701413,
          1.8814140646838775,
          1.9358307522976135,
          1.990247439944024,
          2.04466412755776,
          2.099080815171496,
          2.1534975027852323,
          2.2079141903989683,
          2.2623308780127043,
          2.3167475656264402,
          2.3711642532401767,
          2.4255809408539126,
          2.4799976284676486,
          2.5344143160813846,
          2.5888310036951205,
          2.5888310036951205,
          2.6388946982716948,
          2.6889583928392575,
          2.7390220874158318,
          2.7890857819833945,
          2.8391494765599687,
          2.8892131711275315,
          2.9392768657041057,
          2.989340560275273,
          3.0394042548482427,
          3.0394042548482427,
          3.0925833615859517,
          3.1457624683236607,
          3.198941575058102,
          3.252120681795811,
          3.30529978853352,
          3.358478895271229,
          3.411658001995868,
          3.464837108749914,
          3.518016215471286,
          3.571195322225332,
          3.624374428946704,
          3.67755353570075,
          3.730732642422122,
          3.783911749176168,
          3.83709085589754,
          3.890269962651586,
          3.943449069372958,
          3.996628176127004,
          4.049807282848375,
          4.102986389602421,
          4.156165496323792,
          4.156165496323792,
          4.207861349549089,
          4.259557202807059,
          4.311253056032355,
          4.362948909257652,
          4.414644762515622,
          4.4663406157409185,
          4.518036468966215,
          4.569732322191511,
          4.6214281754494815,
          4.673124028674778,
          4.673124028674778,
          4.72566510344083,
          4.778206178205166,
          4.83074725297036,
          4.83074725297036,
          4.883417749650396,
          4.9360882463115665,
          4.988758742991602,
          5.041429239652773,
          5.094099736332808,
          5.146770232993979,
          5.199440729692879,
          5.2521112263540495,
          5.304781723034084,
          5.357452219695255,
          5.41012271637529,
          5.462793213036461,
          5.515463709716497,
          5.5681342063776675,
          5.620804703057703,
          5.673475199718874,
          5.72614569639891,
          5.72614569639891,
          5.776840087312434,
          5.827534478222398,
          5.878228869143041,
          5.928923260054785,
          5.979617650966529,
          6.030312041878273
         ],
         "y": [
          0,
          0.426444983708915,
          0.8491700829374768,
          1.2644224707473244,
          1.66838518142195,
          2.0571542772129043,
          2.4267354710606197,
          2.773077909727079,
          3.0921801772010467,
          3.3803038314865206,
          3.4502318431983445,
          3.472767320553589,
          3.491370951834022,
          3.505599393784503,
          3.5154572781685482,
          3.521434251207833,
          3.524442532219235,
          3.5256014327835383,
          3.5258618742582652,
          3.5258618742582652,
          3.569714268214868,
          3.650567372241482,
          3.7317898326768613,
          3.7103185400453462,
          3.6840330369697925,
          3.653413288376383,
          3.6190780402708613,
          3.5883468741394853,
          3.602373140835765,
          3.631794511984951,
          3.6278349244222237,
          3.6278349244214225,
          3.588492264577105,
          3.5209072740279215,
          3.431962505094435,
          3.325954088530961,
          3.243573644910948,
          3.2134666503286913,
          3.1758049583854984,
          3.130604978112496,
          3.0764937236606644,
          3.003697593819478,
          2.8706860384837447,
          2.6728760764828383,
          2.4474636078213208,
          2.2094002294310475,
          2.193373448849927,
          2.2890249180558695,
          2.40536171146313,
          2.535634556049511,
          2.6502077886287245,
          2.6502077886287245,
          2.578945694669508,
          2.388530719839396,
          2.121138090104512,
          1.8082693710012643,
          1.4688134800826627,
          1.1135099410196012,
          0.7480877155172361,
          0.37588184741831876,
          0,
          0,
          0.41849730151165204,
          0.8332923764320347,
          1.2405480501626773,
          1.636155219680112,
          2.0155408555965195,
          2.3732400751029648,
          2.701764301478824,
          2.988981935649689,
          3.2168205613286247,
          3.378999137486267,
          3.499393198256964,
          3.6027666013455195,
          3.698538352465708,
          3.7827538075527447,
          3.8287387979394616,
          3.7976937627194514,
          3.7197398268970474,
          3.632012211627482,
          3.54751821436819,
          3.6034625983939756,
          3.6293074607735853,
          3.629251162825509,
          3.6192256243919934,
          3.577433054136779,
          3.5121486651102036,
          3.433273371005199,
          3.3500598961019943,
          3.2705270354584433,
          3.2014323144251184,
          3.1486750844513307,
          3.1147745429367135,
          3.103391896157947,
          3.103391896157947,
          3.116452771005857,
          3.1705281538214054,
          3.230103459222768,
          3.230103459222768,
          3.2299168391071404,
          3.221944634044054,
          3.205195636177469,
          3.179719592163091,
          3.146319768727732,
          3.106322079921879,
          3.0613686395405915,
          3.013233285666437,
          2.9039389760470153,
          2.683608361957997,
          2.4462042633205345,
          2.210393646978645,
          2.206390990368342,
          2.299989023734116,
          2.413518011189089,
          2.539962072642852,
          2.6502077886287245,
          3.5258618742582652,
          3.5088561608735604,
          3.4665519708474792,
          3.4117004318744435,
          3.3516873535792158,
          3.2903593234652875,
          3.2300574362816707
         ]
        },
        {
         "marker": {
          "color": [
           "blue",
           "red",
           "green",
           "blue",
           "red",
           "green"
          ],
          "size": 10
         },
         "mode": "markers",
         "name": "Scattered Points",
         "type": "scatter",
         "x": [
          0,
          2.989340560275273,
          3.0394042548482427,
          0.05306173499335455,
          3.0394042548482427,
          3.0925833615859517
         ],
         "y": [
          0,
          0.21307436906723237,
          0,
          0.2179889510372744,
          0,
          0.41849730151165204
         ]
        },
        {
         "line": {
          "color": "blue",
          "dash": "dash"
         },
         "mode": "lines",
         "name": "Band 1 : vs = 2581.267 m/s",
         "type": "scatter",
         "x": [
          -2,
          -1.9590599824748145,
          -1.9181199649496292,
          -1.8771799474244437,
          -1.8362399298992584,
          -1.795299912374073,
          -1.7543598948488877,
          -1.7134198773237022,
          -1.6724798597985169,
          -1.6315398422733314,
          -1.590599824748146,
          -1.5496598072229606,
          -1.5087197896977753,
          -1.4677797721725898,
          -1.4268397546474043,
          -1.385899737122219,
          -1.3449597195970338,
          -1.3040197020718483,
          -1.2630796845466628,
          -1.2221396670214775,
          -1.1811996494962922,
          -1.1402596319711067,
          -1.0993196144459212,
          -1.058379596920736,
          -1.0174395793955504,
          -0.9764995618703651,
          -0.9355595443451796,
          -0.8946195268199943,
          -0.8536795092948088,
          -0.8127394917696236,
          -0.7717994742444381,
          -0.7308594567192528,
          -0.6899194391940673,
          -0.6489794216688818,
          -0.6080394041436965,
          -0.567099386618511,
          -0.5261593690933257,
          -0.4852193515681402,
          -0.44427933404295494,
          -0.40333931651776944,
          -0.36239929899258416,
          -0.32145928146739866,
          -0.2805192639422134,
          -0.23957924641702788,
          -0.1986392288918426,
          -0.1576992113666571,
          -0.11675919384147182,
          -0.07581917631628632,
          -0.03487915879110082,
          0.006060858734084462,
          0.04700087625926974,
          0.08794089378445547,
          0.12888091130964074,
          0.16982092883482602,
          0.2107609463600113,
          0.251700963885197,
          0.2926409814103823,
          0.3335809989355676,
          0.37452101646075286,
          0.4154610339859386,
          0.45640105151112387,
          0.49734106903630915,
          0.5382810865614944,
          0.5792211040866801,
          0.6201611216118654,
          0.6611011391370507,
          0.7020411566622364,
          0.7429811741874217,
          0.783921191712607,
          0.8248612092377923,
          0.865801226762978,
          0.9067412442881633,
          0.9476812618133486,
          0.9886212793385338,
          1.0295612968637196,
          1.0705013143889048,
          1.1114413319140901,
          1.1523813494392754,
          1.1933213669644611,
          1.2342613844896464,
          1.2752014020148317,
          1.3161414195400174,
          1.3570814370652027,
          1.398021454590388,
          1.4389614721155732,
          1.479901489640759,
          1.5208415071659442,
          1.5617815246911295,
          1.6027215422163148,
          1.6436615597415005,
          1.6846015772666858,
          1.725541594791871,
          1.7664816123170564,
          1.807421629842242,
          1.8483616473674274,
          1.8893016648926126,
          1.9302416824177984,
          1.9711816999429836,
          2.012121717468169,
          2.0530617349933546
         ],
         "y": [
          -8.216427565535703,
          -8.048237221271979,
          -7.8800468770082555,
          -7.71185653274453,
          -7.543666188480807,
          -7.375475844217083,
          -7.207285499953359,
          -7.039095155689634,
          -6.870904811425911,
          -6.7027144671621866,
          -6.534524122898463,
          -6.366333778634739,
          -6.198143434371015,
          -6.02995309010729,
          -5.861762745843566,
          -5.693572401579843,
          -5.5253820573161185,
          -5.357191713052394,
          -5.18900136878867,
          -5.020811024524947,
          -4.852620680261223,
          -4.684430335997498,
          -4.516239991733774,
          -4.3480496474700505,
          -4.179859303206326,
          -4.011668958942602,
          -3.8434786146788777,
          -3.6752882704151544,
          -3.50709792615143,
          -3.3389075818877063,
          -3.170717237623982,
          -3.0025268933602582,
          -2.834336549096534,
          -2.6661462048328093,
          -2.497955860569086,
          -2.329765516305361,
          -2.161575172041638,
          -1.9933848277779134,
          -1.8251944835141898,
          -1.6570041392504653,
          -1.488813794986742,
          -1.3206234507230175,
          -1.1524331064592939,
          -0.9842427621955694,
          -0.8160524179318458,
          -0.6478620736681213,
          -0.4796717294043978,
          -0.3114813851406733,
          -0.14329104087694886,
          0.0248993033867747,
          0.19308964765049824,
          0.3612799919142236,
          0.5294703361779471,
          0.6976606804416707,
          0.8658510247053943,
          1.0340413689691197,
          1.2022317132328433,
          1.3704220574965669,
          1.5386124017602902,
          1.7068027460240156,
          1.8749930902877392,
          2.043183434551463,
          2.211373778815186,
          2.3795641230789117,
          2.547754467342635,
          2.715944811606359,
          2.884135155870084,
          3.052325500133808,
          3.2205158443975312,
          3.388706188661255,
          3.55689653292498,
          3.725086877188704,
          3.8932772214524274,
          4.061467565716151,
          4.229657909979876,
          4.3978482542436,
          4.5660385985073235,
          4.734228942771047,
          4.902419287034772,
          5.070609631298496,
          5.23879997556222,
          5.406990319825945,
          5.575180664089668,
          5.7433710083533915,
          5.911561352617116,
          6.079751696880841,
          6.247942041144564,
          6.416132385408288,
          6.584322729672011,
          6.752513073935737,
          6.92070341819946,
          7.088893762463184,
          7.257084106726907,
          7.425274450990633,
          7.593464795254357,
          7.76165513951808,
          7.929845483781805,
          8.098035828045528,
          8.266226172309253,
          8.434416516572977
         ]
        },
        {
         "line": {
          "color": "red",
          "dash": "dash"
         },
         "mode": "lines",
         "name": "Band 2 : vs = 2674.165 m/s",
         "type": "scatter",
         "x": [
          0.9893405602752732,
          1.030250294563889,
          1.071160028852505,
          1.1120697631411207,
          1.1529794974297367,
          1.1938892317183525,
          1.2347989660069683,
          1.275708700295584,
          1.3166184345842,
          1.357528168872816,
          1.3984379031614318,
          1.4393476374500476,
          1.4802573717386633,
          1.5211671060272793,
          1.562076840315895,
          1.602986574604511,
          1.6438963088931269,
          1.6848060431817427,
          1.7257157774703586,
          1.7666255117589744,
          1.8075352460475904,
          1.8484449803362062,
          1.889354714624822,
          1.9302644489134377,
          1.9711741832020537,
          2.0120839174906697,
          2.0529936517792855,
          2.0939033860679013,
          2.134813120356517,
          2.175722854645133,
          2.2166325889337486,
          2.257542323222365,
          2.2984520575109806,
          2.3393617917995964,
          2.3802715260882126,
          2.4211812603768283,
          2.462090994665444,
          2.50300072895406,
          2.5439104632426757,
          2.5848201975312914,
          2.625729931819907,
          2.666639666108523,
          2.707549400397139,
          2.748459134685755,
          2.7893688689743708,
          2.830278603262987,
          2.8711883375516027,
          2.9120980718402185,
          2.9530078061288343,
          2.99391754041745,
          3.034827274706066,
          3.075737008994682,
          3.116646743283298,
          3.1575564775719136,
          3.1984662118605294,
          3.239375946149145,
          3.280285680437761,
          3.321195414726377,
          3.362105149014993,
          3.4030148833036087,
          3.4439246175922245,
          3.4848343518808402,
          3.5257440861694564,
          3.566653820458072,
          3.607563554746688,
          3.6484732890353038,
          3.6893830233239195,
          3.7302927576125358,
          3.7712024919011515,
          3.8121122261897673,
          3.853021960478383,
          3.893931694766999,
          3.934841429055615,
          3.975751163344231,
          4.016660897632846,
          4.057570631921463,
          4.098480366210078,
          4.139390100498694,
          4.18029983478731,
          4.221209569075926,
          4.262119303364542,
          4.3030290376531575,
          4.343938771941773,
          4.384848506230389,
          4.425758240519006,
          4.466667974807621,
          4.507577709096237,
          4.548487443384852,
          4.589397177673469,
          4.6303069119620845,
          4.6712166462507,
          4.712126380539316,
          4.753036114827932,
          4.793945849116548,
          4.834855583405163,
          4.87576531769378,
          4.916675051982395,
          4.957584786271012,
          4.9984945205596265,
          5.039404254848243
         ],
         "y": [
          8.725205600479615,
          8.551091087026162,
          8.376976573572705,
          8.202862060119251,
          8.028747546665796,
          7.854633033212342,
          7.680518519758888,
          7.506404006305433,
          7.332289492851979,
          7.158174979398524,
          6.98406046594507,
          6.809945952491615,
          6.635831439038161,
          6.461716925584706,
          6.2876024121312515,
          6.113487898677796,
          5.939373385224342,
          5.765258871770889,
          5.591144358317433,
          5.417029844863979,
          5.242915331410524,
          5.06880081795707,
          4.894686304503615,
          4.720571791050162,
          4.546457277596707,
          4.3723427641432515,
          4.198228250689796,
          4.024113737236343,
          3.8499992237828877,
          3.6758847103294343,
          3.501770196875981,
          3.327655683422524,
          3.1535411699690705,
          2.9794266565156153,
          2.80531214306216,
          2.631197629608705,
          2.4570831161552515,
          2.2829686027017964,
          2.108854089248343,
          1.9347395757948895,
          1.7606250623414343,
          1.586510548887981,
          1.412396035434524,
          1.2382815219810706,
          1.0641670085276154,
          0.8900524950741602,
          0.715937981620705,
          0.5418234681672516,
          0.36770895471379816,
          0.19359444126034298,
          0.019479927806889563,
          -0.1546345856465674,
          -0.3287490991000208,
          -0.502863612553476,
          -0.6769781260069294,
          -0.8510926394603846,
          -1.025207152913838,
          -1.1993216663672932,
          -1.3734361798207484,
          -1.5475506932742018,
          -1.721665206727657,
          -1.8957797201811104,
          -2.0698942336345674,
          -2.244008747088021,
          -2.418123260541476,
          -2.5922377739949294,
          -2.766352287448383,
          -2.9404668009018398,
          -3.114581314355295,
          -3.2886958278087484,
          -3.4628103412622018,
          -3.636924854715655,
          -3.811039368169112,
          -3.9851538816225656,
          -4.159268395076019,
          -4.333382908529476,
          -4.507497421982926,
          -4.681611935436386,
          -4.85572644888984,
          -5.029840962343293,
          -5.2039554757967466,
          -5.3780699892502035,
          -5.552184502703657,
          -5.72629901615711,
          -5.900413529610567,
          -6.074528043064017,
          -6.248642556517478,
          -6.4227570699709275,
          -6.5968715834243845,
          -6.770986096877838,
          -6.945100610331295,
          -7.119215123784748,
          -7.293329637238202,
          -7.467444150691655,
          -7.6415586641451085,
          -7.815673177598569,
          -7.989787691052019,
          -8.163902204505476,
          -8.338016717958926,
          -8.512131231412386
         ]
        },
        {
         "line": {
          "color": "green",
          "dash": "dash"
         },
         "mode": "lines",
         "name": "Band 3 : vs = 4944.604 m/s",
         "type": "scatter",
         "x": [
          1.0394042548482427,
          1.0803454579466034,
          1.121286661044964,
          1.1622278641433248,
          1.2031690672416855,
          1.2441102703400462,
          1.2850514734384069,
          1.3259926765367676,
          1.3669338796351282,
          1.407875082733489,
          1.4488162858318496,
          1.4897574889302103,
          1.530698692028571,
          1.5716398951269317,
          1.6125810982252924,
          1.653522301323653,
          1.6944635044220138,
          1.7354047075203745,
          1.7763459106187351,
          1.8172871137170958,
          1.8582283168154565,
          1.8991695199138172,
          1.940110723012178,
          1.9810519261105386,
          2.0219931292088993,
          2.06293433230726,
          2.1038755354056207,
          2.144816738503981,
          2.185757941602342,
          2.226699144700703,
          2.2676403477990634,
          2.308581550897424,
          2.349522753995785,
          2.3904639570941457,
          2.431405160192506,
          2.4723463632908667,
          2.5132875663892276,
          2.5542287694875885,
          2.595169972585949,
          2.6361111756843094,
          2.6770523787826703,
          2.7179935818810312,
          2.7589347849793917,
          2.799875988077752,
          2.840817191176113,
          2.881758394274474,
          2.9226995973728345,
          2.963640800471195,
          3.004582003569556,
          3.0455232066679163,
          3.0864644097662772,
          3.127405612864638,
          3.1683468159629986,
          3.209288019061359,
          3.25022922215972,
          3.291170425258081,
          3.3321116283564414,
          3.373052831454802,
          3.4139940345531627,
          3.4549352376515237,
          3.495876440749884,
          3.5368176438482446,
          3.5777588469466055,
          3.6187000500449664,
          3.659641253143327,
          3.7005824562416874,
          3.7415236593400483,
          3.782464862438409,
          3.8234060655367696,
          3.86434726863513,
          3.905288471733491,
          3.946229674831852,
          3.9871708779302124,
          4.028112081028572,
          4.069053284126934,
          4.109994487225295,
          4.150935690323655,
          4.191876893422016,
          4.2328180965203765,
          4.273759299618737,
          4.314700502717098,
          4.355641705815458,
          4.396582908913819,
          4.437524112012181,
          4.47846531511054,
          4.519406518208902,
          4.560347721307262,
          4.6012889244056225,
          4.642230127503984,
          4.6831713306023435,
          4.724112533700705,
          4.765053736799066,
          4.805994939897426,
          4.846936142995787,
          4.887877346094148,
          4.928818549192508,
          4.969759752290869,
          5.010700955389229,
          5.05164215848759,
          5.092583361585952
         ],
         "y": [
          -15.739162508906833,
          -15.416972384469204,
          -15.094782260031575,
          -14.772592135593946,
          -14.450402011156317,
          -14.128211886718686,
          -13.806021762281057,
          -13.483831637843428,
          -13.1616415134058,
          -12.839451388968168,
          -12.51726126453054,
          -12.19507114009291,
          -11.872881015655281,
          -11.550690891217652,
          -11.228500766780021,
          -10.906310642342392,
          -10.584120517904763,
          -10.261930393467134,
          -9.939740269029503,
          -9.617550144591874,
          -9.295360020154245,
          -8.973169895716616,
          -8.650979771278987,
          -8.328789646841356,
          -8.006599522403727,
          -7.684409397966096,
          -7.362219273528467,
          -7.0400291490908415,
          -6.717839024653209,
          -6.395648900215576,
          -6.073458775777951,
          -5.751268651340322,
          -5.429078526902693,
          -5.10688840246506,
          -4.784698278027431,
          -4.4625081535898055,
          -4.140318029152173,
          -3.8181279047145438,
          -3.4959377802769147,
          -3.1737476558392856,
          -2.8515575314016566,
          -2.529367406964024,
          -2.2071772825263984,
          -1.8849871580887694,
          -1.5627970336511368,
          -1.2406069092135077,
          -0.9184167847758786,
          -0.5962266603382496,
          -0.2740365359006205,
          0.048153588537008574,
          0.37034371297463764,
          0.6925338374122703,
          1.0147239618498993,
          1.3369140862875248,
          1.6591042107251575,
          1.9812943351627865,
          2.3034844596004156,
          2.6256745840380447,
          2.9478647084756737,
          3.2700548329133063,
          3.5922449573509354,
          3.914435081788561,
          4.2366252062261935,
          4.558815330663823,
          4.881005455101452,
          5.203195579539081,
          5.52538570397671,
          5.847575828414342,
          6.169765952851968,
          6.491956077289597,
          6.81414620172723,
          7.136336326164859,
          7.458526450602488,
          7.780716575040113,
          8.10290669947775,
          8.425096823915382,
          8.747286948353,
          9.069477072790633,
          9.391667197228266,
          9.713857321665891,
          10.036047446103524,
          10.35823757054115,
          10.680427694978782,
          11.002617819416415,
          11.32480794385404,
          11.646998068291673,
          11.969188192729298,
          12.29137831716693,
          12.613568441604563,
          12.935758566042182,
          13.257948690479815,
          13.580138814917454,
          13.902328939355073,
          14.224519063792705,
          14.546709188230338,
          14.868899312667963,
          15.191089437105596,
          15.513279561543222,
          15.835469685980854,
          16.157659810418487
         ]
        }
       ],
       "layout": {
        "shapes": [
         {
          "line": {
           "color": "black",
           "width": 1
          },
          "type": "line",
          "x0": 0.9551112298727411,
          "x1": 0.9551112298727411,
          "xref": "x",
          "y0": 0,
          "y1": 1,
          "yref": "y domain"
         },
         {
          "line": {
           "color": "black",
           "width": 1
          },
          "type": "line",
          "x0": 1.5549139390014608,
          "x1": 1.5549139390014608,
          "xref": "x",
          "y0": 0,
          "y1": 1,
          "yref": "y domain"
         },
         {
          "line": {
           "color": "black",
           "width": 1
          },
          "type": "line",
          "x0": 2.5888310036951205,
          "x1": 2.5888310036951205,
          "xref": "x",
          "y0": 0,
          "y1": 1,
          "yref": "y domain"
         },
         {
          "line": {
           "color": "black",
           "width": 1
          },
          "type": "line",
          "x0": 3.0394042548482427,
          "x1": 3.0394042548482427,
          "xref": "x",
          "y0": 0,
          "y1": 1,
          "yref": "y domain"
         },
         {
          "line": {
           "color": "black",
           "width": 1
          },
          "type": "line",
          "x0": 4.156165496323792,
          "x1": 4.156165496323792,
          "xref": "x",
          "y0": 0,
          "y1": 1,
          "yref": "y domain"
         },
         {
          "line": {
           "color": "black",
           "width": 1
          },
          "type": "line",
          "x0": 4.673124028674778,
          "x1": 4.673124028674778,
          "xref": "x",
          "y0": 0,
          "y1": 1,
          "yref": "y domain"
         },
         {
          "line": {
           "color": "black",
           "width": 1
          },
          "type": "line",
          "x0": 4.83074725297036,
          "x1": 4.83074725297036,
          "xref": "x",
          "y0": 0,
          "y1": 1,
          "yref": "y domain"
         },
         {
          "line": {
           "color": "black",
           "width": 1
          },
          "type": "line",
          "x0": 5.72614569639891,
          "x1": 5.72614569639891,
          "xref": "x",
          "y0": 0,
          "y1": 1,
          "yref": "y domain"
         }
        ],
        "template": {
         "data": {
          "bar": [
           {
            "error_x": {
             "color": "#2a3f5f"
            },
            "error_y": {
             "color": "#2a3f5f"
            },
            "marker": {
             "line": {
              "color": "#E5ECF6",
              "width": 0.5
             },
             "pattern": {
              "fillmode": "overlay",
              "size": 10,
              "solidity": 0.2
             }
            },
            "type": "bar"
           }
          ],
          "barpolar": [
           {
            "marker": {
             "line": {
              "color": "#E5ECF6",
              "width": 0.5
             },
             "pattern": {
              "fillmode": "overlay",
              "size": 10,
              "solidity": 0.2
             }
            },
            "type": "barpolar"
           }
          ],
          "carpet": [
           {
            "aaxis": {
             "endlinecolor": "#2a3f5f",
             "gridcolor": "white",
             "linecolor": "white",
             "minorgridcolor": "white",
             "startlinecolor": "#2a3f5f"
            },
            "baxis": {
             "endlinecolor": "#2a3f5f",
             "gridcolor": "white",
             "linecolor": "white",
             "minorgridcolor": "white",
             "startlinecolor": "#2a3f5f"
            },
            "type": "carpet"
           }
          ],
          "choropleth": [
           {
            "colorbar": {
             "outlinewidth": 0,
             "ticks": ""
            },
            "type": "choropleth"
           }
          ],
          "contour": [
           {
            "colorbar": {
             "outlinewidth": 0,
             "ticks": ""
            },
            "colorscale": [
             [
              0,
              "#0d0887"
             ],
             [
              0.1111111111111111,
              "#46039f"
             ],
             [
              0.2222222222222222,
              "#7201a8"
             ],
             [
              0.3333333333333333,
              "#9c179e"
             ],
             [
              0.4444444444444444,
              "#bd3786"
             ],
             [
              0.5555555555555556,
              "#d8576b"
             ],
             [
              0.6666666666666666,
              "#ed7953"
             ],
             [
              0.7777777777777778,
              "#fb9f3a"
             ],
             [
              0.8888888888888888,
              "#fdca26"
             ],
             [
              1,
              "#f0f921"
             ]
            ],
            "type": "contour"
           }
          ],
          "contourcarpet": [
           {
            "colorbar": {
             "outlinewidth": 0,
             "ticks": ""
            },
            "type": "contourcarpet"
           }
          ],
          "heatmap": [
           {
            "colorbar": {
             "outlinewidth": 0,
             "ticks": ""
            },
            "colorscale": [
             [
              0,
              "#0d0887"
             ],
             [
              0.1111111111111111,
              "#46039f"
             ],
             [
              0.2222222222222222,
              "#7201a8"
             ],
             [
              0.3333333333333333,
              "#9c179e"
             ],
             [
              0.4444444444444444,
              "#bd3786"
             ],
             [
              0.5555555555555556,
              "#d8576b"
             ],
             [
              0.6666666666666666,
              "#ed7953"
             ],
             [
              0.7777777777777778,
              "#fb9f3a"
             ],
             [
              0.8888888888888888,
              "#fdca26"
             ],
             [
              1,
              "#f0f921"
             ]
            ],
            "type": "heatmap"
           }
          ],
          "heatmapgl": [
           {
            "colorbar": {
             "outlinewidth": 0,
             "ticks": ""
            },
            "colorscale": [
             [
              0,
              "#0d0887"
             ],
             [
              0.1111111111111111,
              "#46039f"
             ],
             [
              0.2222222222222222,
              "#7201a8"
             ],
             [
              0.3333333333333333,
              "#9c179e"
             ],
             [
              0.4444444444444444,
              "#bd3786"
             ],
             [
              0.5555555555555556,
              "#d8576b"
             ],
             [
              0.6666666666666666,
              "#ed7953"
             ],
             [
              0.7777777777777778,
              "#fb9f3a"
             ],
             [
              0.8888888888888888,
              "#fdca26"
             ],
             [
              1,
              "#f0f921"
             ]
            ],
            "type": "heatmapgl"
           }
          ],
          "histogram": [
           {
            "marker": {
             "pattern": {
              "fillmode": "overlay",
              "size": 10,
              "solidity": 0.2
             }
            },
            "type": "histogram"
           }
          ],
          "histogram2d": [
           {
            "colorbar": {
             "outlinewidth": 0,
             "ticks": ""
            },
            "colorscale": [
             [
              0,
              "#0d0887"
             ],
             [
              0.1111111111111111,
              "#46039f"
             ],
             [
              0.2222222222222222,
              "#7201a8"
             ],
             [
              0.3333333333333333,
              "#9c179e"
             ],
             [
              0.4444444444444444,
              "#bd3786"
             ],
             [
              0.5555555555555556,
              "#d8576b"
             ],
             [
              0.6666666666666666,
              "#ed7953"
             ],
             [
              0.7777777777777778,
              "#fb9f3a"
             ],
             [
              0.8888888888888888,
              "#fdca26"
             ],
             [
              1,
              "#f0f921"
             ]
            ],
            "type": "histogram2d"
           }
          ],
          "histogram2dcontour": [
           {
            "colorbar": {
             "outlinewidth": 0,
             "ticks": ""
            },
            "colorscale": [
             [
              0,
              "#0d0887"
             ],
             [
              0.1111111111111111,
              "#46039f"
             ],
             [
              0.2222222222222222,
              "#7201a8"
             ],
             [
              0.3333333333333333,
              "#9c179e"
             ],
             [
              0.4444444444444444,
              "#bd3786"
             ],
             [
              0.5555555555555556,
              "#d8576b"
             ],
             [
              0.6666666666666666,
              "#ed7953"
             ],
             [
              0.7777777777777778,
              "#fb9f3a"
             ],
             [
              0.8888888888888888,
              "#fdca26"
             ],
             [
              1,
              "#f0f921"
             ]
            ],
            "type": "histogram2dcontour"
           }
          ],
          "mesh3d": [
           {
            "colorbar": {
             "outlinewidth": 0,
             "ticks": ""
            },
            "type": "mesh3d"
           }
          ],
          "parcoords": [
           {
            "line": {
             "colorbar": {
              "outlinewidth": 0,
              "ticks": ""
             }
            },
            "type": "parcoords"
           }
          ],
          "pie": [
           {
            "automargin": true,
            "type": "pie"
           }
          ],
          "scatter": [
           {
            "fillpattern": {
             "fillmode": "overlay",
             "size": 10,
             "solidity": 0.2
            },
            "type": "scatter"
           }
          ],
          "scatter3d": [
           {
            "line": {
             "colorbar": {
              "outlinewidth": 0,
              "ticks": ""
             }
            },
            "marker": {
             "colorbar": {
              "outlinewidth": 0,
              "ticks": ""
             }
            },
            "type": "scatter3d"
           }
          ],
          "scattercarpet": [
           {
            "marker": {
             "colorbar": {
              "outlinewidth": 0,
              "ticks": ""
             }
            },
            "type": "scattercarpet"
           }
          ],
          "scattergeo": [
           {
            "marker": {
             "colorbar": {
              "outlinewidth": 0,
              "ticks": ""
             }
            },
            "type": "scattergeo"
           }
          ],
          "scattergl": [
           {
            "marker": {
             "colorbar": {
              "outlinewidth": 0,
              "ticks": ""
             }
            },
            "type": "scattergl"
           }
          ],
          "scattermapbox": [
           {
            "marker": {
             "colorbar": {
              "outlinewidth": 0,
              "ticks": ""
             }
            },
            "type": "scattermapbox"
           }
          ],
          "scatterpolar": [
           {
            "marker": {
             "colorbar": {
              "outlinewidth": 0,
              "ticks": ""
             }
            },
            "type": "scatterpolar"
           }
          ],
          "scatterpolargl": [
           {
            "marker": {
             "colorbar": {
              "outlinewidth": 0,
              "ticks": ""
             }
            },
            "type": "scatterpolargl"
           }
          ],
          "scatterternary": [
           {
            "marker": {
             "colorbar": {
              "outlinewidth": 0,
              "ticks": ""
             }
            },
            "type": "scatterternary"
           }
          ],
          "surface": [
           {
            "colorbar": {
             "outlinewidth": 0,
             "ticks": ""
            },
            "colorscale": [
             [
              0,
              "#0d0887"
             ],
             [
              0.1111111111111111,
              "#46039f"
             ],
             [
              0.2222222222222222,
              "#7201a8"
             ],
             [
              0.3333333333333333,
              "#9c179e"
             ],
             [
              0.4444444444444444,
              "#bd3786"
             ],
             [
              0.5555555555555556,
              "#d8576b"
             ],
             [
              0.6666666666666666,
              "#ed7953"
             ],
             [
              0.7777777777777778,
              "#fb9f3a"
             ],
             [
              0.8888888888888888,
              "#fdca26"
             ],
             [
              1,
              "#f0f921"
             ]
            ],
            "type": "surface"
           }
          ],
          "table": [
           {
            "cells": {
             "fill": {
              "color": "#EBF0F8"
             },
             "line": {
              "color": "white"
             }
            },
            "header": {
             "fill": {
              "color": "#C8D4E3"
             },
             "line": {
              "color": "white"
             }
            },
            "type": "table"
           }
          ]
         },
         "layout": {
          "annotationdefaults": {
           "arrowcolor": "#2a3f5f",
           "arrowhead": 0,
           "arrowwidth": 1
          },
          "autotypenumbers": "strict",
          "coloraxis": {
           "colorbar": {
            "outlinewidth": 0,
            "ticks": ""
           }
          },
          "colorscale": {
           "diverging": [
            [
             0,
             "#8e0152"
            ],
            [
             0.1,
             "#c51b7d"
            ],
            [
             0.2,
             "#de77ae"
            ],
            [
             0.3,
             "#f1b6da"
            ],
            [
             0.4,
             "#fde0ef"
            ],
            [
             0.5,
             "#f7f7f7"
            ],
            [
             0.6,
             "#e6f5d0"
            ],
            [
             0.7,
             "#b8e186"
            ],
            [
             0.8,
             "#7fbc41"
            ],
            [
             0.9,
             "#4d9221"
            ],
            [
             1,
             "#276419"
            ]
           ],
           "sequential": [
            [
             0,
             "#0d0887"
            ],
            [
             0.1111111111111111,
             "#46039f"
            ],
            [
             0.2222222222222222,
             "#7201a8"
            ],
            [
             0.3333333333333333,
             "#9c179e"
            ],
            [
             0.4444444444444444,
             "#bd3786"
            ],
            [
             0.5555555555555556,
             "#d8576b"
            ],
            [
             0.6666666666666666,
             "#ed7953"
            ],
            [
             0.7777777777777778,
             "#fb9f3a"
            ],
            [
             0.8888888888888888,
             "#fdca26"
            ],
            [
             1,
             "#f0f921"
            ]
           ],
           "sequentialminus": [
            [
             0,
             "#0d0887"
            ],
            [
             0.1111111111111111,
             "#46039f"
            ],
            [
             0.2222222222222222,
             "#7201a8"
            ],
            [
             0.3333333333333333,
             "#9c179e"
            ],
            [
             0.4444444444444444,
             "#bd3786"
            ],
            [
             0.5555555555555556,
             "#d8576b"
            ],
            [
             0.6666666666666666,
             "#ed7953"
            ],
            [
             0.7777777777777778,
             "#fb9f3a"
            ],
            [
             0.8888888888888888,
             "#fdca26"
            ],
            [
             1,
             "#f0f921"
            ]
           ]
          },
          "colorway": [
           "#636efa",
           "#EF553B",
           "#00cc96",
           "#ab63fa",
           "#FFA15A",
           "#19d3f3",
           "#FF6692",
           "#B6E880",
           "#FF97FF",
           "#FECB52"
          ],
          "font": {
           "color": "#2a3f5f"
          },
          "geo": {
           "bgcolor": "white",
           "lakecolor": "white",
           "landcolor": "#E5ECF6",
           "showlakes": true,
           "showland": true,
           "subunitcolor": "white"
          },
          "hoverlabel": {
           "align": "left"
          },
          "hovermode": "closest",
          "mapbox": {
           "style": "light"
          },
          "paper_bgcolor": "white",
          "plot_bgcolor": "#E5ECF6",
          "polar": {
           "angularaxis": {
            "gridcolor": "white",
            "linecolor": "white",
            "ticks": ""
           },
           "bgcolor": "#E5ECF6",
           "radialaxis": {
            "gridcolor": "white",
            "linecolor": "white",
            "ticks": ""
           }
          },
          "scene": {
           "xaxis": {
            "backgroundcolor": "#E5ECF6",
            "gridcolor": "white",
            "gridwidth": 2,
            "linecolor": "white",
            "showbackground": true,
            "ticks": "",
            "zerolinecolor": "white"
           },
           "yaxis": {
            "backgroundcolor": "#E5ECF6",
            "gridcolor": "white",
            "gridwidth": 2,
            "linecolor": "white",
            "showbackground": true,
            "ticks": "",
            "zerolinecolor": "white"
           },
           "zaxis": {
            "backgroundcolor": "#E5ECF6",
            "gridcolor": "white",
            "gridwidth": 2,
            "linecolor": "white",
            "showbackground": true,
            "ticks": "",
            "zerolinecolor": "white"
           }
          },
          "shapedefaults": {
           "line": {
            "color": "#2a3f5f"
           }
          },
          "ternary": {
           "aaxis": {
            "gridcolor": "white",
            "linecolor": "white",
            "ticks": ""
           },
           "baxis": {
            "gridcolor": "white",
            "linecolor": "white",
            "ticks": ""
           },
           "bgcolor": "#E5ECF6",
           "caxis": {
            "gridcolor": "white",
            "linecolor": "white",
            "ticks": ""
           }
          },
          "title": {
           "x": 0.05
          },
          "xaxis": {
           "automargin": true,
           "gridcolor": "white",
           "linecolor": "white",
           "ticks": "",
           "title": {
            "standoff": 15
           },
           "zerolinecolor": "white",
           "zerolinewidth": 2
          },
          "yaxis": {
           "automargin": true,
           "gridcolor": "white",
           "linecolor": "white",
           "ticks": "",
           "title": {
            "standoff": 15
           },
           "zerolinecolor": "white",
           "zerolinewidth": 2
          }
         }
        },
        "xaxis": {
         "mirror": true,
         "range": [
          0.9893405602752732,
          5.039404254848243
         ],
         "showgrid": false,
         "ticklen": 0,
         "ticks": "inside",
         "ticktext": [
          "Î“",
          "L",
          "B_1|B",
          "Z",
          "Î“",
          "X|Q",
          "F",
          "P_1",
          "Z|L",
          "P"
         ],
         "tickvals": [
          0,
          0.9551112298727411,
          1.5549139390014608,
          2.5888310036951205,
          3.0394042548482427,
          4.156165496323792,
          4.673124028674778,
          4.83074725297036,
          5.72614569639891,
          6.030312041878273
         ],
         "title": {
          "text": "Wave Vector"
         }
        },
        "yaxis": {
         "mirror": true,
         "range": [
          0,
          3.2130743690672325
         ],
         "showgrid": false,
         "ticklen": 10,
         "ticks": "inside",
         "title": {
          "text": "Frequencies (THz)"
         }
        }
       }
      }
     },
     "metadata": {},
     "output_type": "display_data"
    }
   ],
   "source": [
    "# Main Code\n",
    "f_list = [[f[0][0][0], f[0][0][1]], [f[3][1][-2], f[3][1][-1]], [f[4][2][0], f[4][2][1]]]\n",
    "q_list = [[q[0][0], q[0][1]],       [q[3][-2], q[3][-1]],       [q[4][0], q[4][1]]]\n",
    "\n",
    "ph_bs.bands = ph_bs.bands[0:3]\n",
    "\n",
    "fig_ph_bs = get_plot_bs(ph_bs, plot_range=[0, 5])\n",
    "color = ['blue', 'blue', 'red', 'red', 'green', 'green']\n",
    "\n",
    "labels = [\n",
    "    f'Band 1 : vs = {v_list[0]:.3f} m/s',\n",
    "    f'Band 2 : vs = {v_list[1]:.3f} m/s',\n",
    "    f'Band 3 : vs = {v_list[2]:.3f} m/s'\n",
    "]\n",
    "# Add points and dashed lines\n",
    "add_scattered_points(fig_ph_bs, q_list, f_list, color)\n",
    "add_dashed_lines(fig_ph_bs, q_list, f_list, color,labels)\n",
    "\n",
    "zoom_into_region(fig_ph_bs, q_list[0], f_list[0],xleft=0)\n",
    "fig_ph_bs.show()\n",
    "\n",
    "zoom_into_region(fig_ph_bs, q_list[1], f_list[1])\n",
    "fig_ph_bs.show()\n"
   ]
  },
  {
   "cell_type": "markdown",
   "metadata": {},
   "source": [
    "#### Commentaire :\n",
    "\n",
    "Il y a trois courbes de dispersions différentes. La fréquence ne tend vers 0 que pour 3 directions différentes : $\\Gamma-L$,  $Z-\\Gamma$.   $\\Gamma-X|Q$. Comme prévu, la vitesse est plus grande pour des droite plus raides."
   ]
  },
  {
   "cell_type": "markdown",
   "metadata": {},
   "source": [
    "## Source\n",
    "\n",
    "Copylot a été utilisé pour générer les fonctions du point \"4.2 Visualisation\"."
   ]
  }
 ],
 "metadata": {
  "kernelspec": {
   "display_name": "Python 3",
   "language": "python",
   "name": "python3"
  },
  "language_info": {
   "codemirror_mode": {
    "name": "ipython",
    "version": 3
   },
   "file_extension": ".py",
   "mimetype": "text/x-python",
   "name": "python",
   "nbconvert_exporter": "python",
   "pygments_lexer": "ipython3",
   "version": "3.12.2"
  }
 },
 "nbformat": 4,
 "nbformat_minor": 2
}
